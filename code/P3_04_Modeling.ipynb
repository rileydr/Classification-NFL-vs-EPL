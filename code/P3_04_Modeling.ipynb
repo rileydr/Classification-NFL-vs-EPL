{
 "cells": [
  {
   "cell_type": "markdown",
   "metadata": {},
   "source": [
    "<span style=\"font-family:Trebuchet MS; font-size:2em;\">Project 3 | NB4: Modeling</span>\n",
    "\n",
    "Riley Robertson | Reddit Classification Project | "
   ]
  },
  {
   "cell_type": "markdown",
   "metadata": {},
   "source": [
    "## Imports"
   ]
  },
  {
   "cell_type": "code",
   "execution_count": 169,
   "metadata": {
    "ExecuteTime": {
     "end_time": "2021-05-01T00:42:59.000953Z",
     "start_time": "2021-05-01T00:42:58.997073Z"
    }
   },
   "outputs": [],
   "source": [
    "# Basic\n",
    "import pandas as pd\n",
    "import numpy as np\n",
    "import matplotlib.pyplot as plt\n",
    "\n",
    "# Custom\n",
    "import utilities.densmore as dns\n",
    "\n",
    "\n",
    "# Modeling\n",
    "from sklearn.feature_extraction import text \n",
    "from sklearn.feature_extraction.text import CountVectorizer, TfidfVectorizer\n",
    "\n",
    "from sklearn.model_selection import train_test_split, RandomizedSearchCV, GridSearchCV\n",
    "from sklearn.pipeline import Pipeline\n",
    "\n",
    "from sklearn.preprocessing import StandardScaler\n",
    "from sklearn.linear_model import LogisticRegression\n",
    "from sklearn.ensemble import RandomForestClassifier\n",
    "\n",
    "from sklearn.metrics import confusion_matrix, plot_confusion_matrix\n",
    "from sklearn.metrics import recall_score, precision_score, accuracy_score\n",
    "\n",
    "# Plots\n",
    "from IPython.display import set_matplotlib_formats\n",
    "set_matplotlib_formats('svg')"
   ]
  },
  {
   "cell_type": "markdown",
   "metadata": {},
   "source": [
    "---"
   ]
  },
  {
   "cell_type": "markdown",
   "metadata": {},
   "source": [
    "## Reading in CSV files from data collection"
   ]
  },
  {
   "cell_type": "code",
   "execution_count": 2,
   "metadata": {
    "ExecuteTime": {
     "end_time": "2021-04-30T07:35:30.885205Z",
     "start_time": "2021-04-30T07:35:30.714536Z"
    }
   },
   "outputs": [],
   "source": [
    "df_m = pd.read_csv('../data/reddit_posts_clean_modeling.csv')"
   ]
  },
  {
   "cell_type": "code",
   "execution_count": 3,
   "metadata": {
    "ExecuteTime": {
     "end_time": "2021-04-30T07:35:30.904123Z",
     "start_time": "2021-04-30T07:35:30.892006Z"
    }
   },
   "outputs": [
    {
     "data": {
      "text/plain": [
       "(12534, 57)"
      ]
     },
     "execution_count": 3,
     "metadata": {},
     "output_type": "execute_result"
    }
   ],
   "source": [
    "df_m.shape"
   ]
  },
  {
   "cell_type": "markdown",
   "metadata": {},
   "source": [
    "# Modeling"
   ]
  },
  {
   "cell_type": "markdown",
   "metadata": {},
   "source": [
    "## Setup"
   ]
  },
  {
   "cell_type": "markdown",
   "metadata": {},
   "source": [
    "### Train/Test Split"
   ]
  },
  {
   "cell_type": "code",
   "execution_count": 4,
   "metadata": {
    "ExecuteTime": {
     "end_time": "2021-04-30T07:35:30.929442Z",
     "start_time": "2021-04-30T07:35:30.908205Z"
    }
   },
   "outputs": [],
   "source": [
    "X = df_m.drop(columns=['subreddit', 'target'])\n",
    "y = df_m['target']"
   ]
  },
  {
   "cell_type": "code",
   "execution_count": 5,
   "metadata": {
    "ExecuteTime": {
     "end_time": "2021-04-30T07:35:30.953074Z",
     "start_time": "2021-04-30T07:35:30.935785Z"
    }
   },
   "outputs": [],
   "source": [
    "X_train, X_test, y_train, y_test = train_test_split(X, y, random_state=74, stratify=y)"
   ]
  },
  {
   "cell_type": "code",
   "execution_count": 6,
   "metadata": {
    "ExecuteTime": {
     "end_time": "2021-04-30T07:35:30.969116Z",
     "start_time": "2021-04-30T07:35:30.962477Z"
    }
   },
   "outputs": [],
   "source": [
    "# X_train.head()\n",
    "# X_test.head()"
   ]
  },
  {
   "cell_type": "markdown",
   "metadata": {},
   "source": [
    "### Vectorizing"
   ]
  },
  {
   "cell_type": "code",
   "execution_count": 7,
   "metadata": {
    "ExecuteTime": {
     "end_time": "2021-04-30T07:35:30.977083Z",
     "start_time": "2021-04-30T07:35:30.974069Z"
    }
   },
   "outputs": [],
   "source": [
    "# add_stop_words = []\n",
    "stp_wds = text.ENGLISH_STOP_WORDS #.union(add_stop_words) # uncomment list and .union() to add stop words"
   ]
  },
  {
   "cell_type": "code",
   "execution_count": 8,
   "metadata": {
    "ExecuteTime": {
     "end_time": "2021-04-30T07:35:30.984884Z",
     "start_time": "2021-04-30T07:35:30.978809Z"
    }
   },
   "outputs": [],
   "source": [
    "tvec = TfidfVectorizer(stop_words=stp_wds)                # instantiate vectorizer\n",
    "\n",
    "X_train_tvec = tvec.fit_transform(X_train['alltext'])     # fit/transform X_train\n",
    "X_test_tvec = tvec.transform(X_test['alltext'])           # transform X_test"
   ]
  },
  {
   "cell_type": "code",
   "execution_count": 81,
   "metadata": {
    "ExecuteTime": {
     "end_time": "2021-04-30T09:42:07.617465Z",
     "start_time": "2021-04-30T09:42:07.611483Z"
    },
    "scrolled": true
   },
   "outputs": [
    {
     "data": {
      "text/plain": [
       "scipy.sparse.csr.csr_matrix"
      ]
     },
     "execution_count": 81,
     "metadata": {},
     "output_type": "execute_result"
    }
   ],
   "source": [
    "type(X_train_tvec)       # sparse matrix"
   ]
  },
  {
   "cell_type": "code",
   "execution_count": 80,
   "metadata": {
    "ExecuteTime": {
     "end_time": "2021-04-30T09:40:20.212147Z",
     "start_time": "2021-04-30T09:40:19.760043Z"
    }
   },
   "outputs": [
    {
     "data": {
      "text/plain": [
       "matrix([[0., 0., 0., ..., 0., 0., 0.],\n",
       "        [0., 0., 0., ..., 0., 0., 0.],\n",
       "        [0., 0., 0., ..., 0., 0., 0.],\n",
       "        ...,\n",
       "        [0., 0., 0., ..., 0., 0., 0.],\n",
       "        [0., 0., 0., ..., 0., 0., 0.],\n",
       "        [0., 0., 0., ..., 0., 0., 0.]])"
      ]
     },
     "execution_count": 80,
     "metadata": {},
     "output_type": "execute_result"
    }
   ],
   "source": [
    "X_train_tvec.todense()   # dense matrix"
   ]
  },
  {
   "cell_type": "code",
   "execution_count": 78,
   "metadata": {
    "ExecuteTime": {
     "end_time": "2021-04-30T09:39:25.054743Z",
     "start_time": "2021-04-30T09:39:24.575929Z"
    }
   },
   "outputs": [],
   "source": [
    "X_train_df = pd.DataFrame(X_train_tvec.todense(), columns=tvec.get_feature_names())\n",
    "# X_train_df.head()"
   ]
  },
  {
   "cell_type": "code",
   "execution_count": 12,
   "metadata": {
    "ExecuteTime": {
     "end_time": "2021-04-30T07:35:33.604074Z",
     "start_time": "2021-04-30T07:35:33.236400Z"
    }
   },
   "outputs": [],
   "source": [
    "X_test_df = pd.DataFrame(X_test_tvec.todense(), columns=tvec.get_feature_names())\n",
    "# X_test_df.head()"
   ]
  },
  {
   "cell_type": "code",
   "execution_count": 13,
   "metadata": {
    "ExecuteTime": {
     "end_time": "2021-04-30T07:35:33.609640Z",
     "start_time": "2021-04-30T07:35:33.606571Z"
    }
   },
   "outputs": [],
   "source": [
    "X_train_df.reset_index(drop=True, inplace=True)      # reset train_df index after transform\n",
    "X_train.reset_index(drop=True, inplace=True)         # reset original X_train to match for concat\n",
    "\n",
    "X_test.reset_index(drop=True, inplace=True)          # reset test_df index after transform\n",
    "X_test_df.reset_index(drop=True, inplace = True)     # reset original X_test to match for concat"
   ]
  },
  {
   "cell_type": "code",
   "execution_count": 70,
   "metadata": {
    "ExecuteTime": {
     "end_time": "2021-04-30T08:45:59.975987Z",
     "start_time": "2021-04-30T08:45:55.475891Z"
    }
   },
   "outputs": [],
   "source": [
    "X_train_all = pd.concat([X_train, X_train_df],axis = 1)    # concat train token columns with other features\n",
    "# X_train_all.head()"
   ]
  },
  {
   "cell_type": "code",
   "execution_count": 15,
   "metadata": {
    "ExecuteTime": {
     "end_time": "2021-04-30T07:35:38.445415Z",
     "start_time": "2021-04-30T07:35:38.441882Z"
    }
   },
   "outputs": [
    {
     "data": {
      "text/plain": [
       "(9400, 29213)"
      ]
     },
     "execution_count": 15,
     "metadata": {},
     "output_type": "execute_result"
    }
   ],
   "source": [
    "X_train_all.shape"
   ]
  },
  {
   "cell_type": "code",
   "execution_count": 16,
   "metadata": {
    "ExecuteTime": {
     "end_time": "2021-04-30T07:35:39.900938Z",
     "start_time": "2021-04-30T07:35:38.447332Z"
    }
   },
   "outputs": [],
   "source": [
    "X_test_all = pd.concat([X_test, X_test_df],axis = 1)       # concat test token columns with other features\n",
    "# X_test_all.head()"
   ]
  },
  {
   "cell_type": "markdown",
   "metadata": {
    "ExecuteTime": {
     "end_time": "2021-04-30T01:03:20.182117Z",
     "start_time": "2021-04-30T01:03:20.172260Z"
    }
   },
   "source": [
    "## Baseline Model"
   ]
  },
  {
   "cell_type": "code",
   "execution_count": 17,
   "metadata": {
    "ExecuteTime": {
     "end_time": "2021-04-30T07:35:39.927203Z",
     "start_time": "2021-04-30T07:35:39.908354Z"
    }
   },
   "outputs": [
    {
     "data": {
      "text/plain": [
       "0    0.557116\n",
       "1    0.442884\n",
       "Name: target, dtype: float64"
      ]
     },
     "execution_count": 17,
     "metadata": {},
     "output_type": "execute_result"
    }
   ],
   "source": [
    "y_test.value_counts(normalize=True)"
   ]
  },
  {
   "cell_type": "markdown",
   "metadata": {},
   "source": [
    "The cleaned dataset contains about 56% NFL posts and 44% EPL posts. This is our baseline model."
   ]
  },
  {
   "cell_type": "markdown",
   "metadata": {},
   "source": [
    "## Logistic Regression"
   ]
  },
  {
   "cell_type": "markdown",
   "metadata": {},
   "source": [
    "### X, y setup"
   ]
  },
  {
   "cell_type": "code",
   "execution_count": 18,
   "metadata": {
    "ExecuteTime": {
     "end_time": "2021-04-30T07:35:41.428184Z",
     "start_time": "2021-04-30T07:35:39.930908Z"
    }
   },
   "outputs": [],
   "source": [
    "X_train_mod = X_train_all.drop(columns=['alltext'])\n",
    "y_train_mod = y_train\n",
    "X_test_mod = X_test_all.drop(columns=['alltext'])\n",
    "y_test_mod = y_test"
   ]
  },
  {
   "cell_type": "markdown",
   "metadata": {},
   "source": [
    "### Custom quickmodel function"
   ]
  },
  {
   "cell_type": "code",
   "execution_count": 71,
   "metadata": {
    "ExecuteTime": {
     "end_time": "2021-04-30T08:56:29.467012Z",
     "start_time": "2021-04-30T08:56:29.465179Z"
    },
    "scrolled": false
   },
   "outputs": [],
   "source": [
    "# dns.quickmod_logregsa_nlp(X_train=X_train_mod, y_train=y_train_mod, \n",
    "#                                X_test=X_test_mod, y_test=y_test_mod,\n",
    "#                                alist=[.15, .1525, .155, .1575, .16], \n",
    "#                                penalty='l1', \n",
    "#                                random_state=74\n",
    "#                                )"
   ]
  },
  {
   "cell_type": "markdown",
   "metadata": {},
   "source": [
    "<span style=\"font-family:Trebuchet MS; display:block; text-align:center; font-size:2em;\">Testing Values for 𝛼</span>\n",
    "\n",
    "`|         Batch 1          |          Batch 2           |           Batch 3           |         Batch 4         |`\n",
    "\n",
    "| alpha     | C           | Train Acc.| Test Acc.     |┃| alpha     | C           | Train Acc.| Test Acc.   |┃| alpha       | C           | Train Acc.| Test Acc.     |┃| alpha     | C           | Train Acc.| Test Acc.   |\n",
    "|:----------|:------------|:----------|:--------------| |:----------|:------------|:----------|:------------| |:----------|:------------|:----------|:--------------| |:----------|:------------|:----------|:------------|\n",
    "| **0.1**   | **10**      | **1**     | **0.9872**    |┃| 0.05      | 20          | 1         | 0.9875      |┃| 0.04        | 25          | 1         | 0.9869        |┃| **0.15**  | **6.6667**  | **1**     | **0.9885**  |\n",
    "| 0.2       | 5           | 1         | 0.9860        |┃| 0.8       | 1.25        | 1         | 0.9796      |┃| 0.06        | 16.6667     | 1         | 0.9879        |┃| 0.1525    | 6.5574      | 1         | 0.9879      |\n",
    "| 0.3       | 3.3333      | 1         | 0.9866        |┃| 0.12      | 8.3333      | 1         | 0.9869      |┃| 0.14        | 7.1428      | 1         | 0.9860        |┃| 0.155     | 6.4516      | 1         | 0.9888      |\n",
    "| 0.4       | 2.5         | 1         | 0.9818        |┃| **0.15**  | **6.6667**  | **1**     | **0.9885**  |┃| **0.16**    | **6.25**    | **1**     | **0.9888**    |┃| **0.16**  | **6.25**    | **1**     | **0.9888**  | \n"
   ]
  },
  {
   "cell_type": "markdown",
   "metadata": {},
   "source": [
    "### Using best value for alpha"
   ]
  },
  {
   "cell_type": "code",
   "execution_count": 19,
   "metadata": {
    "ExecuteTime": {
     "end_time": "2021-04-30T07:36:00.670100Z",
     "start_time": "2021-04-30T07:35:41.429711Z"
    },
    "scrolled": true
   },
   "outputs": [
    {
     "data": {
      "text/plain": [
       "LogisticRegression(C=6.451612903225807, penalty='l1', random_state=74,\n",
       "                   solver='liblinear')"
      ]
     },
     "execution_count": 19,
     "metadata": {},
     "output_type": "execute_result"
    }
   ],
   "source": [
    "sc = StandardScaler(with_mean=False)\n",
    "\n",
    "Z_train = sc.fit_transform(X_train_mod)\n",
    "Z_test = sc.transform(X_test_mod)\n",
    "\n",
    "logreg = LogisticRegression(penalty='l1', C=(1/.155), solver='liblinear', random_state=74)\n",
    "\n",
    "logreg.fit(Z_train, y_train_mod)"
   ]
  },
  {
   "cell_type": "markdown",
   "metadata": {},
   "source": [
    "### Accuracy"
   ]
  },
  {
   "cell_type": "code",
   "execution_count": 83,
   "metadata": {
    "ExecuteTime": {
     "end_time": "2021-04-30T09:43:03.525704Z",
     "start_time": "2021-04-30T09:43:02.286155Z"
    }
   },
   "outputs": [
    {
     "data": {
      "text/plain": [
       "(1.0, 0.9865985960433951)"
      ]
     },
     "execution_count": 83,
     "metadata": {},
     "output_type": "execute_result"
    }
   ],
   "source": [
    "logreg.score(Z_train, y_train_mod)"
   ]
  },
  {
   "cell_type": "code",
   "execution_count": 84,
   "metadata": {
    "ExecuteTime": {
     "end_time": "2021-04-30T09:43:22.907829Z",
     "start_time": "2021-04-30T09:43:22.812902Z"
    }
   },
   "outputs": [
    {
     "data": {
      "text/plain": [
       "0.9865985960433951"
      ]
     },
     "execution_count": 84,
     "metadata": {},
     "output_type": "execute_result"
    }
   ],
   "source": [
    "logreg.score(Z_test, y_test_mod)"
   ]
  },
  {
   "cell_type": "markdown",
   "metadata": {},
   "source": [
    "### Predictions and Confusion Matrix"
   ]
  },
  {
   "cell_type": "code",
   "execution_count": 180,
   "metadata": {
    "ExecuteTime": {
     "end_time": "2021-05-01T00:50:56.402037Z",
     "start_time": "2021-05-01T00:50:56.207147Z"
    }
   },
   "outputs": [
    {
     "name": "stderr",
     "output_type": "stream",
     "text": [
      "/opt/anaconda3/lib/python3.8/site-packages/sklearn/metrics/_classification.py:289: FutureWarning: elementwise comparison failed; returning scalar instead, but in the future will perform elementwise comparison\n",
      "  elif np.all([l not in y_true for l in labels]):\n"
     ]
    },
    {
     "ename": "ValueError",
     "evalue": "At least one label specified must be in y_true",
     "output_type": "error",
     "traceback": [
      "\u001b[0;31m---------------------------------------------------------------------------\u001b[0m",
      "\u001b[0;31mValueError\u001b[0m                                Traceback (most recent call last)",
      "\u001b[0;32m<ipython-input-180-41e6e339c411>\u001b[0m in \u001b[0;36m<module>\u001b[0;34m\u001b[0m\n\u001b[1;32m      3\u001b[0m \u001b[0mtn\u001b[0m\u001b[0;34m,\u001b[0m \u001b[0mfp\u001b[0m\u001b[0;34m,\u001b[0m \u001b[0mfn\u001b[0m\u001b[0;34m,\u001b[0m \u001b[0mtp\u001b[0m \u001b[0;34m=\u001b[0m \u001b[0mconfusion_matrix\u001b[0m\u001b[0;34m(\u001b[0m\u001b[0my_test\u001b[0m\u001b[0;34m,\u001b[0m \u001b[0mlogreg_preds\u001b[0m\u001b[0;34m)\u001b[0m\u001b[0;34m.\u001b[0m\u001b[0mravel\u001b[0m\u001b[0;34m(\u001b[0m\u001b[0;34m)\u001b[0m\u001b[0;34m\u001b[0m\u001b[0;34m\u001b[0m\u001b[0m\n\u001b[1;32m      4\u001b[0m \u001b[0;34m\u001b[0m\u001b[0m\n\u001b[0;32m----> 5\u001b[0;31m \u001b[0mplot_confusion_matrix\u001b[0m\u001b[0;34m(\u001b[0m\u001b[0mlogreg\u001b[0m\u001b[0;34m,\u001b[0m \u001b[0mZ_test\u001b[0m\u001b[0;34m,\u001b[0m \u001b[0my_test\u001b[0m\u001b[0;34m,\u001b[0m \u001b[0mvalues_format\u001b[0m\u001b[0;34m=\u001b[0m\u001b[0;34m'd'\u001b[0m\u001b[0;34m,\u001b[0m \u001b[0mcmap\u001b[0m\u001b[0;34m=\u001b[0m\u001b[0;34m'Greens'\u001b[0m\u001b[0;34m,\u001b[0m \u001b[0mlabels\u001b[0m\u001b[0;34m=\u001b[0m\u001b[0;34m[\u001b[0m\u001b[0;34m'Predictions'\u001b[0m\u001b[0;34m,\u001b[0m \u001b[0;34m'Actual'\u001b[0m\u001b[0;34m]\u001b[0m\u001b[0;34m,\u001b[0m \u001b[0mdisplay_labels\u001b[0m\u001b[0;34m=\u001b[0m\u001b[0;34m[\u001b[0m\u001b[0;34m'NFL'\u001b[0m\u001b[0;34m,\u001b[0m \u001b[0;34m'EPL'\u001b[0m\u001b[0;34m]\u001b[0m\u001b[0;34m)\u001b[0m\u001b[0;34m;\u001b[0m\u001b[0;34m\u001b[0m\u001b[0;34m\u001b[0m\u001b[0m\n\u001b[0m",
      "\u001b[0;32m/opt/anaconda3/lib/python3.8/site-packages/sklearn/utils/validation.py\u001b[0m in \u001b[0;36minner_f\u001b[0;34m(*args, **kwargs)\u001b[0m\n\u001b[1;32m     70\u001b[0m                           FutureWarning)\n\u001b[1;32m     71\u001b[0m         \u001b[0mkwargs\u001b[0m\u001b[0;34m.\u001b[0m\u001b[0mupdate\u001b[0m\u001b[0;34m(\u001b[0m\u001b[0;34m{\u001b[0m\u001b[0mk\u001b[0m\u001b[0;34m:\u001b[0m \u001b[0marg\u001b[0m \u001b[0;32mfor\u001b[0m \u001b[0mk\u001b[0m\u001b[0;34m,\u001b[0m \u001b[0marg\u001b[0m \u001b[0;32min\u001b[0m \u001b[0mzip\u001b[0m\u001b[0;34m(\u001b[0m\u001b[0msig\u001b[0m\u001b[0;34m.\u001b[0m\u001b[0mparameters\u001b[0m\u001b[0;34m,\u001b[0m \u001b[0margs\u001b[0m\u001b[0;34m)\u001b[0m\u001b[0;34m}\u001b[0m\u001b[0;34m)\u001b[0m\u001b[0;34m\u001b[0m\u001b[0;34m\u001b[0m\u001b[0m\n\u001b[0;32m---> 72\u001b[0;31m         \u001b[0;32mreturn\u001b[0m \u001b[0mf\u001b[0m\u001b[0;34m(\u001b[0m\u001b[0;34m**\u001b[0m\u001b[0mkwargs\u001b[0m\u001b[0;34m)\u001b[0m\u001b[0;34m\u001b[0m\u001b[0;34m\u001b[0m\u001b[0m\n\u001b[0m\u001b[1;32m     73\u001b[0m     \u001b[0;32mreturn\u001b[0m \u001b[0minner_f\u001b[0m\u001b[0;34m\u001b[0m\u001b[0;34m\u001b[0m\u001b[0m\n\u001b[1;32m     74\u001b[0m \u001b[0;34m\u001b[0m\u001b[0m\n",
      "\u001b[0;32m/opt/anaconda3/lib/python3.8/site-packages/sklearn/metrics/_plot/confusion_matrix.py\u001b[0m in \u001b[0;36mplot_confusion_matrix\u001b[0;34m(estimator, X, y_true, labels, sample_weight, normalize, display_labels, include_values, xticks_rotation, values_format, cmap, ax)\u001b[0m\n\u001b[1;32m    218\u001b[0m \u001b[0;34m\u001b[0m\u001b[0m\n\u001b[1;32m    219\u001b[0m     \u001b[0my_pred\u001b[0m \u001b[0;34m=\u001b[0m \u001b[0mestimator\u001b[0m\u001b[0;34m.\u001b[0m\u001b[0mpredict\u001b[0m\u001b[0;34m(\u001b[0m\u001b[0mX\u001b[0m\u001b[0;34m)\u001b[0m\u001b[0;34m\u001b[0m\u001b[0;34m\u001b[0m\u001b[0m\n\u001b[0;32m--> 220\u001b[0;31m     cm = confusion_matrix(y_true, y_pred, sample_weight=sample_weight,\n\u001b[0m\u001b[1;32m    221\u001b[0m                           labels=labels, normalize=normalize)\n\u001b[1;32m    222\u001b[0m \u001b[0;34m\u001b[0m\u001b[0m\n",
      "\u001b[0;32m/opt/anaconda3/lib/python3.8/site-packages/sklearn/utils/validation.py\u001b[0m in \u001b[0;36minner_f\u001b[0;34m(*args, **kwargs)\u001b[0m\n\u001b[1;32m     70\u001b[0m                           FutureWarning)\n\u001b[1;32m     71\u001b[0m         \u001b[0mkwargs\u001b[0m\u001b[0;34m.\u001b[0m\u001b[0mupdate\u001b[0m\u001b[0;34m(\u001b[0m\u001b[0;34m{\u001b[0m\u001b[0mk\u001b[0m\u001b[0;34m:\u001b[0m \u001b[0marg\u001b[0m \u001b[0;32mfor\u001b[0m \u001b[0mk\u001b[0m\u001b[0;34m,\u001b[0m \u001b[0marg\u001b[0m \u001b[0;32min\u001b[0m \u001b[0mzip\u001b[0m\u001b[0;34m(\u001b[0m\u001b[0msig\u001b[0m\u001b[0;34m.\u001b[0m\u001b[0mparameters\u001b[0m\u001b[0;34m,\u001b[0m \u001b[0margs\u001b[0m\u001b[0;34m)\u001b[0m\u001b[0;34m}\u001b[0m\u001b[0;34m)\u001b[0m\u001b[0;34m\u001b[0m\u001b[0;34m\u001b[0m\u001b[0m\n\u001b[0;32m---> 72\u001b[0;31m         \u001b[0;32mreturn\u001b[0m \u001b[0mf\u001b[0m\u001b[0;34m(\u001b[0m\u001b[0;34m**\u001b[0m\u001b[0mkwargs\u001b[0m\u001b[0;34m)\u001b[0m\u001b[0;34m\u001b[0m\u001b[0;34m\u001b[0m\u001b[0m\n\u001b[0m\u001b[1;32m     73\u001b[0m     \u001b[0;32mreturn\u001b[0m \u001b[0minner_f\u001b[0m\u001b[0;34m\u001b[0m\u001b[0;34m\u001b[0m\u001b[0m\n\u001b[1;32m     74\u001b[0m \u001b[0;34m\u001b[0m\u001b[0m\n",
      "\u001b[0;32m/opt/anaconda3/lib/python3.8/site-packages/sklearn/metrics/_classification.py\u001b[0m in \u001b[0;36mconfusion_matrix\u001b[0;34m(y_true, y_pred, labels, sample_weight, normalize)\u001b[0m\n\u001b[1;32m    288\u001b[0m             \u001b[0;32mreturn\u001b[0m \u001b[0mnp\u001b[0m\u001b[0;34m.\u001b[0m\u001b[0mzeros\u001b[0m\u001b[0;34m(\u001b[0m\u001b[0;34m(\u001b[0m\u001b[0mn_labels\u001b[0m\u001b[0;34m,\u001b[0m \u001b[0mn_labels\u001b[0m\u001b[0;34m)\u001b[0m\u001b[0;34m,\u001b[0m \u001b[0mdtype\u001b[0m\u001b[0;34m=\u001b[0m\u001b[0mnp\u001b[0m\u001b[0;34m.\u001b[0m\u001b[0mint\u001b[0m\u001b[0;34m)\u001b[0m\u001b[0;34m\u001b[0m\u001b[0;34m\u001b[0m\u001b[0m\n\u001b[1;32m    289\u001b[0m         \u001b[0;32melif\u001b[0m \u001b[0mnp\u001b[0m\u001b[0;34m.\u001b[0m\u001b[0mall\u001b[0m\u001b[0;34m(\u001b[0m\u001b[0;34m[\u001b[0m\u001b[0ml\u001b[0m \u001b[0;32mnot\u001b[0m \u001b[0;32min\u001b[0m \u001b[0my_true\u001b[0m \u001b[0;32mfor\u001b[0m \u001b[0ml\u001b[0m \u001b[0;32min\u001b[0m \u001b[0mlabels\u001b[0m\u001b[0;34m]\u001b[0m\u001b[0;34m)\u001b[0m\u001b[0;34m:\u001b[0m\u001b[0;34m\u001b[0m\u001b[0;34m\u001b[0m\u001b[0m\n\u001b[0;32m--> 290\u001b[0;31m             \u001b[0;32mraise\u001b[0m \u001b[0mValueError\u001b[0m\u001b[0;34m(\u001b[0m\u001b[0;34m\"At least one label specified must be in y_true\"\u001b[0m\u001b[0;34m)\u001b[0m\u001b[0;34m\u001b[0m\u001b[0;34m\u001b[0m\u001b[0m\n\u001b[0m\u001b[1;32m    291\u001b[0m \u001b[0;34m\u001b[0m\u001b[0m\n\u001b[1;32m    292\u001b[0m     \u001b[0;32mif\u001b[0m \u001b[0msample_weight\u001b[0m \u001b[0;32mis\u001b[0m \u001b[0;32mNone\u001b[0m\u001b[0;34m:\u001b[0m\u001b[0;34m\u001b[0m\u001b[0;34m\u001b[0m\u001b[0m\n",
      "\u001b[0;31mValueError\u001b[0m: At least one label specified must be in y_true"
     ]
    }
   ],
   "source": [
    "logreg_preds = logreg.predict(Z_test)\n",
    "\n",
    "tn, fp, fn, tp = confusion_matrix(y_test, logreg_preds).ravel()\n",
    "\n",
    "plot_confusion_matrix(logreg, Z_test, y_test, values_format='d', cmap='Greens', labels=['Predictions', 'Actual'], display_labels=['NFL', 'EPL']);"
   ]
  },
  {
   "cell_type": "code",
   "execution_count": 108,
   "metadata": {
    "ExecuteTime": {
     "end_time": "2021-04-30T10:16:44.076227Z",
     "start_time": "2021-04-30T10:16:44.069412Z"
    },
    "scrolled": true
   },
   "outputs": [
    {
     "name": "stdout",
     "output_type": "stream",
     "text": [
      "  True Neg: 1736    False Pos: 10\n",
      " False Neg: 32       True Pos: 1356\n"
     ]
    }
   ],
   "source": [
    "print(f'  True Neg: {tn}    False Pos: {fp}')\n",
    "print(f' False Neg: {fn}       True Pos: {tp}')"
   ]
  },
  {
   "cell_type": "markdown",
   "metadata": {},
   "source": [
    "### Exponentiated Coefficients"
   ]
  },
  {
   "cell_type": "code",
   "execution_count": null,
   "metadata": {
    "ExecuteTime": {
     "end_time": "2021-04-30T11:30:03.756619Z",
     "start_time": "2021-04-30T11:30:03.726543Z"
    }
   },
   "outputs": [],
   "source": [
    "logreg_coefs_exp = list(zip(X_train_mod.columns, (list(np.exp(logreg.coef_)[0]))))"
   ]
  },
  {
   "cell_type": "code",
   "execution_count": null,
   "metadata": {
    "ExecuteTime": {
     "end_time": "2021-05-01T00:52:55.096485Z",
     "start_time": "2021-05-01T00:51:52.071Z"
    },
    "code_folding": []
   },
   "outputs": [],
   "source": [
    "# pd.DataFrame(logreg_coefs_exp, columns=['Feature Name', 'Odds']).sort_values(by=['Odds'], ascending = False)[161:201]"
   ]
  },
  {
   "cell_type": "code",
   "execution_count": null,
   "metadata": {
    "ExecuteTime": {
     "end_time": "2021-05-01T00:52:55.146346Z",
     "start_time": "2021-05-01T00:51:54.303Z"
    },
    "scrolled": true
   },
   "outputs": [],
   "source": [
    "# pd.DataFrame(logreg_coefs_exp, columns=['Feature Name', 'Odds']).sort_values(by=['Odds'], ascending = True)[161:201]"
   ]
  },
  {
   "cell_type": "markdown",
   "metadata": {},
   "source": [
    "**Top Words**\n",
    "\n",
    "A one-unit change in [token] means that classification as 1 (Premier League) is [odds] times as likely."
   ]
  },
  {
   "cell_type": "markdown",
   "metadata": {},
   "source": [
    "<span style=\"font-family:Trebuchet MS; display:block; text-align:center; font-size:2em;\">Token Importance</span>\n",
    "<span style=\"font-family:Trebuchet MS; display:block; text-align:center; font-size:em;\">Token Importance</span>\n",
    "\n",
    "|| <span style=\"font-family:Trebuchet MS; font-size:2em;\">English Premier League</span>|  | <span style=\"font-family:Trebuchet MS; font-size:2em;\">National Football League</span> | |\n",
    "|---|---------------------:|---:|:------------------|---|\n"
   ]
  },
  {
   "cell_type": "markdown",
   "metadata": {},
   "source": [
    "| Odds     | EPL Tokens (21-40)      | ┃ | Odds     | EPL Tokens (1-20)    | ┃ | NFL Tokens (1-20) | Odds     | ┃ | NFL Tokens (21-40) | Odds     |\n",
    "|---------:|------------------------:|:-:|---------:|---------------------:|:-:|:------------------|:---------|:-:|:------------------|:---------|\n",
    "| 1.449 | clubs                   | ┃ | 9.527 | Discussion           | ┃ | nfl               | 0.103 | ┃ | division          | 0.786 |\n",
    "| 1.44  | everton                 | ┃ | 5.964 | premier              | ┃ | comments          | 0.406 | ┃ | college           | 0.793 |\n",
    "| 1.428 | goals                   | ┃ | 5.710 | Question             | ┃ | qb                | 0.485 | ┃ | rookie            | 0.797 |\n",
    "| 1.406 |       Manchester United | ┃ | 2.853   | liverpool            | ┃ | bowl              | 0.573 | ┃ | coaches           | 0.797 |\n",
    "| 1.401 | fixtures                | ┃ | 2.770 | pl                   | ┃ | draft             | 0.583 | ┃ | playoffs          | 0.804 |\n",
    "| 1.381 | goal                    | ┃ | 2.330 | club                 | ┃ | field             | 0.635  | ┃ | rodgers           | 0.80  |\n",
    "| 1.380 | matches                 | ┃ | 2.291 | league               | ┃ | patriots          | 0.652 | ┃ | conference        | 0.816 |\n",
    "| 1.365 | manchester              | ┃ | 2.274 | Premier League       | ┃ | offense           | 0.656 | ┃ | superbowl         | 0.821 |\n",
    "| 1.365 |       Liverpool         | ┃ | 2.154 | arsenal              | ┃ | yards             | 0.673 | ┃ | running           | 0.823 |\n",
    "| 1.340 | wolves                  | ┃ | 2.131 | epl                  | ┃ | brady             | 0.682 | ┃ | qbs               | 0.824 |\n",
    "| 1.337  | prem                    | ┃ | 2.081  | chelsea              | ┃ | playoff           | 0.693 | ┃ | pff               | 0.829 |\n",
    "| 1.331 | cup                     | ┃ | 1.841 | var                  | ┃ | none              | 0.701 | ┃ | practice          | 0.830 |\n",
    "| 1.320 | southampton             | ┃ | 1.702 | united               | ┃ | cowboys           | 0.734 | ┃ | guy               | 0.830 |\n",
    "| 1.315  | mourinho                | ┃ | 1.672 | match                | ┃ | franchise         | 0.746 | ┃ | nfc               | 0.834 |\n",
    "| 1.315 | newcastle               | ┃ | 1.655 | poll                 | ┃ | eagles            | 0.752 | ┃ | brown             | 0.834 |\n",
    "| 1.290 | transfer                | ┃ | 1.642  | spurs                | ┃ | browns            | 0.753 | ┃ | yard              | 0.835 |\n",
    "| 1.280 | manager                 | ┃ | 1.629 | tottenham            | ┃ | ravens            | 0.768 | ┃ | trade             | 0.837 |\n",
    "| 1.277 | london                  | ┃ | 1.571 | city                 | ┃ | quarterback       | 0.771 | ┃ | pass              | 0.840 |\n",
    "| 1.272 | leicester               | ┃ | 1.532 | english              | ┃ | jets              | 0.774 | ┃ | years             | 0.841 |\n",
    "| 1.248 | brighton                | ┃ | 1.469 | News                 | ┃ | offensive         | 0.774 | ┃ | like              | 0.841 |\n"
   ]
  },
  {
   "cell_type": "markdown",
   "metadata": {},
   "source": [
    "| <span style=\"font-family:Trebuchet MS; font-size:2em;\">English Premier League</span>     | ┃ | <span style=\"font-family:Trebuchet MS; font-size:2em;\">National Football League</span> | \n",
    "|---------------------:|---:|:------------------|"
   ]
  },
  {
   "cell_type": "markdown",
   "metadata": {},
   "source": [
    "| Odds     | EPL Tokens (61-80)    | ┃ | Odds     | EPL Tokens (41-60)      | ┃ | NFL Tokens (41-60) | Odds     | ┃ | NFL Tokens (61-80) | Odds     |\n",
    "|---------:|------------------------:|:-:|---------:|---------------------:|:-:|:------------------|:---------|:-:|:------------------|:---------|\n",
    "| 1.196975 | premierleague         | ┃ | 1.247207 | palace                  | ┃ | td                 | 0.842231 | ┃ | year               | 0.859388 |\n",
    "| 1.196412 | leeds                 | ┃ | 1.246749 | offside                 | ┃ | giants             | 0.842783 | ┃ | falcons            | 0.859973 |\n",
    "| 1.195304 | Chelsea               | ┃ | 1.244287 | madrid                  | ┃ | offseason          | 0.843461 | ┃ | sacks              | 0.86044  |\n",
    "| 1.191963 | join                  | ┃ | 1.239036 | villa                   | ┃ | chiefs             | 0.844952 | ┃ | receiver           | 0.860556 |\n",
    "| 1.185141 | sky                   | ┃ | 1.238473 | american                | ┃ | bay                | 0.844984 | ┃ | dude               | 0.861166 |\n",
    "| 1.184474 | burnley               | ┃ | 1.236565 | hello                   | ┃ | roster             | 0.845317 | ┃ | broncos            | 0.861406 |\n",
    "| 1.183534 | ham                   | ┃ | 1.227556 | pogba                   | ┃ | 16                 | 0.845399 | ┃ | plays              | 0.862848 |\n",
    "| 1.174342 | finish                | ┃ | 1.219523 | today                   | ┃ | steelers           | 0.846241 | ┃ | cap                | 0.863694 |\n",
    "| 1.17416  | Manchester City       | ┃ | 1.217903 | sterling                | ┃ | rams               | 0.846504 | ┃ | cardinals          | 0.863955 |\n",
    "| 1.173772 | stream                | ┃ | 1.215974 | nbc                     | ┃ | wr                 | 0.847066 | ┃ | coach              | 0.866043 |\n",
    "| 1.168381 | nbcsn                 | ┃ | 1.215363 | salah                   | ┃ | williams           | 0.847163 | ┃ | contract           | 0.869072 |\n",
    "| 1.167137 | title                 | ┃ | 1.214193 | world                   | ┃ | bears              | 0.84778  | ┃ | lions              | 0.870203 |\n",
    "| 1.166319 | watford               | ┃ | 1.209385 | Tottenham Hotspur       | ┃ | rules              | 0.84848  | ┃ | hall               | 0.87065  |\n",
    "| 1.165636 | bruyne                | ┃ | 1.206445 | bissaka                 | ┃ | 12                 | 0.853288 | ┃ | decided            | 0.872295 |\n",
    "| 1.164696 | fantasy               | ┃ | 1.206409 | pitch                   | ┃ | night              | 0.853389 | ┃ | picks              | 0.872544 |\n",
    "| 1.162007 | signings              | ┃ | 1.204813 | thanks                  | ┃ | packers            | 0.854285 | ┃ | calls              | 0.872669 |\n",
    "| 1.161203 | Leeds United          | ┃ | 1.203586 | soccer                  | ┃ | football           | 0.855693 | ┃ | sb                 | 0.872748 |\n",
    "| 1.15957  | podcasts              | ┃ | 1.20307  | streams                 | ┃ | numbers            | 0.856211 | ┃ | smith              | 0.873245 |\n",
    "| 1.158943 | ozil                  | ┃ | 1.201184 | x200b                   | ┃ | defense            | 0.856393 | ┃ | pats               | 0.873918 |\n",
    "| 1.158394 | subtitles             | ┃ | 1.199226 | relegation              | ┃ | chargers           | 0.857366 | ┃ | te                 | 0.875945 |"
   ]
  },
  {
   "cell_type": "markdown",
   "metadata": {},
   "source": [
    "## Random Forest"
   ]
  },
  {
   "cell_type": "markdown",
   "metadata": {},
   "source": [
    "### Setup"
   ]
  },
  {
   "cell_type": "code",
   "execution_count": 60,
   "metadata": {
    "ExecuteTime": {
     "end_time": "2021-04-30T08:08:54.908989Z",
     "start_time": "2021-04-30T08:08:54.905533Z"
    }
   },
   "outputs": [],
   "source": [
    "rfc = RandomForestClassifier()"
   ]
  },
  {
   "cell_type": "code",
   "execution_count": 61,
   "metadata": {
    "ExecuteTime": {
     "end_time": "2021-04-30T08:08:57.448595Z",
     "start_time": "2021-04-30T08:08:57.443697Z"
    }
   },
   "outputs": [],
   "source": [
    "params = {\n",
    "    'n_estimators': [100, 600],\n",
    "    'max_depth': [5, 40],\n",
    "    'max_features': [500, 3000]\n",
    "}"
   ]
  },
  {
   "cell_type": "markdown",
   "metadata": {},
   "source": [
    "### Gridsearch and Fit"
   ]
  },
  {
   "cell_type": "code",
   "execution_count": 62,
   "metadata": {
    "ExecuteTime": {
     "end_time": "2021-04-30T08:08:59.679425Z",
     "start_time": "2021-04-30T08:08:59.676117Z"
    }
   },
   "outputs": [],
   "source": [
    "rfc_gs = GridSearchCV(rfc, params, cv=3, verbose=1, n_jobs=-2)"
   ]
  },
  {
   "cell_type": "code",
   "execution_count": 63,
   "metadata": {
    "ExecuteTime": {
     "end_time": "2021-04-30T08:35:09.928432Z",
     "start_time": "2021-04-30T08:09:01.636646Z"
    },
    "scrolled": false
   },
   "outputs": [
    {
     "name": "stdout",
     "output_type": "stream",
     "text": [
      "Fitting 3 folds for each of 8 candidates, totalling 24 fits\n"
     ]
    },
    {
     "name": "stderr",
     "output_type": "stream",
     "text": [
      "[Parallel(n_jobs=-2)]: Using backend LokyBackend with 3 concurrent workers.\n",
      "/opt/anaconda3/lib/python3.8/site-packages/joblib/externals/loky/process_executor.py:688: UserWarning: A worker stopped while some jobs were given to the executor. This can be caused by a too short worker timeout or by a memory leak.\n",
      "  warnings.warn(\n",
      "[Parallel(n_jobs=-2)]: Done  24 out of  24 | elapsed: 21.8min finished\n"
     ]
    },
    {
     "data": {
      "text/plain": [
       "GridSearchCV(cv=3, estimator=RandomForestClassifier(), n_jobs=-2,\n",
       "             param_grid={'max_depth': [5, 40], 'max_features': [500, 3000],\n",
       "                         'n_estimators': [100, 600]},\n",
       "             verbose=1)"
      ]
     },
     "execution_count": 63,
     "metadata": {},
     "output_type": "execute_result"
    }
   ],
   "source": [
    "rfc_gs.fit(X_train_mod, y_train_mod)"
   ]
  },
  {
   "cell_type": "code",
   "execution_count": 28,
   "metadata": {
    "ExecuteTime": {
     "end_time": "2021-04-30T07:36:01.261827Z",
     "start_time": "2021-04-30T07:36:01.254103Z"
    }
   },
   "outputs": [],
   "source": [
    "# checks\n",
    "# X_train_mod.shape, y_train_mod.shape"
   ]
  },
  {
   "cell_type": "markdown",
   "metadata": {},
   "source": [
    "### Results"
   ]
  },
  {
   "cell_type": "code",
   "execution_count": 143,
   "metadata": {
    "ExecuteTime": {
     "end_time": "2021-04-30T14:25:02.384274Z",
     "start_time": "2021-04-30T14:25:02.381175Z"
    },
    "scrolled": true
   },
   "outputs": [
    {
     "data": {
      "text/plain": [
       "{'max_depth': 40, 'max_features': 500, 'n_estimators': 600}"
      ]
     },
     "execution_count": 143,
     "metadata": {},
     "output_type": "execute_result"
    }
   ],
   "source": [
    "rfc_gs.best_params_"
   ]
  },
  {
   "cell_type": "code",
   "execution_count": 66,
   "metadata": {
    "ExecuteTime": {
     "end_time": "2021-04-30T08:37:35.171925Z",
     "start_time": "2021-04-30T08:37:35.165493Z"
    }
   },
   "outputs": [
    {
     "data": {
      "text/plain": [
       "0.9880849929519719"
      ]
     },
     "execution_count": 66,
     "metadata": {},
     "output_type": "execute_result"
    }
   ],
   "source": [
    "rfc_gs.best_score_"
   ]
  },
  {
   "cell_type": "markdown",
   "metadata": {},
   "source": [
    "### Confusion Matrix"
   ]
  },
  {
   "cell_type": "code",
   "execution_count": 162,
   "metadata": {
    "ExecuteTime": {
     "end_time": "2021-04-30T15:47:21.351937Z",
     "start_time": "2021-04-30T15:47:19.147552Z"
    }
   },
   "outputs": [
    {
     "name": "stderr",
     "output_type": "stream",
     "text": [
      "/opt/anaconda3/lib/python3.8/site-packages/sklearn/metrics/_classification.py:289: FutureWarning: elementwise comparison failed; returning scalar instead, but in the future will perform elementwise comparison\n",
      "  elif np.all([l not in y_true for l in labels]):\n"
     ]
    },
    {
     "ename": "ValueError",
     "evalue": "At least one label specified must be in y_true",
     "output_type": "error",
     "traceback": [
      "\u001b[0;31m---------------------------------------------------------------------------\u001b[0m",
      "\u001b[0;31mValueError\u001b[0m                                Traceback (most recent call last)",
      "\u001b[0;32m<ipython-input-162-9fa3b7c47f08>\u001b[0m in \u001b[0;36m<module>\u001b[0;34m\u001b[0m\n\u001b[1;32m      3\u001b[0m \u001b[0mtn\u001b[0m\u001b[0;34m,\u001b[0m \u001b[0mfp\u001b[0m\u001b[0;34m,\u001b[0m \u001b[0mfn\u001b[0m\u001b[0;34m,\u001b[0m \u001b[0mtp\u001b[0m \u001b[0;34m=\u001b[0m \u001b[0mconfusion_matrix\u001b[0m\u001b[0;34m(\u001b[0m\u001b[0my_test_mod\u001b[0m\u001b[0;34m,\u001b[0m \u001b[0mrandom_forest_preds\u001b[0m\u001b[0;34m)\u001b[0m\u001b[0;34m.\u001b[0m\u001b[0mravel\u001b[0m\u001b[0;34m(\u001b[0m\u001b[0;34m)\u001b[0m\u001b[0;34m\u001b[0m\u001b[0;34m\u001b[0m\u001b[0m\n\u001b[1;32m      4\u001b[0m \u001b[0;34m\u001b[0m\u001b[0m\n\u001b[0;32m----> 5\u001b[0;31m \u001b[0mplot_confusion_matrix\u001b[0m\u001b[0;34m(\u001b[0m\u001b[0mrfc_gs\u001b[0m\u001b[0;34m,\u001b[0m \u001b[0mX_test_mod\u001b[0m\u001b[0;34m,\u001b[0m \u001b[0my_test_mod\u001b[0m\u001b[0;34m,\u001b[0m \u001b[0mvalues_format\u001b[0m\u001b[0;34m=\u001b[0m\u001b[0;34m'd'\u001b[0m\u001b[0;34m,\u001b[0m \u001b[0mcmap\u001b[0m\u001b[0;34m=\u001b[0m\u001b[0;34m'Greens'\u001b[0m\u001b[0;34m,\u001b[0m \u001b[0mlabels\u001b[0m\u001b[0;34m=\u001b[0m\u001b[0;34m[\u001b[0m\u001b[0;34m'nfl'\u001b[0m\u001b[0;34m,\u001b[0m \u001b[0;34m'epl'\u001b[0m\u001b[0;34m]\u001b[0m\u001b[0;34m)\u001b[0m\u001b[0;34m;\u001b[0m\u001b[0;34m\u001b[0m\u001b[0;34m\u001b[0m\u001b[0m\n\u001b[0m",
      "\u001b[0;32m/opt/anaconda3/lib/python3.8/site-packages/sklearn/utils/validation.py\u001b[0m in \u001b[0;36minner_f\u001b[0;34m(*args, **kwargs)\u001b[0m\n\u001b[1;32m     70\u001b[0m                           FutureWarning)\n\u001b[1;32m     71\u001b[0m         \u001b[0mkwargs\u001b[0m\u001b[0;34m.\u001b[0m\u001b[0mupdate\u001b[0m\u001b[0;34m(\u001b[0m\u001b[0;34m{\u001b[0m\u001b[0mk\u001b[0m\u001b[0;34m:\u001b[0m \u001b[0marg\u001b[0m \u001b[0;32mfor\u001b[0m \u001b[0mk\u001b[0m\u001b[0;34m,\u001b[0m \u001b[0marg\u001b[0m \u001b[0;32min\u001b[0m \u001b[0mzip\u001b[0m\u001b[0;34m(\u001b[0m\u001b[0msig\u001b[0m\u001b[0;34m.\u001b[0m\u001b[0mparameters\u001b[0m\u001b[0;34m,\u001b[0m \u001b[0margs\u001b[0m\u001b[0;34m)\u001b[0m\u001b[0;34m}\u001b[0m\u001b[0;34m)\u001b[0m\u001b[0;34m\u001b[0m\u001b[0;34m\u001b[0m\u001b[0m\n\u001b[0;32m---> 72\u001b[0;31m         \u001b[0;32mreturn\u001b[0m \u001b[0mf\u001b[0m\u001b[0;34m(\u001b[0m\u001b[0;34m**\u001b[0m\u001b[0mkwargs\u001b[0m\u001b[0;34m)\u001b[0m\u001b[0;34m\u001b[0m\u001b[0;34m\u001b[0m\u001b[0m\n\u001b[0m\u001b[1;32m     73\u001b[0m     \u001b[0;32mreturn\u001b[0m \u001b[0minner_f\u001b[0m\u001b[0;34m\u001b[0m\u001b[0;34m\u001b[0m\u001b[0m\n\u001b[1;32m     74\u001b[0m \u001b[0;34m\u001b[0m\u001b[0m\n",
      "\u001b[0;32m/opt/anaconda3/lib/python3.8/site-packages/sklearn/metrics/_plot/confusion_matrix.py\u001b[0m in \u001b[0;36mplot_confusion_matrix\u001b[0;34m(estimator, X, y_true, labels, sample_weight, normalize, display_labels, include_values, xticks_rotation, values_format, cmap, ax)\u001b[0m\n\u001b[1;32m    218\u001b[0m \u001b[0;34m\u001b[0m\u001b[0m\n\u001b[1;32m    219\u001b[0m     \u001b[0my_pred\u001b[0m \u001b[0;34m=\u001b[0m \u001b[0mestimator\u001b[0m\u001b[0;34m.\u001b[0m\u001b[0mpredict\u001b[0m\u001b[0;34m(\u001b[0m\u001b[0mX\u001b[0m\u001b[0;34m)\u001b[0m\u001b[0;34m\u001b[0m\u001b[0;34m\u001b[0m\u001b[0m\n\u001b[0;32m--> 220\u001b[0;31m     cm = confusion_matrix(y_true, y_pred, sample_weight=sample_weight,\n\u001b[0m\u001b[1;32m    221\u001b[0m                           labels=labels, normalize=normalize)\n\u001b[1;32m    222\u001b[0m \u001b[0;34m\u001b[0m\u001b[0m\n",
      "\u001b[0;32m/opt/anaconda3/lib/python3.8/site-packages/sklearn/utils/validation.py\u001b[0m in \u001b[0;36minner_f\u001b[0;34m(*args, **kwargs)\u001b[0m\n\u001b[1;32m     70\u001b[0m                           FutureWarning)\n\u001b[1;32m     71\u001b[0m         \u001b[0mkwargs\u001b[0m\u001b[0;34m.\u001b[0m\u001b[0mupdate\u001b[0m\u001b[0;34m(\u001b[0m\u001b[0;34m{\u001b[0m\u001b[0mk\u001b[0m\u001b[0;34m:\u001b[0m \u001b[0marg\u001b[0m \u001b[0;32mfor\u001b[0m \u001b[0mk\u001b[0m\u001b[0;34m,\u001b[0m \u001b[0marg\u001b[0m \u001b[0;32min\u001b[0m \u001b[0mzip\u001b[0m\u001b[0;34m(\u001b[0m\u001b[0msig\u001b[0m\u001b[0;34m.\u001b[0m\u001b[0mparameters\u001b[0m\u001b[0;34m,\u001b[0m \u001b[0margs\u001b[0m\u001b[0;34m)\u001b[0m\u001b[0;34m}\u001b[0m\u001b[0;34m)\u001b[0m\u001b[0;34m\u001b[0m\u001b[0;34m\u001b[0m\u001b[0m\n\u001b[0;32m---> 72\u001b[0;31m         \u001b[0;32mreturn\u001b[0m \u001b[0mf\u001b[0m\u001b[0;34m(\u001b[0m\u001b[0;34m**\u001b[0m\u001b[0mkwargs\u001b[0m\u001b[0;34m)\u001b[0m\u001b[0;34m\u001b[0m\u001b[0;34m\u001b[0m\u001b[0m\n\u001b[0m\u001b[1;32m     73\u001b[0m     \u001b[0;32mreturn\u001b[0m \u001b[0minner_f\u001b[0m\u001b[0;34m\u001b[0m\u001b[0;34m\u001b[0m\u001b[0m\n\u001b[1;32m     74\u001b[0m \u001b[0;34m\u001b[0m\u001b[0m\n",
      "\u001b[0;32m/opt/anaconda3/lib/python3.8/site-packages/sklearn/metrics/_classification.py\u001b[0m in \u001b[0;36mconfusion_matrix\u001b[0;34m(y_true, y_pred, labels, sample_weight, normalize)\u001b[0m\n\u001b[1;32m    288\u001b[0m             \u001b[0;32mreturn\u001b[0m \u001b[0mnp\u001b[0m\u001b[0;34m.\u001b[0m\u001b[0mzeros\u001b[0m\u001b[0;34m(\u001b[0m\u001b[0;34m(\u001b[0m\u001b[0mn_labels\u001b[0m\u001b[0;34m,\u001b[0m \u001b[0mn_labels\u001b[0m\u001b[0;34m)\u001b[0m\u001b[0;34m,\u001b[0m \u001b[0mdtype\u001b[0m\u001b[0;34m=\u001b[0m\u001b[0mnp\u001b[0m\u001b[0;34m.\u001b[0m\u001b[0mint\u001b[0m\u001b[0;34m)\u001b[0m\u001b[0;34m\u001b[0m\u001b[0;34m\u001b[0m\u001b[0m\n\u001b[1;32m    289\u001b[0m         \u001b[0;32melif\u001b[0m \u001b[0mnp\u001b[0m\u001b[0;34m.\u001b[0m\u001b[0mall\u001b[0m\u001b[0;34m(\u001b[0m\u001b[0;34m[\u001b[0m\u001b[0ml\u001b[0m \u001b[0;32mnot\u001b[0m \u001b[0;32min\u001b[0m \u001b[0my_true\u001b[0m \u001b[0;32mfor\u001b[0m \u001b[0ml\u001b[0m \u001b[0;32min\u001b[0m \u001b[0mlabels\u001b[0m\u001b[0;34m]\u001b[0m\u001b[0;34m)\u001b[0m\u001b[0;34m:\u001b[0m\u001b[0;34m\u001b[0m\u001b[0;34m\u001b[0m\u001b[0m\n\u001b[0;32m--> 290\u001b[0;31m             \u001b[0;32mraise\u001b[0m \u001b[0mValueError\u001b[0m\u001b[0;34m(\u001b[0m\u001b[0;34m\"At least one label specified must be in y_true\"\u001b[0m\u001b[0;34m)\u001b[0m\u001b[0;34m\u001b[0m\u001b[0;34m\u001b[0m\u001b[0m\n\u001b[0m\u001b[1;32m    291\u001b[0m \u001b[0;34m\u001b[0m\u001b[0m\n\u001b[1;32m    292\u001b[0m     \u001b[0;32mif\u001b[0m \u001b[0msample_weight\u001b[0m \u001b[0;32mis\u001b[0m \u001b[0;32mNone\u001b[0m\u001b[0;34m:\u001b[0m\u001b[0;34m\u001b[0m\u001b[0;34m\u001b[0m\u001b[0m\n",
      "\u001b[0;31mValueError\u001b[0m: At least one label specified must be in y_true"
     ]
    }
   ],
   "source": [
    "random_forest_preds = rfc_gs.predict(X_test_mod)\n",
    "\n",
    "tn, fp, fn, tp = confusion_matrix(y_test_mod, random_forest_preds).ravel()\n",
    "\n",
    "plot_confusion_matrix(rfc_gs, X_test_mod, y_test_mod, values_format='d', cmap='Greens');"
   ]
  },
  {
   "cell_type": "code",
   "execution_count": null,
   "metadata": {},
   "outputs": [],
   "source": [
    "print(f'  True Neg: {tn}    False Pos: {fp}')\n",
    "print(f' False Neg: {fn}       True Pos: {tp}')"
   ]
  },
  {
   "cell_type": "code",
   "execution_count": null,
   "metadata": {
    "ExecuteTime": {
     "end_time": "2021-04-30T07:36:01.679814Z",
     "start_time": "2021-04-30T07:35:29.175Z"
    }
   },
   "outputs": [],
   "source": [
    "d = {'Column Name':X_train_all.columns,'Feature Importance':pipe.best_estimator_.named_steps['rfc'].feature_importances_}\n",
    "fi = pd.DataFrame(d)\n",
    "#fi.head()\n",
    "rfc_fi = fi.sort_values(by=['Feature Importance'], ascending = False).head(50)"
   ]
  }
 ],
 "metadata": {
  "kernelspec": {
   "display_name": "Python 3",
   "language": "python",
   "name": "python3"
  },
  "language_info": {
   "codemirror_mode": {
    "name": "ipython",
    "version": 3
   },
   "file_extension": ".py",
   "mimetype": "text/x-python",
   "name": "python",
   "nbconvert_exporter": "python",
   "pygments_lexer": "ipython3",
   "version": "3.8.5"
  },
  "toc": {
   "base_numbering": 1,
   "nav_menu": {},
   "number_sections": true,
   "sideBar": true,
   "skip_h1_title": false,
   "title_cell": "Table of Contents",
   "title_sidebar": "Contents",
   "toc_cell": false,
   "toc_position": {
    "height": "656px",
    "left": "22px",
    "top": "110px",
    "width": "346px"
   },
   "toc_section_display": true,
   "toc_window_display": true
  },
  "varInspector": {
   "cols": {
    "lenName": 16,
    "lenType": 16,
    "lenVar": 40
   },
   "kernels_config": {
    "python": {
     "delete_cmd_postfix": "",
     "delete_cmd_prefix": "del ",
     "library": "var_list.py",
     "varRefreshCmd": "print(var_dic_list())"
    },
    "r": {
     "delete_cmd_postfix": ") ",
     "delete_cmd_prefix": "rm(",
     "library": "var_list.r",
     "varRefreshCmd": "cat(var_dic_list()) "
    }
   },
   "types_to_exclude": [
    "module",
    "function",
    "builtin_function_or_method",
    "instance",
    "_Feature"
   ],
   "window_display": false
  }
 },
 "nbformat": 4,
 "nbformat_minor": 4
}
