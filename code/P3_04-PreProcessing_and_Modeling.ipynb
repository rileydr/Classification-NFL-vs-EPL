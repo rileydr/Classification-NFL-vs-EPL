{
 "cells": [
  {
   "cell_type": "markdown",
   "metadata": {},
   "source": [
    "<span style=\"font-family:Trebuchet MS; font-size:2em;\">Project 3 | NB4: Pre-Processing and Modeling</span>\n",
    "\n",
    "Riley Robertson | Reddit Classification Project | Market Research: Sports Fans in the U.S. and England"
   ]
  },
  {
   "cell_type": "markdown",
   "metadata": {},
   "source": [
    "# Imports and Setup"
   ]
  },
  {
   "cell_type": "markdown",
   "metadata": {},
   "source": [
    "## Module Imports"
   ]
  },
  {
   "cell_type": "code",
   "execution_count": 54,
   "metadata": {
    "ExecuteTime": {
     "end_time": "2021-05-03T12:52:54.105606Z",
     "start_time": "2021-05-03T12:52:54.102099Z"
    }
   },
   "outputs": [],
   "source": [
    "# Basic\n",
    "import pandas as pd\n",
    "import numpy as np\n",
    "import matplotlib.pyplot as plt\n",
    "\n",
    "# Custom\n",
    "import utilities.densmore as dns\n",
    "\n",
    "\n",
    "# Modeling\n",
    "from sklearn.feature_extraction import text \n",
    "from sklearn.feature_extraction.text import CountVectorizer, TfidfVectorizer\n",
    "\n",
    "from sklearn.model_selection import train_test_split, RandomizedSearchCV, GridSearchCV\n",
    "\n",
    "from sklearn.preprocessing import StandardScaler\n",
    "from sklearn.linear_model import LogisticRegression\n",
    "from sklearn.ensemble import RandomForestClassifier\n",
    "\n",
    "from sklearn.metrics import confusion_matrix, plot_confusion_matrix\n",
    "from sklearn.metrics import accuracy_score\n",
    "\n",
    "# Plots\n",
    "from IPython.display import set_matplotlib_formats\n",
    "set_matplotlib_formats('svg')"
   ]
  },
  {
   "cell_type": "markdown",
   "metadata": {},
   "source": [
    "---"
   ]
  },
  {
   "cell_type": "markdown",
   "metadata": {},
   "source": [
    "## Reading in CSV with clean data"
   ]
  },
  {
   "cell_type": "code",
   "execution_count": 2,
   "metadata": {
    "ExecuteTime": {
     "end_time": "2021-05-03T11:00:43.914215Z",
     "start_time": "2021-05-03T11:00:43.751270Z"
    }
   },
   "outputs": [],
   "source": [
    "df = pd.read_csv('../data/2_clean/reddit_posts_clean.csv')"
   ]
  },
  {
   "cell_type": "code",
   "execution_count": 4,
   "metadata": {
    "ExecuteTime": {
     "end_time": "2021-05-03T11:00:43.938306Z",
     "start_time": "2021-05-03T11:00:43.924605Z"
    },
    "scrolled": true
   },
   "outputs": [
    {
     "name": "stdout",
     "output_type": "stream",
     "text": [
      "<class 'pandas.core.frame.DataFrame'>\n",
      "RangeIndex: 12416 entries, 0 to 12415\n",
      "Data columns (total 13 columns):\n",
      " #   Column       Non-Null Count  Dtype \n",
      "---  ------       --------------  ----- \n",
      " 0   subreddit    12416 non-null  object\n",
      " 1   target       12416 non-null  int64 \n",
      " 2   author       12416 non-null  object\n",
      " 3   score        12416 non-null  int64 \n",
      " 4   comments     12416 non-null  int64 \n",
      " 5   tag          12416 non-null  object\n",
      " 6   index        12416 non-null  int64 \n",
      " 7   created_utc  12416 non-null  int64 \n",
      " 8   date         12416 non-null  object\n",
      " 9   time         12416 non-null  object\n",
      " 10  title        12416 non-null  object\n",
      " 11  post         12372 non-null  object\n",
      " 12  alltext      12416 non-null  object\n",
      "dtypes: int64(5), object(8)\n",
      "memory usage: 1.2+ MB\n"
     ]
    }
   ],
   "source": [
    "# df.shape\n",
    "df.info()"
   ]
  },
  {
   "cell_type": "markdown",
   "metadata": {},
   "source": [
    "## Creating a custom color map for plotting"
   ]
  },
  {
   "cell_type": "markdown",
   "metadata": {},
   "source": [
    "In order to create plots that will fit well in my project presentation, I created a custom color-map that I could apply to any plots I generate during my model evaluation. I could then save those plots to a .png to import into my slide deck.\n",
    "\n",
    "To make it, I used code that I in a stackoverflow thread here:  \n",
    "    https://stackoverflow.com/questions/16834861/create-own-colormap-using-matplotlib-and-plot-color-scale  \n",
    "To get it working, I just had to install 'colour-0.1.5' using `pip install colour` in terminal."
   ]
  },
  {
   "cell_type": "code",
   "execution_count": null,
   "metadata": {
    "ExecuteTime": {
     "end_time": "2021-05-03T11:41:53.318459Z",
     "start_time": "2021-05-03T11:21:37.923Z"
    }
   },
   "outputs": [],
   "source": [
    "def make_colormap(colors_list): \n",
    "    from colour import Color\n",
    "    from matplotlib.colors import LinearSegmentedColormap\n",
    "\n",
    "    color_map = LinearSegmentedColormap.from_list('my_list', [Color(c1).rgb for c1 in colors_list])\n",
    "    plt.figure(figsize = (8,2))\n",
    "    plt.imshow([list(np.arange(0, len(colors_list) , 0.1))] , interpolation='nearest', origin='lower', cmap= color_ramp)\n",
    "    plt.xticks([])\n",
    "    plt.yticks([])\n",
    "    return color_map\n",
    "\n",
    "custom_cmap = make_colormap(['#f3ffd1','#91c603']) "
   ]
  },
  {
   "cell_type": "markdown",
   "metadata": {},
   "source": [
    "| <span style=\"font-family:Trebuchet MS; font-size:2em;\">English Premier League</span>     | ┃ | <span style=\"font-family:Trebuchet MS; font-size:2em;\">National Football League</span> | \n",
    "|---------------------:|---:|:------------------|"
   ]
  },
  {
   "cell_type": "markdown",
   "metadata": {},
   "source": [
    "# Pre-Processing"
   ]
  },
  {
   "cell_type": "code",
   "execution_count": 55,
   "metadata": {
    "ExecuteTime": {
     "end_time": "2021-05-03T14:18:31.882520Z",
     "start_time": "2021-05-03T14:18:31.876127Z"
    }
   },
   "outputs": [],
   "source": [
    "# 1st iteration models\n",
    "# df_m = df[['subreddit', 'target', 'score', 'comments', 'tag', 'alltext']] # First Version - All Columns\n",
    "\n",
    "# 2nd iteration models\n",
    "df_m = df[['subreddit', 'target', 'alltext']]"
   ]
  },
  {
   "cell_type": "markdown",
   "metadata": {},
   "source": [
    "## Get Dummies"
   ]
  },
  {
   "cell_type": "markdown",
   "metadata": {},
   "source": [
    "I initially began my preprocessing by creating dummy columns for the tag columns, but ultimately decided to drop all columns except for my 'alltext' column to feed to my models. \n",
    "\n",
    "I realized after the first iterations of each of my models that several steps I took during cleaning made it significantly easier for the model to classify the posts. For example, I removed all nfl posts with tags (flair-text) from the data and filled the remaining posts with the string 'none'. This was one of the most important features to my 1st models because of something I had done. \n",
    "\n",
    "I came back and removed that column, as well as the score and comments columns. I wanted to see how the model would do if we only gave it the text. \n",
    "\n",
    "And they both still performed very well. Only dropping in accuracy by about ~1% each."
   ]
  },
  {
   "cell_type": "code",
   "execution_count": 7,
   "metadata": {
    "ExecuteTime": {
     "end_time": "2021-05-03T11:00:43.953958Z",
     "start_time": "2021-05-03T11:00:43.951897Z"
    },
    "code_folding": []
   },
   "outputs": [],
   "source": [
    "# df_m_dums = pd.get_dummies(df_m['tag'], drop_first=True)\n",
    "# df_m = pd.concat([df_m, df_m_dums], axis=1)\n",
    "# df_m.drop(columns=['tag'], inplace=True)\n",
    "# df_m.head(2)"
   ]
  },
  {
   "cell_type": "markdown",
   "metadata": {},
   "source": [
    "I decided to keep the code here in case I need to come back to it for any reason."
   ]
  },
  {
   "cell_type": "markdown",
   "metadata": {},
   "source": [
    "## Train/Test Split"
   ]
  },
  {
   "cell_type": "markdown",
   "metadata": {},
   "source": [
    "I split up my data using train/test split so I could train my models on one segment and test on the other. This split will serve any models I do below. "
   ]
  },
  {
   "cell_type": "code",
   "execution_count": 11,
   "metadata": {
    "ExecuteTime": {
     "end_time": "2021-05-03T11:00:43.983531Z",
     "start_time": "2021-05-03T11:00:43.979409Z"
    }
   },
   "outputs": [],
   "source": [
    "X = df_m.drop(columns=['subreddit', 'target'])\n",
    "y = df_m['target']"
   ]
  },
  {
   "cell_type": "code",
   "execution_count": 12,
   "metadata": {
    "ExecuteTime": {
     "end_time": "2021-05-03T11:00:43.995584Z",
     "start_time": "2021-05-03T11:00:43.985742Z"
    }
   },
   "outputs": [],
   "source": [
    "X_train, X_test, y_train, y_test = train_test_split(X, y, random_state=74, stratify=y)"
   ]
  },
  {
   "cell_type": "code",
   "execution_count": 13,
   "metadata": {
    "ExecuteTime": {
     "end_time": "2021-05-03T11:00:44.006884Z",
     "start_time": "2021-05-03T11:00:43.997077Z"
    }
   },
   "outputs": [
    {
     "data": {
      "text/html": [
       "<div>\n",
       "<style scoped>\n",
       "    .dataframe tbody tr th:only-of-type {\n",
       "        vertical-align: middle;\n",
       "    }\n",
       "\n",
       "    .dataframe tbody tr th {\n",
       "        vertical-align: top;\n",
       "    }\n",
       "\n",
       "    .dataframe thead th {\n",
       "        text-align: right;\n",
       "    }\n",
       "</style>\n",
       "<table border=\"1\" class=\"dataframe\">\n",
       "  <thead>\n",
       "    <tr style=\"text-align: right;\">\n",
       "      <th></th>\n",
       "      <th>alltext</th>\n",
       "    </tr>\n",
       "  </thead>\n",
       "  <tbody>\n",
       "    <tr>\n",
       "      <th>4942</th>\n",
       "      <td>Eden Hazard mocks Raheem Sterling (VIDEO) [Ede...</td>\n",
       "    </tr>\n",
       "    <tr>\n",
       "      <th>10922</th>\n",
       "      <td>How come they dont construct and then sell sea...</td>\n",
       "    </tr>\n",
       "    <tr>\n",
       "      <th>12078</th>\n",
       "      <td>Will Roger Goodell still be NFL Commissioner a...</td>\n",
       "    </tr>\n",
       "    <tr>\n",
       "      <th>10896</th>\n",
       "      <td>To people watching NO@CAR or ARI@GB in Week 17...</td>\n",
       "    </tr>\n",
       "    <tr>\n",
       "      <th>4571</th>\n",
       "      <td>help me are there a lot of jewish arsenal fans...</td>\n",
       "    </tr>\n",
       "  </tbody>\n",
       "</table>\n",
       "</div>"
      ],
      "text/plain": [
       "                                                 alltext\n",
       "4942   Eden Hazard mocks Raheem Sterling (VIDEO) [Ede...\n",
       "10922  How come they dont construct and then sell sea...\n",
       "12078  Will Roger Goodell still be NFL Commissioner a...\n",
       "10896  To people watching NO@CAR or ARI@GB in Week 17...\n",
       "4571   help me are there a lot of jewish arsenal fans..."
      ]
     },
     "execution_count": 13,
     "metadata": {},
     "output_type": "execute_result"
    }
   ],
   "source": [
    "X_train.head()"
   ]
  },
  {
   "cell_type": "code",
   "execution_count": 53,
   "metadata": {
    "ExecuteTime": {
     "end_time": "2021-05-03T12:01:39.807330Z",
     "start_time": "2021-05-03T12:01:39.801911Z"
    }
   },
   "outputs": [
    {
     "data": {
      "text/html": [
       "<div>\n",
       "<style scoped>\n",
       "    .dataframe tbody tr th:only-of-type {\n",
       "        vertical-align: middle;\n",
       "    }\n",
       "\n",
       "    .dataframe tbody tr th {\n",
       "        vertical-align: top;\n",
       "    }\n",
       "\n",
       "    .dataframe thead th {\n",
       "        text-align: right;\n",
       "    }\n",
       "</style>\n",
       "<table border=\"1\" class=\"dataframe\">\n",
       "  <thead>\n",
       "    <tr style=\"text-align: right;\">\n",
       "      <th></th>\n",
       "      <th>alltext</th>\n",
       "    </tr>\n",
       "  </thead>\n",
       "  <tbody>\n",
       "    <tr>\n",
       "      <th>0</th>\n",
       "      <td>People talked about the wrong thing on the cal...</td>\n",
       "    </tr>\n",
       "    <tr>\n",
       "      <th>1</th>\n",
       "      <td>Who is the best player to play on more than th...</td>\n",
       "    </tr>\n",
       "    <tr>\n",
       "      <th>2</th>\n",
       "      <td>What surprise team could “win” the Trevor Lawr...</td>\n",
       "    </tr>\n",
       "    <tr>\n",
       "      <th>3</th>\n",
       "      <td>🇬🇧Mourinho again overtook Karma, Pochettino ou...</td>\n",
       "    </tr>\n",
       "    <tr>\n",
       "      <th>4</th>\n",
       "      <td>What do you think Drew Bledsoes career would h...</td>\n",
       "    </tr>\n",
       "  </tbody>\n",
       "</table>\n",
       "</div>"
      ],
      "text/plain": [
       "                                             alltext\n",
       "0  People talked about the wrong thing on the cal...\n",
       "1  Who is the best player to play on more than th...\n",
       "2  What surprise team could “win” the Trevor Lawr...\n",
       "3  🇬🇧Mourinho again overtook Karma, Pochettino ou...\n",
       "4  What do you think Drew Bledsoes career would h..."
      ]
     },
     "execution_count": 53,
     "metadata": {},
     "output_type": "execute_result"
    }
   ],
   "source": [
    "X_test.head()"
   ]
  },
  {
   "cell_type": "markdown",
   "metadata": {},
   "source": [
    "## Vectorizing with TFIDF"
   ]
  },
  {
   "cell_type": "markdown",
   "metadata": {},
   "source": [
    "### Stop Words"
   ]
  },
  {
   "cell_type": "markdown",
   "metadata": {},
   "source": [
    "I used the english stop words list from the text module and assigned it to a variable so I could use in vectorization. I also set it up this way so that I could add custom stop words if decide there's a need to do so."
   ]
  },
  {
   "cell_type": "code",
   "execution_count": 15,
   "metadata": {
    "ExecuteTime": {
     "end_time": "2021-05-03T11:00:44.025461Z",
     "start_time": "2021-05-03T11:00:44.019911Z"
    }
   },
   "outputs": [],
   "source": [
    "# add_stop_words = []\n",
    "stp_wds = text.ENGLISH_STOP_WORDS #.union(add_stop_words) # uncomment list and .union() to add stop words"
   ]
  },
  {
   "cell_type": "markdown",
   "metadata": {},
   "source": [
    "Other than removing stopwords, there are other ways we can prepare text for modeling, like stemming and lemmatization. I decided to see how my models came out without those transformations to the text and the results were excellent (more on the model outcomes later)."
   ]
  },
  {
   "cell_type": "markdown",
   "metadata": {},
   "source": [
    "### TF-IDF"
   ]
  },
  {
   "cell_type": "markdown",
   "metadata": {},
   "source": [
    "For vecorization, I wanted to go beyond simple word counts. I decided to use TFIDF for the additional predictive power it gains by weighting words according to their importance in a particular post relative to the other posts in the DataFrame. "
   ]
  },
  {
   "cell_type": "code",
   "execution_count": 16,
   "metadata": {
    "ExecuteTime": {
     "end_time": "2021-05-03T11:00:45.056984Z",
     "start_time": "2021-05-03T11:00:44.027378Z"
    }
   },
   "outputs": [],
   "source": [
    "tvec = TfidfVectorizer(stop_words=stp_wds)                # instantiate vectorizer\n",
    "\n",
    "X_train_tvec = tvec.fit_transform(X_train['alltext'])     # fit/transform X_train\n",
    "X_test_tvec = tvec.transform(X_test['alltext'])           # transform X_test"
   ]
  },
  {
   "cell_type": "markdown",
   "metadata": {},
   "source": [
    "After the fit/transform process, our vectorized data are in a format optimized for storage and not for analysis. So it has to be converted to a dense matrix and then into a pandas DataFrame before we can take our next steps. "
   ]
  },
  {
   "cell_type": "code",
   "execution_count": 17,
   "metadata": {
    "ExecuteTime": {
     "end_time": "2021-05-03T11:00:45.062200Z",
     "start_time": "2021-05-03T11:00:45.058646Z"
    },
    "scrolled": true
   },
   "outputs": [
    {
     "data": {
      "text/plain": [
       "scipy.sparse.csr.csr_matrix"
      ]
     },
     "execution_count": 17,
     "metadata": {},
     "output_type": "execute_result"
    }
   ],
   "source": [
    "type(X_train_tvec)       # sparse matrix"
   ]
  },
  {
   "cell_type": "code",
   "execution_count": 18,
   "metadata": {
    "ExecuteTime": {
     "end_time": "2021-05-03T11:00:45.486651Z",
     "start_time": "2021-05-03T11:00:45.063809Z"
    },
    "scrolled": true
   },
   "outputs": [
    {
     "data": {
      "text/plain": [
       "matrix([[0., 0., 0., ..., 0., 0., 0.],\n",
       "        [0., 0., 0., ..., 0., 0., 0.],\n",
       "        [0., 0., 0., ..., 0., 0., 0.],\n",
       "        ...,\n",
       "        [0., 0., 0., ..., 0., 0., 0.],\n",
       "        [0., 0., 0., ..., 0., 0., 0.],\n",
       "        [0., 0., 0., ..., 0., 0., 0.]])"
      ]
     },
     "execution_count": 18,
     "metadata": {},
     "output_type": "execute_result"
    }
   ],
   "source": [
    "X_train_tvec.todense()   # dense matrix"
   ]
  },
  {
   "cell_type": "code",
   "execution_count": 19,
   "metadata": {
    "ExecuteTime": {
     "end_time": "2021-05-03T11:00:45.954276Z",
     "start_time": "2021-05-03T11:00:45.488188Z"
    }
   },
   "outputs": [],
   "source": [
    "X_train_df = pd.DataFrame(X_train_tvec.todense(), columns=tvec.get_feature_names())\n",
    "# X_train_df.head()"
   ]
  },
  {
   "cell_type": "code",
   "execution_count": 20,
   "metadata": {
    "ExecuteTime": {
     "end_time": "2021-05-03T11:00:46.128964Z",
     "start_time": "2021-05-03T11:00:45.956310Z"
    }
   },
   "outputs": [],
   "source": [
    "X_test_df = pd.DataFrame(X_test_tvec.todense(), columns=tvec.get_feature_names())\n",
    "# X_test_df.head()"
   ]
  },
  {
   "cell_type": "markdown",
   "metadata": {},
   "source": [
    "Once they're converted, I reset their indexes of the DataFrames to make sure things were clean moving forward and then concatenated the vecorized columns to the split DataFrames (Train and Test)."
   ]
  },
  {
   "cell_type": "code",
   "execution_count": 21,
   "metadata": {
    "ExecuteTime": {
     "end_time": "2021-05-03T11:00:46.133436Z",
     "start_time": "2021-05-03T11:00:46.130544Z"
    }
   },
   "outputs": [],
   "source": [
    "X_train_df.reset_index(drop=True, inplace=True)      # reset train_df index after transform\n",
    "X_train.reset_index(drop=True, inplace=True)         # reset original X_train to match for concat\n",
    "\n",
    "X_test.reset_index(drop=True, inplace=True)          # reset test_df index after transform\n",
    "X_test_df.reset_index(drop=True, inplace = True)     # reset original X_test to match for concat"
   ]
  },
  {
   "cell_type": "code",
   "execution_count": 59,
   "metadata": {
    "ExecuteTime": {
     "end_time": "2021-05-03T14:46:05.744785Z",
     "start_time": "2021-05-03T14:46:01.928416Z"
    }
   },
   "outputs": [],
   "source": [
    "X_train_all = pd.concat([X_train, X_train_df],axis = 1)    # concat train token columns with other features\n",
    "# X_train_all.head()"
   ]
  },
  {
   "cell_type": "code",
   "execution_count": 23,
   "metadata": {
    "ExecuteTime": {
     "end_time": "2021-05-03T11:00:50.215782Z",
     "start_time": "2021-05-03T11:00:50.212577Z"
    }
   },
   "outputs": [
    {
     "data": {
      "text/plain": [
       "(9312, 27619)"
      ]
     },
     "execution_count": 23,
     "metadata": {},
     "output_type": "execute_result"
    }
   ],
   "source": [
    "X_train_all.shape"
   ]
  },
  {
   "cell_type": "code",
   "execution_count": 24,
   "metadata": {
    "ExecuteTime": {
     "end_time": "2021-05-03T11:00:51.479686Z",
     "start_time": "2021-05-03T11:00:50.220294Z"
    }
   },
   "outputs": [],
   "source": [
    "X_test_all = pd.concat([X_test, X_test_df],axis = 1)       # concat test token columns with other features\n",
    "# X_test_all.head()"
   ]
  },
  {
   "cell_type": "markdown",
   "metadata": {},
   "source": [
    "# Modeling"
   ]
  },
  {
   "cell_type": "markdown",
   "metadata": {
    "ExecuteTime": {
     "end_time": "2021-04-30T01:03:20.182117Z",
     "start_time": "2021-04-30T01:03:20.172260Z"
    }
   },
   "source": [
    "## Baseline Model"
   ]
  },
  {
   "cell_type": "code",
   "execution_count": 25,
   "metadata": {
    "ExecuteTime": {
     "end_time": "2021-05-03T11:00:51.491597Z",
     "start_time": "2021-05-03T11:00:51.481073Z"
    }
   },
   "outputs": [
    {
     "data": {
      "text/plain": [
       "1    0.562178\n",
       "0    0.437822\n",
       "Name: target, dtype: float64"
      ]
     },
     "execution_count": 25,
     "metadata": {},
     "output_type": "execute_result"
    }
   ],
   "source": [
    "y_test.value_counts(normalize=True)"
   ]
  },
  {
   "cell_type": "markdown",
   "metadata": {},
   "source": [
    "The cleaned dataset contains about 56% NFL posts and 44% EPL posts. This is our baseline model. We hope (and at this point fully expect) that our model will far exceed this level of accuracy. "
   ]
  },
  {
   "cell_type": "markdown",
   "metadata": {},
   "source": [
    "## Logistic Regression"
   ]
  },
  {
   "cell_type": "markdown",
   "metadata": {},
   "source": [
    "I started with Logistic Regression because our primary goal is to identify which words are the most prominant and important within these subreddit communities. This was the emphasis of OverArmor's requests.\n",
    "\n",
    "With LogReg, we can interpret the coefficients for each word to determine it's impact on the likliness of a post to be categorized in the majority class. "
   ]
  },
  {
   "cell_type": "markdown",
   "metadata": {},
   "source": [
    "### X, y setup"
   ]
  },
  {
   "cell_type": "code",
   "execution_count": 26,
   "metadata": {
    "ExecuteTime": {
     "end_time": "2021-05-03T11:00:52.950464Z",
     "start_time": "2021-05-03T11:00:51.493165Z"
    }
   },
   "outputs": [],
   "source": [
    "X_train_mod = X_train_all.drop(columns=['alltext'])\n",
    "y_train_mod = y_train\n",
    "X_test_mod = X_test_all.drop(columns=['alltext'])\n",
    "y_test_mod = y_test"
   ]
  },
  {
   "cell_type": "markdown",
   "metadata": {},
   "source": [
    "### Custom quickmodel function"
   ]
  },
  {
   "cell_type": "code",
   "execution_count": 56,
   "metadata": {
    "ExecuteTime": {
     "end_time": "2021-05-03T14:37:02.776447Z",
     "start_time": "2021-05-03T14:37:02.774578Z"
    },
    "scrolled": false
   },
   "outputs": [],
   "source": [
    "# dns.quickmod_logregsa_nlp(X_train=X_train_mod, y_train=y_train_mod, \n",
    "#                                X_test=X_test_mod, y_test=y_test_mod,\n",
    "#                                alist=[.15, .1525, .155, .1575, .16], \n",
    "#                                penalty='l1', \n",
    "#                                random_state=74\n",
    "#                                )"
   ]
  },
  {
   "cell_type": "markdown",
   "metadata": {},
   "source": [
    "<span style=\"font-family:Trebuchet MS; display:block; text-align:center; font-size:2em;\">Testing Values for 𝛼</span>\n",
    "\n",
    "| alpha     | C           | Train Acc.| Test Acc.   |\n",
    "|:----------|:------------|:----------|:------------|\n",
    "|   0.15    |   6.6667    |   1       | 0.9745      |\n",
    "|**0.1525** | **6.5574**  | **1**     |**0.9749**   |\n",
    "| 0.155     | 6.4516      | 1         | 0.9745      |\n",
    "| 0.16      | 6.25        | 1         | 0.9742      | \n"
   ]
  },
  {
   "cell_type": "markdown",
   "metadata": {},
   "source": [
    "^ These values are the test accuracy scores after I removed excess columns. The best score here is the .975 score using an alpha of .1525."
   ]
  },
  {
   "cell_type": "markdown",
   "metadata": {},
   "source": [
    "<span style='font-family:Trebuchet MS; display:block; text-align:center; font-size:2em;'>Testing Values for 𝛼</span>\n",
    "    \n",
    "`|         Batch 1          |          Batch 2           |           Batch 3           |         Batch 4         |`\n",
    "    \n",
    "| alpha     | C           | Train Acc.| Test Acc.     |┃| alpha     | C           | Train Acc.| Test Acc.   |┃| alpha       | C           | Train Acc.| Test Acc.     |┃| alpha     | C           | Train Acc.| Test Acc.   |\n",
    "    |:----------|:------------|:----------|:--------------| |:----------|:------------|:----------|:------------| |:----------|:------------|:----------|:--------------| |:----------|:------------|:----------|:------------|\n",
    "    | **0.1**   | **10**      | **1**     | **0.9872**    |┃| 0.05      | 20          | 1         | 0.9875      |┃| 0.04        | 25          | 1         | 0.9869        |┃| **0.15**  | **6.6667**  | **1**     | **0.9885**  |\n",
    "    | 0.2       | 5           | 1         | 0.9860        |┃| 0.8       | 1.25        | 1         | 0.9796      |┃| 0.06        | 16.6667     | 1         | 0.9879        |┃| 0.1525    | 6.5574      | 1         | 0.9879      |\n",
    "    | 0.3       | 3.3333      | 1         | 0.9866        |┃| 0.12      | 8.3333      | 1         | 0.9869      |┃| 0.14        | 7.1428      | 1         | 0.9860        |┃| 0.155     | 6.4516      | 1         | 0.9888      |\n",
    "    | 0.4       | 2.5         | 1         | 0.9818        |┃| **0.15**  | **6.6667**  | **1**     | **0.9885**  |┃| **0.16**    | **6.25**    | **1**     | **0.9888**    |┃| **0.16**  | **6.25**    | **1**     | **0.9888**  | "
   ]
  },
  {
   "cell_type": "markdown",
   "metadata": {},
   "source": [
    "^ This table of scores came from my first tests with the quickmodel function. Once I realized that my cleaning strategies had skewed the model, I came back and ran one batch using the best values from earlier tests (batch 4)."
   ]
  },
  {
   "cell_type": "markdown",
   "metadata": {},
   "source": [
    "### Using best value for alpha"
   ]
  },
  {
   "cell_type": "code",
   "execution_count": 28,
   "metadata": {
    "ExecuteTime": {
     "end_time": "2021-05-03T11:01:06.685056Z",
     "start_time": "2021-05-03T11:00:52.955964Z"
    },
    "scrolled": true
   },
   "outputs": [
    {
     "data": {
      "text/plain": [
       "LogisticRegression(C=6.451612903225807, penalty='l1', random_state=74,\n",
       "                   solver='liblinear')"
      ]
     },
     "execution_count": 28,
     "metadata": {},
     "output_type": "execute_result"
    }
   ],
   "source": [
    "sc = StandardScaler(with_mean=False)\n",
    "\n",
    "Z_train = sc.fit_transform(X_train_mod)\n",
    "Z_test = sc.transform(X_test_mod)\n",
    "\n",
    "logreg = LogisticRegression(penalty='l1', C=(1/.155), solver='liblinear', random_state=74)\n",
    "\n",
    "logreg.fit(Z_train, y_train_mod)"
   ]
  },
  {
   "cell_type": "markdown",
   "metadata": {},
   "source": [
    "### Accuracy"
   ]
  },
  {
   "cell_type": "code",
   "execution_count": 29,
   "metadata": {
    "ExecuteTime": {
     "end_time": "2021-05-03T11:01:06.997639Z",
     "start_time": "2021-05-03T11:01:06.686703Z"
    }
   },
   "outputs": [
    {
     "data": {
      "text/plain": [
       "1.0"
      ]
     },
     "execution_count": 29,
     "metadata": {},
     "output_type": "execute_result"
    }
   ],
   "source": [
    "logreg.score(Z_train, y_train_mod)"
   ]
  },
  {
   "cell_type": "code",
   "execution_count": 30,
   "metadata": {
    "ExecuteTime": {
     "end_time": "2021-05-03T11:01:07.121759Z",
     "start_time": "2021-05-03T11:01:07.002893Z"
    }
   },
   "outputs": [
    {
     "data": {
      "text/plain": [
       "0.9745489690721649"
      ]
     },
     "execution_count": 30,
     "metadata": {},
     "output_type": "execute_result"
    }
   ],
   "source": [
    "logreg.score(Z_test, y_test_mod)"
   ]
  },
  {
   "cell_type": "markdown",
   "metadata": {},
   "source": [
    "The accuracy scores for the Logistic regression model are looking really good. There's a bit of overfitting (the training score is slightly higher than the test score), but at only 2.5% difference, the amount is not far from negligible. 97% accuracy blows our baseline model  out of the water. Rather than simply guessing the majority class for every post (only 56% accuracy), our model only mis-classified about 2.5% of the posts based on text alone.\n",
    "\n",
    "I want to see how a Random Forest model will do, but this is in great shape and can serve as a deliverable model if others fall short. This will fullfill the Second of Overarmor's requests."
   ]
  },
  {
   "cell_type": "markdown",
   "metadata": {},
   "source": [
    "### Predictions and Confusion Matrix"
   ]
  },
  {
   "cell_type": "code",
   "execution_count": 60,
   "metadata": {
    "ExecuteTime": {
     "end_time": "2021-05-03T14:48:23.860852Z",
     "start_time": "2021-05-03T14:48:23.306348Z"
    }
   },
   "outputs": [
    {
     "data": {
      "image/svg+xml": [
       "<?xml version=\"1.0\" encoding=\"utf-8\" standalone=\"no\"?>\n",
       "<!DOCTYPE svg PUBLIC \"-//W3C//DTD SVG 1.1//EN\"\n",
       "  \"http://www.w3.org/Graphics/SVG/1.1/DTD/svg11.dtd\">\n",
       "<!-- Created with matplotlib (https://matplotlib.org/) -->\n",
       "<svg height=\"269.93875pt\" version=\"1.1\" viewBox=\"0 0 340.952625 269.93875\" width=\"340.952625pt\" xmlns=\"http://www.w3.org/2000/svg\" xmlns:xlink=\"http://www.w3.org/1999/xlink\">\n",
       " <metadata>\n",
       "  <rdf:RDF xmlns:cc=\"http://creativecommons.org/ns#\" xmlns:dc=\"http://purl.org/dc/elements/1.1/\" xmlns:rdf=\"http://www.w3.org/1999/02/22-rdf-syntax-ns#\">\n",
       "   <cc:Work>\n",
       "    <dc:type rdf:resource=\"http://purl.org/dc/dcmitype/StillImage\"/>\n",
       "    <dc:date>2021-05-03T07:48:23.811089</dc:date>\n",
       "    <dc:format>image/svg+xml</dc:format>\n",
       "    <dc:creator>\n",
       "     <cc:Agent>\n",
       "      <dc:title>Matplotlib v3.3.2, https://matplotlib.org/</dc:title>\n",
       "     </cc:Agent>\n",
       "    </dc:creator>\n",
       "   </cc:Work>\n",
       "  </rdf:RDF>\n",
       " </metadata>\n",
       " <defs>\n",
       "  <style type=\"text/css\">*{stroke-linecap:butt;stroke-linejoin:round;}</style>\n",
       " </defs>\n",
       " <g id=\"figure_1\">\n",
       "  <g id=\"patch_1\">\n",
       "   <path d=\"M 0 269.93875 \n",
       "L 340.952625 269.93875 \n",
       "L 340.952625 0 \n",
       "L 0 0 \n",
       "z\n",
       "\" style=\"fill:none;\"/>\n",
       "  </g>\n",
       "  <g id=\"axes_1\">\n",
       "   <g id=\"patch_2\">\n",
       "    <path d=\"M 56.250625 224.64 \n",
       "L 273.690625 224.64 \n",
       "L 273.690625 7.2 \n",
       "L 56.250625 7.2 \n",
       "z\n",
       "\" style=\"fill:#ffffff;\"/>\n",
       "   </g>\n",
       "   <g clip-path=\"url(#p0ac9d3e2ee)\">\n",
       "    <image height=\"218\" id=\"image2c35f11a95\" transform=\"scale(1 -1)translate(0 -218)\" width=\"218\" x=\"56.250625\" xlink:href=\"data:image/png;base64,\n",
       "iVBORw0KGgoAAAANSUhEUgAAANoAAADaCAYAAADAHVzbAAACmklEQVR4nO3VsQ3CQAAEQUw7REhUQYsOSF0KKaITCsCu4ZN9IWYquGR1y+f72k/8lMfzOnsCg86zB8A/EBoEhAYBoUFAaBAQGgSEBgGhQUBoEBAaBIQGAaFBQGgQEBoEhAYBoUFAaBAQGgSEBgGhQUBoEBAaBIQGAaFBQGgQEBoEhAYBoUFAaBAQGgSEBgGhQUBoEBAaBIQGAaFBQGgQEBoEhAYBoUFAaBAQGgSEBgGhQUBoEBAaBIQGAaFBQGgQEBoEhAYBoUFAaBAQGgSEBgGhQUBoEBAaBIQGAaFBQGgQEBoEhAYBoUFAaBAQGgSEBgGhQUBoEBAaBIQGAaFBQGgQEBoEhAYBoUFAaBAQGgSEBgGhQUBoEBAaBIQGAaFBQGgQEBoEhAYBoUFAaBAQGgSEBgGhQUBoEBAaBIQGAaFBQGgQEBoEhAYBoUFAaBAQGgSEBgGhQUBoEBAaBIQGAaFBYNnet332CMbcL+vsCQzyaBAQGgSEBgGhQUBoEBAaBIQGAaFBQGgQEBoEhAYBoUFAaBAQGgSEBgGhQUBoEBAaBIQGAaFBQGgQEBoEhAYBoUFAaBAQGgSEBgGhQUBoEBAaBIQGAaFBQGgQEBoEhAYBoUFAaBAQGgSEBgGhQUBoEBAaBIQGAaFBQGgQEBoEhAYBoUFAaBAQGgSEBgGhQUBoEBAaBIQGAaFBQGgQEBoEhAYBoUFAaBAQGgSEBgGhQUBoEBAaBIQGAaFBQGgQEBoEhAYBoUFAaBAQGgSEBgGhQUBoEBAaBIQGAaFBQGgQEBoEhAYBoUFAaBAQGgSEBgGhQUBoEBAaBIQGAaFBQGgQEBoEhAYBoUFAaBAQGgSEBgGhQUBoEBAaBIQGAaFBQGgQEBoEhAYBoUHgAOVfCslyyFDuAAAAAElFTkSuQmCC\" y=\"-6.64\"/>\n",
       "   </g>\n",
       "   <g id=\"matplotlib.axis_1\">\n",
       "    <g id=\"xtick_1\">\n",
       "     <g id=\"line2d_1\">\n",
       "      <defs>\n",
       "       <path d=\"M 0 0 \n",
       "L 0 3.5 \n",
       "\" id=\"meb7a5f10d1\" style=\"stroke:#000000;stroke-width:0.8;\"/>\n",
       "      </defs>\n",
       "      <g>\n",
       "       <use style=\"stroke:#000000;stroke-width:0.8;\" x=\"110.610625\" xlink:href=\"#meb7a5f10d1\" y=\"224.64\"/>\n",
       "      </g>\n",
       "     </g>\n",
       "     <g id=\"text_1\">\n",
       "      <!-- EPL -->\n",
       "      <g transform=\"translate(99.858437 240.758125)scale(0.12 -0.12)\">\n",
       "       <defs>\n",
       "        <path d=\"M 9.8125 72.90625 \n",
       "L 55.90625 72.90625 \n",
       "L 55.90625 64.59375 \n",
       "L 19.671875 64.59375 \n",
       "L 19.671875 43.015625 \n",
       "L 54.390625 43.015625 \n",
       "L 54.390625 34.71875 \n",
       "L 19.671875 34.71875 \n",
       "L 19.671875 8.296875 \n",
       "L 56.78125 8.296875 \n",
       "L 56.78125 0 \n",
       "L 9.8125 0 \n",
       "z\n",
       "\" id=\"DejaVuSans-69\"/>\n",
       "        <path d=\"M 19.671875 64.796875 \n",
       "L 19.671875 37.40625 \n",
       "L 32.078125 37.40625 \n",
       "Q 38.96875 37.40625 42.71875 40.96875 \n",
       "Q 46.484375 44.53125 46.484375 51.125 \n",
       "Q 46.484375 57.671875 42.71875 61.234375 \n",
       "Q 38.96875 64.796875 32.078125 64.796875 \n",
       "z\n",
       "M 9.8125 72.90625 \n",
       "L 32.078125 72.90625 \n",
       "Q 44.34375 72.90625 50.609375 67.359375 \n",
       "Q 56.890625 61.8125 56.890625 51.125 \n",
       "Q 56.890625 40.328125 50.609375 34.8125 \n",
       "Q 44.34375 29.296875 32.078125 29.296875 \n",
       "L 19.671875 29.296875 \n",
       "L 19.671875 0 \n",
       "L 9.8125 0 \n",
       "z\n",
       "\" id=\"DejaVuSans-80\"/>\n",
       "        <path d=\"M 9.8125 72.90625 \n",
       "L 19.671875 72.90625 \n",
       "L 19.671875 8.296875 \n",
       "L 55.171875 8.296875 \n",
       "L 55.171875 0 \n",
       "L 9.8125 0 \n",
       "z\n",
       "\" id=\"DejaVuSans-76\"/>\n",
       "       </defs>\n",
       "       <use xlink:href=\"#DejaVuSans-69\"/>\n",
       "       <use x=\"63.183594\" xlink:href=\"#DejaVuSans-80\"/>\n",
       "       <use x=\"123.486328\" xlink:href=\"#DejaVuSans-76\"/>\n",
       "      </g>\n",
       "     </g>\n",
       "    </g>\n",
       "    <g id=\"xtick_2\">\n",
       "     <g id=\"line2d_2\">\n",
       "      <g>\n",
       "       <use style=\"stroke:#000000;stroke-width:0.8;\" x=\"219.330625\" xlink:href=\"#meb7a5f10d1\" y=\"224.64\"/>\n",
       "      </g>\n",
       "     </g>\n",
       "     <g id=\"text_2\">\n",
       "      <!-- NFL -->\n",
       "      <g transform=\"translate(208.047812 240.758125)scale(0.12 -0.12)\">\n",
       "       <defs>\n",
       "        <path d=\"M 9.8125 72.90625 \n",
       "L 23.09375 72.90625 \n",
       "L 55.421875 11.921875 \n",
       "L 55.421875 72.90625 \n",
       "L 64.984375 72.90625 \n",
       "L 64.984375 0 \n",
       "L 51.703125 0 \n",
       "L 19.390625 60.984375 \n",
       "L 19.390625 0 \n",
       "L 9.8125 0 \n",
       "z\n",
       "\" id=\"DejaVuSans-78\"/>\n",
       "        <path d=\"M 9.8125 72.90625 \n",
       "L 51.703125 72.90625 \n",
       "L 51.703125 64.59375 \n",
       "L 19.671875 64.59375 \n",
       "L 19.671875 43.109375 \n",
       "L 48.578125 43.109375 \n",
       "L 48.578125 34.8125 \n",
       "L 19.671875 34.8125 \n",
       "L 19.671875 0 \n",
       "L 9.8125 0 \n",
       "z\n",
       "\" id=\"DejaVuSans-70\"/>\n",
       "       </defs>\n",
       "       <use xlink:href=\"#DejaVuSans-78\"/>\n",
       "       <use x=\"74.804688\" xlink:href=\"#DejaVuSans-70\"/>\n",
       "       <use x=\"132.324219\" xlink:href=\"#DejaVuSans-76\"/>\n",
       "      </g>\n",
       "     </g>\n",
       "    </g>\n",
       "    <g id=\"text_3\">\n",
       "     <!-- Predicted -->\n",
       "     <g transform=\"translate(127.418125 259.41125)scale(0.16 -0.16)\">\n",
       "      <defs>\n",
       "       <path d=\"M 41.109375 46.296875 \n",
       "Q 39.59375 47.171875 37.8125 47.578125 \n",
       "Q 36.03125 48 33.890625 48 \n",
       "Q 26.265625 48 22.1875 43.046875 \n",
       "Q 18.109375 38.09375 18.109375 28.8125 \n",
       "L 18.109375 0 \n",
       "L 9.078125 0 \n",
       "L 9.078125 54.6875 \n",
       "L 18.109375 54.6875 \n",
       "L 18.109375 46.1875 \n",
       "Q 20.953125 51.171875 25.484375 53.578125 \n",
       "Q 30.03125 56 36.53125 56 \n",
       "Q 37.453125 56 38.578125 55.875 \n",
       "Q 39.703125 55.765625 41.0625 55.515625 \n",
       "z\n",
       "\" id=\"DejaVuSans-114\"/>\n",
       "       <path d=\"M 56.203125 29.59375 \n",
       "L 56.203125 25.203125 \n",
       "L 14.890625 25.203125 \n",
       "Q 15.484375 15.921875 20.484375 11.0625 \n",
       "Q 25.484375 6.203125 34.421875 6.203125 \n",
       "Q 39.59375 6.203125 44.453125 7.46875 \n",
       "Q 49.3125 8.734375 54.109375 11.28125 \n",
       "L 54.109375 2.78125 \n",
       "Q 49.265625 0.734375 44.1875 -0.34375 \n",
       "Q 39.109375 -1.421875 33.890625 -1.421875 \n",
       "Q 20.796875 -1.421875 13.15625 6.1875 \n",
       "Q 5.515625 13.8125 5.515625 26.8125 \n",
       "Q 5.515625 40.234375 12.765625 48.109375 \n",
       "Q 20.015625 56 32.328125 56 \n",
       "Q 43.359375 56 49.78125 48.890625 \n",
       "Q 56.203125 41.796875 56.203125 29.59375 \n",
       "z\n",
       "M 47.21875 32.234375 \n",
       "Q 47.125 39.59375 43.09375 43.984375 \n",
       "Q 39.0625 48.390625 32.421875 48.390625 \n",
       "Q 24.90625 48.390625 20.390625 44.140625 \n",
       "Q 15.875 39.890625 15.1875 32.171875 \n",
       "z\n",
       "\" id=\"DejaVuSans-101\"/>\n",
       "       <path d=\"M 45.40625 46.390625 \n",
       "L 45.40625 75.984375 \n",
       "L 54.390625 75.984375 \n",
       "L 54.390625 0 \n",
       "L 45.40625 0 \n",
       "L 45.40625 8.203125 \n",
       "Q 42.578125 3.328125 38.25 0.953125 \n",
       "Q 33.9375 -1.421875 27.875 -1.421875 \n",
       "Q 17.96875 -1.421875 11.734375 6.484375 \n",
       "Q 5.515625 14.40625 5.515625 27.296875 \n",
       "Q 5.515625 40.1875 11.734375 48.09375 \n",
       "Q 17.96875 56 27.875 56 \n",
       "Q 33.9375 56 38.25 53.625 \n",
       "Q 42.578125 51.265625 45.40625 46.390625 \n",
       "z\n",
       "M 14.796875 27.296875 \n",
       "Q 14.796875 17.390625 18.875 11.75 \n",
       "Q 22.953125 6.109375 30.078125 6.109375 \n",
       "Q 37.203125 6.109375 41.296875 11.75 \n",
       "Q 45.40625 17.390625 45.40625 27.296875 \n",
       "Q 45.40625 37.203125 41.296875 42.84375 \n",
       "Q 37.203125 48.484375 30.078125 48.484375 \n",
       "Q 22.953125 48.484375 18.875 42.84375 \n",
       "Q 14.796875 37.203125 14.796875 27.296875 \n",
       "z\n",
       "\" id=\"DejaVuSans-100\"/>\n",
       "       <path d=\"M 9.421875 54.6875 \n",
       "L 18.40625 54.6875 \n",
       "L 18.40625 0 \n",
       "L 9.421875 0 \n",
       "z\n",
       "M 9.421875 75.984375 \n",
       "L 18.40625 75.984375 \n",
       "L 18.40625 64.59375 \n",
       "L 9.421875 64.59375 \n",
       "z\n",
       "\" id=\"DejaVuSans-105\"/>\n",
       "       <path d=\"M 48.78125 52.59375 \n",
       "L 48.78125 44.1875 \n",
       "Q 44.96875 46.296875 41.140625 47.34375 \n",
       "Q 37.3125 48.390625 33.40625 48.390625 \n",
       "Q 24.65625 48.390625 19.8125 42.84375 \n",
       "Q 14.984375 37.3125 14.984375 27.296875 \n",
       "Q 14.984375 17.28125 19.8125 11.734375 \n",
       "Q 24.65625 6.203125 33.40625 6.203125 \n",
       "Q 37.3125 6.203125 41.140625 7.25 \n",
       "Q 44.96875 8.296875 48.78125 10.40625 \n",
       "L 48.78125 2.09375 \n",
       "Q 45.015625 0.34375 40.984375 -0.53125 \n",
       "Q 36.96875 -1.421875 32.421875 -1.421875 \n",
       "Q 20.0625 -1.421875 12.78125 6.34375 \n",
       "Q 5.515625 14.109375 5.515625 27.296875 \n",
       "Q 5.515625 40.671875 12.859375 48.328125 \n",
       "Q 20.21875 56 33.015625 56 \n",
       "Q 37.15625 56 41.109375 55.140625 \n",
       "Q 45.0625 54.296875 48.78125 52.59375 \n",
       "z\n",
       "\" id=\"DejaVuSans-99\"/>\n",
       "       <path d=\"M 18.3125 70.21875 \n",
       "L 18.3125 54.6875 \n",
       "L 36.8125 54.6875 \n",
       "L 36.8125 47.703125 \n",
       "L 18.3125 47.703125 \n",
       "L 18.3125 18.015625 \n",
       "Q 18.3125 11.328125 20.140625 9.421875 \n",
       "Q 21.96875 7.515625 27.59375 7.515625 \n",
       "L 36.8125 7.515625 \n",
       "L 36.8125 0 \n",
       "L 27.59375 0 \n",
       "Q 17.1875 0 13.234375 3.875 \n",
       "Q 9.28125 7.765625 9.28125 18.015625 \n",
       "L 9.28125 47.703125 \n",
       "L 2.6875 47.703125 \n",
       "L 2.6875 54.6875 \n",
       "L 9.28125 54.6875 \n",
       "L 9.28125 70.21875 \n",
       "z\n",
       "\" id=\"DejaVuSans-116\"/>\n",
       "      </defs>\n",
       "      <use xlink:href=\"#DejaVuSans-80\"/>\n",
       "      <use x=\"58.552734\" xlink:href=\"#DejaVuSans-114\"/>\n",
       "      <use x=\"97.416016\" xlink:href=\"#DejaVuSans-101\"/>\n",
       "      <use x=\"158.939453\" xlink:href=\"#DejaVuSans-100\"/>\n",
       "      <use x=\"222.416016\" xlink:href=\"#DejaVuSans-105\"/>\n",
       "      <use x=\"250.199219\" xlink:href=\"#DejaVuSans-99\"/>\n",
       "      <use x=\"305.179688\" xlink:href=\"#DejaVuSans-116\"/>\n",
       "      <use x=\"344.388672\" xlink:href=\"#DejaVuSans-101\"/>\n",
       "      <use x=\"405.912109\" xlink:href=\"#DejaVuSans-100\"/>\n",
       "     </g>\n",
       "    </g>\n",
       "   </g>\n",
       "   <g id=\"matplotlib.axis_2\">\n",
       "    <g id=\"ytick_1\">\n",
       "     <g id=\"line2d_3\">\n",
       "      <defs>\n",
       "       <path d=\"M 0 0 \n",
       "L -3.5 0 \n",
       "\" id=\"m24410afe12\" style=\"stroke:#000000;stroke-width:0.8;\"/>\n",
       "      </defs>\n",
       "      <g>\n",
       "       <use style=\"stroke:#000000;stroke-width:0.8;\" x=\"56.250625\" xlink:href=\"#m24410afe12\" y=\"61.56\"/>\n",
       "      </g>\n",
       "     </g>\n",
       "     <g id=\"text_4\">\n",
       "      <!-- EPL -->\n",
       "      <g transform=\"translate(27.74625 66.119063)scale(0.12 -0.12)\">\n",
       "       <use xlink:href=\"#DejaVuSans-69\"/>\n",
       "       <use x=\"63.183594\" xlink:href=\"#DejaVuSans-80\"/>\n",
       "       <use x=\"123.486328\" xlink:href=\"#DejaVuSans-76\"/>\n",
       "      </g>\n",
       "     </g>\n",
       "    </g>\n",
       "    <g id=\"ytick_2\">\n",
       "     <g id=\"line2d_4\">\n",
       "      <g>\n",
       "       <use style=\"stroke:#000000;stroke-width:0.8;\" x=\"56.250625\" xlink:href=\"#m24410afe12\" y=\"170.28\"/>\n",
       "      </g>\n",
       "     </g>\n",
       "     <g id=\"text_5\">\n",
       "      <!-- NFL -->\n",
       "      <g transform=\"translate(26.685 174.839063)scale(0.12 -0.12)\">\n",
       "       <use xlink:href=\"#DejaVuSans-78\"/>\n",
       "       <use x=\"74.804688\" xlink:href=\"#DejaVuSans-70\"/>\n",
       "       <use x=\"132.324219\" xlink:href=\"#DejaVuSans-76\"/>\n",
       "      </g>\n",
       "     </g>\n",
       "    </g>\n",
       "    <g id=\"text_6\">\n",
       "     <!-- Actual -->\n",
       "     <g transform=\"translate(19.3575 140.9825)rotate(-90)scale(0.16 -0.16)\">\n",
       "      <defs>\n",
       "       <path d=\"M 34.1875 63.1875 \n",
       "L 20.796875 26.90625 \n",
       "L 47.609375 26.90625 \n",
       "z\n",
       "M 28.609375 72.90625 \n",
       "L 39.796875 72.90625 \n",
       "L 67.578125 0 \n",
       "L 57.328125 0 \n",
       "L 50.6875 18.703125 \n",
       "L 17.828125 18.703125 \n",
       "L 11.1875 0 \n",
       "L 0.78125 0 \n",
       "z\n",
       "\" id=\"DejaVuSans-65\"/>\n",
       "       <path d=\"M 8.5 21.578125 \n",
       "L 8.5 54.6875 \n",
       "L 17.484375 54.6875 \n",
       "L 17.484375 21.921875 \n",
       "Q 17.484375 14.15625 20.5 10.265625 \n",
       "Q 23.53125 6.390625 29.59375 6.390625 \n",
       "Q 36.859375 6.390625 41.078125 11.03125 \n",
       "Q 45.3125 15.671875 45.3125 23.6875 \n",
       "L 45.3125 54.6875 \n",
       "L 54.296875 54.6875 \n",
       "L 54.296875 0 \n",
       "L 45.3125 0 \n",
       "L 45.3125 8.40625 \n",
       "Q 42.046875 3.421875 37.71875 1 \n",
       "Q 33.40625 -1.421875 27.6875 -1.421875 \n",
       "Q 18.265625 -1.421875 13.375 4.4375 \n",
       "Q 8.5 10.296875 8.5 21.578125 \n",
       "z\n",
       "M 31.109375 56 \n",
       "z\n",
       "\" id=\"DejaVuSans-117\"/>\n",
       "       <path d=\"M 34.28125 27.484375 \n",
       "Q 23.390625 27.484375 19.1875 25 \n",
       "Q 14.984375 22.515625 14.984375 16.5 \n",
       "Q 14.984375 11.71875 18.140625 8.90625 \n",
       "Q 21.296875 6.109375 26.703125 6.109375 \n",
       "Q 34.1875 6.109375 38.703125 11.40625 \n",
       "Q 43.21875 16.703125 43.21875 25.484375 \n",
       "L 43.21875 27.484375 \n",
       "z\n",
       "M 52.203125 31.203125 \n",
       "L 52.203125 0 \n",
       "L 43.21875 0 \n",
       "L 43.21875 8.296875 \n",
       "Q 40.140625 3.328125 35.546875 0.953125 \n",
       "Q 30.953125 -1.421875 24.3125 -1.421875 \n",
       "Q 15.921875 -1.421875 10.953125 3.296875 \n",
       "Q 6 8.015625 6 15.921875 \n",
       "Q 6 25.140625 12.171875 29.828125 \n",
       "Q 18.359375 34.515625 30.609375 34.515625 \n",
       "L 43.21875 34.515625 \n",
       "L 43.21875 35.40625 \n",
       "Q 43.21875 41.609375 39.140625 45 \n",
       "Q 35.0625 48.390625 27.6875 48.390625 \n",
       "Q 23 48.390625 18.546875 47.265625 \n",
       "Q 14.109375 46.140625 10.015625 43.890625 \n",
       "L 10.015625 52.203125 \n",
       "Q 14.9375 54.109375 19.578125 55.046875 \n",
       "Q 24.21875 56 28.609375 56 \n",
       "Q 40.484375 56 46.34375 49.84375 \n",
       "Q 52.203125 43.703125 52.203125 31.203125 \n",
       "z\n",
       "\" id=\"DejaVuSans-97\"/>\n",
       "       <path d=\"M 9.421875 75.984375 \n",
       "L 18.40625 75.984375 \n",
       "L 18.40625 0 \n",
       "L 9.421875 0 \n",
       "z\n",
       "\" id=\"DejaVuSans-108\"/>\n",
       "      </defs>\n",
       "      <use xlink:href=\"#DejaVuSans-65\"/>\n",
       "      <use x=\"66.658203\" xlink:href=\"#DejaVuSans-99\"/>\n",
       "      <use x=\"121.638672\" xlink:href=\"#DejaVuSans-116\"/>\n",
       "      <use x=\"160.847656\" xlink:href=\"#DejaVuSans-117\"/>\n",
       "      <use x=\"224.226562\" xlink:href=\"#DejaVuSans-97\"/>\n",
       "      <use x=\"285.505859\" xlink:href=\"#DejaVuSans-108\"/>\n",
       "     </g>\n",
       "    </g>\n",
       "   </g>\n",
       "   <g id=\"patch_3\">\n",
       "    <path d=\"M 56.250625 224.64 \n",
       "L 56.250625 7.2 \n",
       "\" style=\"fill:none;stroke:#000000;stroke-linecap:square;stroke-linejoin:miter;stroke-width:0.8;\"/>\n",
       "   </g>\n",
       "   <g id=\"patch_4\">\n",
       "    <path d=\"M 273.690625 224.64 \n",
       "L 273.690625 7.2 \n",
       "\" style=\"fill:none;stroke:#000000;stroke-linecap:square;stroke-linejoin:miter;stroke-width:0.8;\"/>\n",
       "   </g>\n",
       "   <g id=\"patch_5\">\n",
       "    <path d=\"M 56.250625 224.64 \n",
       "L 273.690625 224.64 \n",
       "\" style=\"fill:none;stroke:#000000;stroke-linecap:square;stroke-linejoin:miter;stroke-width:0.8;\"/>\n",
       "   </g>\n",
       "   <g id=\"patch_6\">\n",
       "    <path d=\"M 56.250625 7.2 \n",
       "L 273.690625 7.2 \n",
       "\" style=\"fill:none;stroke:#000000;stroke-linecap:square;stroke-linejoin:miter;stroke-width:0.8;\"/>\n",
       "   </g>\n",
       "   <g id=\"text_7\">\n",
       "    <!-- 1310 -->\n",
       "    <g style=\"fill:#f3ffd1;\" transform=\"translate(97.885625 64.319375)scale(0.1 -0.1)\">\n",
       "     <defs>\n",
       "      <path d=\"M 12.40625 8.296875 \n",
       "L 28.515625 8.296875 \n",
       "L 28.515625 63.921875 \n",
       "L 10.984375 60.40625 \n",
       "L 10.984375 69.390625 \n",
       "L 28.421875 72.90625 \n",
       "L 38.28125 72.90625 \n",
       "L 38.28125 8.296875 \n",
       "L 54.390625 8.296875 \n",
       "L 54.390625 0 \n",
       "L 12.40625 0 \n",
       "z\n",
       "\" id=\"DejaVuSans-49\"/>\n",
       "      <path d=\"M 40.578125 39.3125 \n",
       "Q 47.65625 37.796875 51.625 33 \n",
       "Q 55.609375 28.21875 55.609375 21.1875 \n",
       "Q 55.609375 10.40625 48.1875 4.484375 \n",
       "Q 40.765625 -1.421875 27.09375 -1.421875 \n",
       "Q 22.515625 -1.421875 17.65625 -0.515625 \n",
       "Q 12.796875 0.390625 7.625 2.203125 \n",
       "L 7.625 11.71875 \n",
       "Q 11.71875 9.328125 16.59375 8.109375 \n",
       "Q 21.484375 6.890625 26.8125 6.890625 \n",
       "Q 36.078125 6.890625 40.9375 10.546875 \n",
       "Q 45.796875 14.203125 45.796875 21.1875 \n",
       "Q 45.796875 27.640625 41.28125 31.265625 \n",
       "Q 36.765625 34.90625 28.71875 34.90625 \n",
       "L 20.21875 34.90625 \n",
       "L 20.21875 43.015625 \n",
       "L 29.109375 43.015625 \n",
       "Q 36.375 43.015625 40.234375 45.921875 \n",
       "Q 44.09375 48.828125 44.09375 54.296875 \n",
       "Q 44.09375 59.90625 40.109375 62.90625 \n",
       "Q 36.140625 65.921875 28.71875 65.921875 \n",
       "Q 24.65625 65.921875 20.015625 65.03125 \n",
       "Q 15.375 64.15625 9.8125 62.3125 \n",
       "L 9.8125 71.09375 \n",
       "Q 15.4375 72.65625 20.34375 73.4375 \n",
       "Q 25.25 74.21875 29.59375 74.21875 \n",
       "Q 40.828125 74.21875 47.359375 69.109375 \n",
       "Q 53.90625 64.015625 53.90625 55.328125 \n",
       "Q 53.90625 49.265625 50.4375 45.09375 \n",
       "Q 46.96875 40.921875 40.578125 39.3125 \n",
       "z\n",
       "\" id=\"DejaVuSans-51\"/>\n",
       "      <path d=\"M 31.78125 66.40625 \n",
       "Q 24.171875 66.40625 20.328125 58.90625 \n",
       "Q 16.5 51.421875 16.5 36.375 \n",
       "Q 16.5 21.390625 20.328125 13.890625 \n",
       "Q 24.171875 6.390625 31.78125 6.390625 \n",
       "Q 39.453125 6.390625 43.28125 13.890625 \n",
       "Q 47.125 21.390625 47.125 36.375 \n",
       "Q 47.125 51.421875 43.28125 58.90625 \n",
       "Q 39.453125 66.40625 31.78125 66.40625 \n",
       "z\n",
       "M 31.78125 74.21875 \n",
       "Q 44.046875 74.21875 50.515625 64.515625 \n",
       "Q 56.984375 54.828125 56.984375 36.375 \n",
       "Q 56.984375 17.96875 50.515625 8.265625 \n",
       "Q 44.046875 -1.421875 31.78125 -1.421875 \n",
       "Q 19.53125 -1.421875 13.0625 8.265625 \n",
       "Q 6.59375 17.96875 6.59375 36.375 \n",
       "Q 6.59375 54.828125 13.0625 64.515625 \n",
       "Q 19.53125 74.21875 31.78125 74.21875 \n",
       "z\n",
       "\" id=\"DejaVuSans-48\"/>\n",
       "     </defs>\n",
       "     <use xlink:href=\"#DejaVuSans-49\"/>\n",
       "     <use x=\"63.623047\" xlink:href=\"#DejaVuSans-51\"/>\n",
       "     <use x=\"127.246094\" xlink:href=\"#DejaVuSans-49\"/>\n",
       "     <use x=\"190.869141\" xlink:href=\"#DejaVuSans-48\"/>\n",
       "    </g>\n",
       "   </g>\n",
       "   <g id=\"text_8\">\n",
       "    <!-- 49 -->\n",
       "    <g style=\"fill:#91c603;\" transform=\"translate(212.968125 64.319375)scale(0.1 -0.1)\">\n",
       "     <defs>\n",
       "      <path d=\"M 37.796875 64.3125 \n",
       "L 12.890625 25.390625 \n",
       "L 37.796875 25.390625 \n",
       "z\n",
       "M 35.203125 72.90625 \n",
       "L 47.609375 72.90625 \n",
       "L 47.609375 25.390625 \n",
       "L 58.015625 25.390625 \n",
       "L 58.015625 17.1875 \n",
       "L 47.609375 17.1875 \n",
       "L 47.609375 0 \n",
       "L 37.796875 0 \n",
       "L 37.796875 17.1875 \n",
       "L 4.890625 17.1875 \n",
       "L 4.890625 26.703125 \n",
       "z\n",
       "\" id=\"DejaVuSans-52\"/>\n",
       "      <path d=\"M 10.984375 1.515625 \n",
       "L 10.984375 10.5 \n",
       "Q 14.703125 8.734375 18.5 7.8125 \n",
       "Q 22.3125 6.890625 25.984375 6.890625 \n",
       "Q 35.75 6.890625 40.890625 13.453125 \n",
       "Q 46.046875 20.015625 46.78125 33.40625 \n",
       "Q 43.953125 29.203125 39.59375 26.953125 \n",
       "Q 35.25 24.703125 29.984375 24.703125 \n",
       "Q 19.046875 24.703125 12.671875 31.3125 \n",
       "Q 6.296875 37.9375 6.296875 49.421875 \n",
       "Q 6.296875 60.640625 12.9375 67.421875 \n",
       "Q 19.578125 74.21875 30.609375 74.21875 \n",
       "Q 43.265625 74.21875 49.921875 64.515625 \n",
       "Q 56.59375 54.828125 56.59375 36.375 \n",
       "Q 56.59375 19.140625 48.40625 8.859375 \n",
       "Q 40.234375 -1.421875 26.421875 -1.421875 \n",
       "Q 22.703125 -1.421875 18.890625 -0.6875 \n",
       "Q 15.09375 0.046875 10.984375 1.515625 \n",
       "z\n",
       "M 30.609375 32.421875 \n",
       "Q 37.25 32.421875 41.125 36.953125 \n",
       "Q 45.015625 41.5 45.015625 49.421875 \n",
       "Q 45.015625 57.28125 41.125 61.84375 \n",
       "Q 37.25 66.40625 30.609375 66.40625 \n",
       "Q 23.96875 66.40625 20.09375 61.84375 \n",
       "Q 16.21875 57.28125 16.21875 49.421875 \n",
       "Q 16.21875 41.5 20.09375 36.953125 \n",
       "Q 23.96875 32.421875 30.609375 32.421875 \n",
       "z\n",
       "\" id=\"DejaVuSans-57\"/>\n",
       "     </defs>\n",
       "     <use xlink:href=\"#DejaVuSans-52\"/>\n",
       "     <use x=\"63.623047\" xlink:href=\"#DejaVuSans-57\"/>\n",
       "    </g>\n",
       "   </g>\n",
       "   <g id=\"text_9\">\n",
       "    <!-- 30 -->\n",
       "    <g style=\"fill:#91c603;\" transform=\"translate(104.248125 173.039375)scale(0.1 -0.1)\">\n",
       "     <use xlink:href=\"#DejaVuSans-51\"/>\n",
       "     <use x=\"63.623047\" xlink:href=\"#DejaVuSans-48\"/>\n",
       "    </g>\n",
       "   </g>\n",
       "   <g id=\"text_10\">\n",
       "    <!-- 1715 -->\n",
       "    <g style=\"fill:#f3ffd1;\" transform=\"translate(206.605625 173.039375)scale(0.1 -0.1)\">\n",
       "     <defs>\n",
       "      <path d=\"M 8.203125 72.90625 \n",
       "L 55.078125 72.90625 \n",
       "L 55.078125 68.703125 \n",
       "L 28.609375 0 \n",
       "L 18.3125 0 \n",
       "L 43.21875 64.59375 \n",
       "L 8.203125 64.59375 \n",
       "z\n",
       "\" id=\"DejaVuSans-55\"/>\n",
       "      <path d=\"M 10.796875 72.90625 \n",
       "L 49.515625 72.90625 \n",
       "L 49.515625 64.59375 \n",
       "L 19.828125 64.59375 \n",
       "L 19.828125 46.734375 \n",
       "Q 21.96875 47.46875 24.109375 47.828125 \n",
       "Q 26.265625 48.1875 28.421875 48.1875 \n",
       "Q 40.625 48.1875 47.75 41.5 \n",
       "Q 54.890625 34.8125 54.890625 23.390625 \n",
       "Q 54.890625 11.625 47.5625 5.09375 \n",
       "Q 40.234375 -1.421875 26.90625 -1.421875 \n",
       "Q 22.3125 -1.421875 17.546875 -0.640625 \n",
       "Q 12.796875 0.140625 7.71875 1.703125 \n",
       "L 7.71875 11.625 \n",
       "Q 12.109375 9.234375 16.796875 8.0625 \n",
       "Q 21.484375 6.890625 26.703125 6.890625 \n",
       "Q 35.15625 6.890625 40.078125 11.328125 \n",
       "Q 45.015625 15.765625 45.015625 23.390625 \n",
       "Q 45.015625 31 40.078125 35.4375 \n",
       "Q 35.15625 39.890625 26.703125 39.890625 \n",
       "Q 22.75 39.890625 18.8125 39.015625 \n",
       "Q 14.890625 38.140625 10.796875 36.28125 \n",
       "z\n",
       "\" id=\"DejaVuSans-53\"/>\n",
       "     </defs>\n",
       "     <use xlink:href=\"#DejaVuSans-49\"/>\n",
       "     <use x=\"63.623047\" xlink:href=\"#DejaVuSans-55\"/>\n",
       "     <use x=\"127.246094\" xlink:href=\"#DejaVuSans-49\"/>\n",
       "     <use x=\"190.869141\" xlink:href=\"#DejaVuSans-53\"/>\n",
       "    </g>\n",
       "   </g>\n",
       "  </g>\n",
       "  <g id=\"axes_2\">\n",
       "   <g id=\"patch_7\">\n",
       "    <path clip-path=\"url(#pdfdf975387)\" d=\"M 290.430625 224.64 \n",
       "L 290.430625 223.790625 \n",
       "L 290.430625 8.049375 \n",
       "L 290.430625 7.2 \n",
       "L 301.302625 7.2 \n",
       "L 301.302625 8.049375 \n",
       "L 301.302625 223.790625 \n",
       "L 301.302625 224.64 \n",
       "z\n",
       "\" style=\"fill:#ffffff;stroke:#ffffff;stroke-linejoin:miter;stroke-width:0.01;\"/>\n",
       "   </g>\n",
       "   <image height=\"218\" id=\"image62172d1b4f\" transform=\"scale(1 -1)translate(0 -218)\" width=\"11\" x=\"290\" xlink:href=\"data:image/png;base64,\n",
       "iVBORw0KGgoAAAANSUhEUgAAAAsAAADaCAYAAABwzrisAAAA/UlEQVR4nO2aMQ6EMAwEfSj//9u95XpMQQNdNtJK45ypo2gwu2Yd+PzymzF5jYxzdm2MmN43YqSweoRtcaZt53rMx/TKG0PQhq0aIrOE4bpBtc4MpyAk6vSg1r6Uxmhk9jlFET+kI7lKJ1WDwtzuflzGV1tNd5vET2HWVKe1AkQIpDAjOpImJDFsE1KucbbyJZnt58GCzMYQaOtI27ubMg8aU269xIhhhribwex83KZq9Dy4jtHMr52VQGXr/Bzm3d3d8+AiRsXTHvE96Dq95DD7AhXjLBeRGCt2pJ5h3xiMDxkUdyMk+gfuZsyDFT/ob6/n/qlmHQPxx4Kk5wtKFlaWsEnk6AAAAABJRU5ErkJggg==\" y=\"-6\"/>\n",
       "   <g id=\"matplotlib.axis_3\"/>\n",
       "   <g id=\"matplotlib.axis_4\">\n",
       "    <g id=\"ytick_3\">\n",
       "     <g id=\"line2d_5\">\n",
       "      <defs>\n",
       "       <path d=\"M 0 0 \n",
       "L 3.5 0 \n",
       "\" id=\"mdb4a7970fd\" style=\"stroke:#000000;stroke-width:0.8;\"/>\n",
       "      </defs>\n",
       "      <g>\n",
       "       <use style=\"stroke:#000000;stroke-width:0.8;\" x=\"301.302625\" xlink:href=\"#mdb4a7970fd\" y=\"202.702433\"/>\n",
       "      </g>\n",
       "     </g>\n",
       "     <g id=\"text_11\">\n",
       "      <!-- 200 -->\n",
       "      <g transform=\"translate(308.302625 206.501652)scale(0.1 -0.1)\">\n",
       "       <defs>\n",
       "        <path d=\"M 19.1875 8.296875 \n",
       "L 53.609375 8.296875 \n",
       "L 53.609375 0 \n",
       "L 7.328125 0 \n",
       "L 7.328125 8.296875 \n",
       "Q 12.9375 14.109375 22.625 23.890625 \n",
       "Q 32.328125 33.6875 34.8125 36.53125 \n",
       "Q 39.546875 41.84375 41.421875 45.53125 \n",
       "Q 43.3125 49.21875 43.3125 52.78125 \n",
       "Q 43.3125 58.59375 39.234375 62.25 \n",
       "Q 35.15625 65.921875 28.609375 65.921875 \n",
       "Q 23.96875 65.921875 18.8125 64.3125 \n",
       "Q 13.671875 62.703125 7.8125 59.421875 \n",
       "L 7.8125 69.390625 \n",
       "Q 13.765625 71.78125 18.9375 73 \n",
       "Q 24.125 74.21875 28.421875 74.21875 \n",
       "Q 39.75 74.21875 46.484375 68.546875 \n",
       "Q 53.21875 62.890625 53.21875 53.421875 \n",
       "Q 53.21875 48.921875 51.53125 44.890625 \n",
       "Q 49.859375 40.875 45.40625 35.40625 \n",
       "Q 44.1875 33.984375 37.640625 27.21875 \n",
       "Q 31.109375 20.453125 19.1875 8.296875 \n",
       "z\n",
       "\" id=\"DejaVuSans-50\"/>\n",
       "       </defs>\n",
       "       <use xlink:href=\"#DejaVuSans-50\"/>\n",
       "       <use x=\"63.623047\" xlink:href=\"#DejaVuSans-48\"/>\n",
       "       <use x=\"127.246094\" xlink:href=\"#DejaVuSans-48\"/>\n",
       "      </g>\n",
       "     </g>\n",
       "    </g>\n",
       "    <g id=\"ytick_4\">\n",
       "     <g id=\"line2d_6\">\n",
       "      <g>\n",
       "       <use style=\"stroke:#000000;stroke-width:0.8;\" x=\"301.302625\" xlink:href=\"#mdb4a7970fd\" y=\"176.893531\"/>\n",
       "      </g>\n",
       "     </g>\n",
       "     <g id=\"text_12\">\n",
       "      <!-- 400 -->\n",
       "      <g transform=\"translate(308.302625 180.69275)scale(0.1 -0.1)\">\n",
       "       <use xlink:href=\"#DejaVuSans-52\"/>\n",
       "       <use x=\"63.623047\" xlink:href=\"#DejaVuSans-48\"/>\n",
       "       <use x=\"127.246094\" xlink:href=\"#DejaVuSans-48\"/>\n",
       "      </g>\n",
       "     </g>\n",
       "    </g>\n",
       "    <g id=\"ytick_5\">\n",
       "     <g id=\"line2d_7\">\n",
       "      <g>\n",
       "       <use style=\"stroke:#000000;stroke-width:0.8;\" x=\"301.302625\" xlink:href=\"#mdb4a7970fd\" y=\"151.084629\"/>\n",
       "      </g>\n",
       "     </g>\n",
       "     <g id=\"text_13\">\n",
       "      <!-- 600 -->\n",
       "      <g transform=\"translate(308.302625 154.883848)scale(0.1 -0.1)\">\n",
       "       <defs>\n",
       "        <path d=\"M 33.015625 40.375 \n",
       "Q 26.375 40.375 22.484375 35.828125 \n",
       "Q 18.609375 31.296875 18.609375 23.390625 \n",
       "Q 18.609375 15.53125 22.484375 10.953125 \n",
       "Q 26.375 6.390625 33.015625 6.390625 \n",
       "Q 39.65625 6.390625 43.53125 10.953125 \n",
       "Q 47.40625 15.53125 47.40625 23.390625 \n",
       "Q 47.40625 31.296875 43.53125 35.828125 \n",
       "Q 39.65625 40.375 33.015625 40.375 \n",
       "z\n",
       "M 52.59375 71.296875 \n",
       "L 52.59375 62.3125 \n",
       "Q 48.875 64.0625 45.09375 64.984375 \n",
       "Q 41.3125 65.921875 37.59375 65.921875 \n",
       "Q 27.828125 65.921875 22.671875 59.328125 \n",
       "Q 17.53125 52.734375 16.796875 39.40625 \n",
       "Q 19.671875 43.65625 24.015625 45.921875 \n",
       "Q 28.375 48.1875 33.59375 48.1875 \n",
       "Q 44.578125 48.1875 50.953125 41.515625 \n",
       "Q 57.328125 34.859375 57.328125 23.390625 \n",
       "Q 57.328125 12.15625 50.6875 5.359375 \n",
       "Q 44.046875 -1.421875 33.015625 -1.421875 \n",
       "Q 20.359375 -1.421875 13.671875 8.265625 \n",
       "Q 6.984375 17.96875 6.984375 36.375 \n",
       "Q 6.984375 53.65625 15.1875 63.9375 \n",
       "Q 23.390625 74.21875 37.203125 74.21875 \n",
       "Q 40.921875 74.21875 44.703125 73.484375 \n",
       "Q 48.484375 72.75 52.59375 71.296875 \n",
       "z\n",
       "\" id=\"DejaVuSans-54\"/>\n",
       "       </defs>\n",
       "       <use xlink:href=\"#DejaVuSans-54\"/>\n",
       "       <use x=\"63.623047\" xlink:href=\"#DejaVuSans-48\"/>\n",
       "       <use x=\"127.246094\" xlink:href=\"#DejaVuSans-48\"/>\n",
       "      </g>\n",
       "     </g>\n",
       "    </g>\n",
       "    <g id=\"ytick_6\">\n",
       "     <g id=\"line2d_8\">\n",
       "      <g>\n",
       "       <use style=\"stroke:#000000;stroke-width:0.8;\" x=\"301.302625\" xlink:href=\"#mdb4a7970fd\" y=\"125.275727\"/>\n",
       "      </g>\n",
       "     </g>\n",
       "     <g id=\"text_14\">\n",
       "      <!-- 800 -->\n",
       "      <g transform=\"translate(308.302625 129.074946)scale(0.1 -0.1)\">\n",
       "       <defs>\n",
       "        <path d=\"M 31.78125 34.625 \n",
       "Q 24.75 34.625 20.71875 30.859375 \n",
       "Q 16.703125 27.09375 16.703125 20.515625 \n",
       "Q 16.703125 13.921875 20.71875 10.15625 \n",
       "Q 24.75 6.390625 31.78125 6.390625 \n",
       "Q 38.8125 6.390625 42.859375 10.171875 \n",
       "Q 46.921875 13.96875 46.921875 20.515625 \n",
       "Q 46.921875 27.09375 42.890625 30.859375 \n",
       "Q 38.875 34.625 31.78125 34.625 \n",
       "z\n",
       "M 21.921875 38.8125 \n",
       "Q 15.578125 40.375 12.03125 44.71875 \n",
       "Q 8.5 49.078125 8.5 55.328125 \n",
       "Q 8.5 64.0625 14.71875 69.140625 \n",
       "Q 20.953125 74.21875 31.78125 74.21875 \n",
       "Q 42.671875 74.21875 48.875 69.140625 \n",
       "Q 55.078125 64.0625 55.078125 55.328125 \n",
       "Q 55.078125 49.078125 51.53125 44.71875 \n",
       "Q 48 40.375 41.703125 38.8125 \n",
       "Q 48.828125 37.15625 52.796875 32.3125 \n",
       "Q 56.78125 27.484375 56.78125 20.515625 \n",
       "Q 56.78125 9.90625 50.3125 4.234375 \n",
       "Q 43.84375 -1.421875 31.78125 -1.421875 \n",
       "Q 19.734375 -1.421875 13.25 4.234375 \n",
       "Q 6.78125 9.90625 6.78125 20.515625 \n",
       "Q 6.78125 27.484375 10.78125 32.3125 \n",
       "Q 14.796875 37.15625 21.921875 38.8125 \n",
       "z\n",
       "M 18.3125 54.390625 \n",
       "Q 18.3125 48.734375 21.84375 45.5625 \n",
       "Q 25.390625 42.390625 31.78125 42.390625 \n",
       "Q 38.140625 42.390625 41.71875 45.5625 \n",
       "Q 45.3125 48.734375 45.3125 54.390625 \n",
       "Q 45.3125 60.0625 41.71875 63.234375 \n",
       "Q 38.140625 66.40625 31.78125 66.40625 \n",
       "Q 25.390625 66.40625 21.84375 63.234375 \n",
       "Q 18.3125 60.0625 18.3125 54.390625 \n",
       "z\n",
       "\" id=\"DejaVuSans-56\"/>\n",
       "       </defs>\n",
       "       <use xlink:href=\"#DejaVuSans-56\"/>\n",
       "       <use x=\"63.623047\" xlink:href=\"#DejaVuSans-48\"/>\n",
       "       <use x=\"127.246094\" xlink:href=\"#DejaVuSans-48\"/>\n",
       "      </g>\n",
       "     </g>\n",
       "    </g>\n",
       "    <g id=\"ytick_7\">\n",
       "     <g id=\"line2d_9\">\n",
       "      <g>\n",
       "       <use style=\"stroke:#000000;stroke-width:0.8;\" x=\"301.302625\" xlink:href=\"#mdb4a7970fd\" y=\"99.466825\"/>\n",
       "      </g>\n",
       "     </g>\n",
       "     <g id=\"text_15\">\n",
       "      <!-- 1000 -->\n",
       "      <g transform=\"translate(308.302625 103.266044)scale(0.1 -0.1)\">\n",
       "       <use xlink:href=\"#DejaVuSans-49\"/>\n",
       "       <use x=\"63.623047\" xlink:href=\"#DejaVuSans-48\"/>\n",
       "       <use x=\"127.246094\" xlink:href=\"#DejaVuSans-48\"/>\n",
       "       <use x=\"190.869141\" xlink:href=\"#DejaVuSans-48\"/>\n",
       "      </g>\n",
       "     </g>\n",
       "    </g>\n",
       "    <g id=\"ytick_8\">\n",
       "     <g id=\"line2d_10\">\n",
       "      <g>\n",
       "       <use style=\"stroke:#000000;stroke-width:0.8;\" x=\"301.302625\" xlink:href=\"#mdb4a7970fd\" y=\"73.657923\"/>\n",
       "      </g>\n",
       "     </g>\n",
       "     <g id=\"text_16\">\n",
       "      <!-- 1200 -->\n",
       "      <g transform=\"translate(308.302625 77.457142)scale(0.1 -0.1)\">\n",
       "       <use xlink:href=\"#DejaVuSans-49\"/>\n",
       "       <use x=\"63.623047\" xlink:href=\"#DejaVuSans-50\"/>\n",
       "       <use x=\"127.246094\" xlink:href=\"#DejaVuSans-48\"/>\n",
       "       <use x=\"190.869141\" xlink:href=\"#DejaVuSans-48\"/>\n",
       "      </g>\n",
       "     </g>\n",
       "    </g>\n",
       "    <g id=\"ytick_9\">\n",
       "     <g id=\"line2d_11\">\n",
       "      <g>\n",
       "       <use style=\"stroke:#000000;stroke-width:0.8;\" x=\"301.302625\" xlink:href=\"#mdb4a7970fd\" y=\"47.849021\"/>\n",
       "      </g>\n",
       "     </g>\n",
       "     <g id=\"text_17\">\n",
       "      <!-- 1400 -->\n",
       "      <g transform=\"translate(308.302625 51.64824)scale(0.1 -0.1)\">\n",
       "       <use xlink:href=\"#DejaVuSans-49\"/>\n",
       "       <use x=\"63.623047\" xlink:href=\"#DejaVuSans-52\"/>\n",
       "       <use x=\"127.246094\" xlink:href=\"#DejaVuSans-48\"/>\n",
       "       <use x=\"190.869141\" xlink:href=\"#DejaVuSans-48\"/>\n",
       "      </g>\n",
       "     </g>\n",
       "    </g>\n",
       "    <g id=\"ytick_10\">\n",
       "     <g id=\"line2d_12\">\n",
       "      <g>\n",
       "       <use style=\"stroke:#000000;stroke-width:0.8;\" x=\"301.302625\" xlink:href=\"#mdb4a7970fd\" y=\"22.040119\"/>\n",
       "      </g>\n",
       "     </g>\n",
       "     <g id=\"text_18\">\n",
       "      <!-- 1600 -->\n",
       "      <g transform=\"translate(308.302625 25.839337)scale(0.1 -0.1)\">\n",
       "       <use xlink:href=\"#DejaVuSans-49\"/>\n",
       "       <use x=\"63.623047\" xlink:href=\"#DejaVuSans-54\"/>\n",
       "       <use x=\"127.246094\" xlink:href=\"#DejaVuSans-48\"/>\n",
       "       <use x=\"190.869141\" xlink:href=\"#DejaVuSans-48\"/>\n",
       "      </g>\n",
       "     </g>\n",
       "    </g>\n",
       "   </g>\n",
       "   <g id=\"patch_8\">\n",
       "    <path d=\"M 290.430625 224.64 \n",
       "L 290.430625 223.790625 \n",
       "L 290.430625 8.049375 \n",
       "L 290.430625 7.2 \n",
       "L 301.302625 7.2 \n",
       "L 301.302625 8.049375 \n",
       "L 301.302625 223.790625 \n",
       "L 301.302625 224.64 \n",
       "z\n",
       "\" style=\"fill:none;stroke:#000000;stroke-linejoin:miter;stroke-width:0.8;\"/>\n",
       "   </g>\n",
       "  </g>\n",
       " </g>\n",
       " <defs>\n",
       "  <clipPath id=\"p0ac9d3e2ee\">\n",
       "   <rect height=\"217.44\" width=\"217.44\" x=\"56.250625\" y=\"7.2\"/>\n",
       "  </clipPath>\n",
       "  <clipPath id=\"pdfdf975387\">\n",
       "   <rect height=\"217.44\" width=\"10.872\" x=\"290.430625\" y=\"7.2\"/>\n",
       "  </clipPath>\n",
       " </defs>\n",
       "</svg>\n"
      ],
      "text/plain": [
       "<Figure size 432x288 with 2 Axes>"
      ]
     },
     "metadata": {
      "needs_background": "light"
     },
     "output_type": "display_data"
    }
   ],
   "source": [
    "logreg_preds = logreg.predict(Z_test)\n",
    "\n",
    "tn, fp, fn, tp = confusion_matrix(y_test, logreg_preds).ravel()\n",
    "\n",
    "plot_confusion_matrix(logreg, Z_test, y_test, values_format='d', cmap=custom_cmap, display_labels=['EPL', 'NFL']);\n",
    "\n",
    "plt.xlabel('Predicted', size = 16)\n",
    "plt.xticks(size = 12)\n",
    "\n",
    "plt.ylabel('Actual', size = 16)\n",
    "plt.yticks(size = 12)\n",
    "\n",
    "plt.savefig('../visualizations/logistic_regression_conf_mtrx.png', dpi=300, transparent=True)"
   ]
  },
  {
   "cell_type": "markdown",
   "metadata": {},
   "source": [
    "Our confusion matrix shows that we only misidentified 79 posts. Correctly classifying 3025."
   ]
  },
  {
   "cell_type": "code",
   "execution_count": 32,
   "metadata": {
    "ExecuteTime": {
     "end_time": "2021-05-03T11:01:07.698305Z",
     "start_time": "2021-05-03T11:01:07.694698Z"
    }
   },
   "outputs": [
    {
     "data": {
      "text/plain": [
       "<function matplotlib.pyplot.savefig(*args, **kwargs)>"
      ]
     },
     "execution_count": 32,
     "metadata": {},
     "output_type": "execute_result"
    }
   ],
   "source": [
    "plt.savefig"
   ]
  },
  {
   "cell_type": "code",
   "execution_count": 33,
   "metadata": {
    "ExecuteTime": {
     "end_time": "2021-05-03T11:01:07.703911Z",
     "start_time": "2021-05-03T11:01:07.700297Z"
    },
    "scrolled": true
   },
   "outputs": [
    {
     "name": "stdout",
     "output_type": "stream",
     "text": [
      "  True Neg: 1310    False Pos: 49\n",
      " False Neg: 30       True Pos: 1715\n"
     ]
    }
   ],
   "source": [
    "print(f'  True Neg: {tn}    False Pos: {fp}')\n",
    "print(f' False Neg: {fn}       True Pos: {tp}')"
   ]
  },
  {
   "cell_type": "markdown",
   "metadata": {},
   "source": [
    "### Evaluation - Exponentiated Coefficients"
   ]
  },
  {
   "cell_type": "code",
   "execution_count": 34,
   "metadata": {
    "ExecuteTime": {
     "end_time": "2021-05-03T11:01:07.715712Z",
     "start_time": "2021-05-03T11:01:07.705646Z"
    }
   },
   "outputs": [],
   "source": [
    "logreg_coefs_exp = list(zip(X_train_mod.columns, (list(np.exp(logreg.coef_)[0]))))"
   ]
  },
  {
   "cell_type": "code",
   "execution_count": 35,
   "metadata": {
    "ExecuteTime": {
     "end_time": "2021-05-03T11:01:07.719421Z",
     "start_time": "2021-05-03T11:01:07.717216Z"
    },
    "code_folding": []
   },
   "outputs": [],
   "source": [
    "# pd.DataFrame(logreg_coefs_exp, columns=['Feature Name', 'Odds']).sort_values(by=['Odds'], ascending = False)[161:201]"
   ]
  },
  {
   "cell_type": "code",
   "execution_count": 36,
   "metadata": {
    "ExecuteTime": {
     "end_time": "2021-05-03T11:01:07.722988Z",
     "start_time": "2021-05-03T11:01:07.720998Z"
    },
    "scrolled": true
   },
   "outputs": [],
   "source": [
    "# pd.DataFrame(logreg_coefs_exp, columns=['Feature Name', 'Odds']).sort_values(by=['Odds'], ascending = True)[161:201]"
   ]
  },
  {
   "cell_type": "markdown",
   "metadata": {},
   "source": [
    "**Top Words**\n",
    "\n",
    "With the logistic regression model, I needed to evaluate the exponentiated coefficients for each word. for the sake of our client, I also wanted to build a list of the most relevant words I built a list of the top 200 coefficients for each subreddit and exported it to .csv so I can give it to the client (located in '../data/3_output/'). All of that data came from my first models, though. With more time, I could come back and recollect the top words from the new LogReg model and refurnish the list. Based on what I know about the data at this point, there will certainly be changes, but they likely won't be massive. \n",
    "\n",
    "To interpret the exponentiated coefficients, we can say that the additional inclusion of a particular token means that classification as the majority class is [odds] times as likely.\n",
    "\n",
    "One other thing I changed between previous models and this one is that I had accidentally set the minority class as 1. So the high numbers below are connected to classification as being from the PremierLeague Subreddit. While new coefficients would show the reverse."
   ]
  },
  {
   "cell_type": "markdown",
   "metadata": {},
   "source": [
    "<span style=\"font-family:Trebuchet MS; display:block; text-align:center; font-size:2em;\">Token Importance</span>\n",
    "<span style=\"font-family:Trebuchet MS; display:block; text-align:center; font-size:em;\">Token Importance</span>\n",
    "\n",
    "|| <span style=\"font-family:Trebuchet MS; font-size:2em;\">English Premier League</span>|  | <span style=\"font-family:Trebuchet MS; font-size:2em;\">National Football League</span> | |\n",
    "|---|---------------------:|---:|:------------------|---|\n",
    "\n"
   ]
  },
  {
   "cell_type": "markdown",
   "metadata": {},
   "source": [
    "| Odds     | EPL Tokens (21-40)      | ┃ | Odds     | EPL Tokens (1-20)    | ┃ | NFL Tokens (1-20) | Odds     | ┃ | NFL Tokens (21-40) | Odds     |\n",
    "|---------:|------------------------:|:-:|---------:|---------------------:|:-:|:------------------|:---------|:-:|:------------------|:---------|\n",
    "| 1.449 | clubs                   | ┃ | 9.527 | Discussion           | ┃ | nfl               | 0.103 | ┃ | division          | 0.786 |\n",
    "| 1.44  | everton                 | ┃ | 5.964 | premier              | ┃ | comments          | 0.406 | ┃ | college           | 0.793 |\n",
    "| 1.428 | goals                   | ┃ | 5.710 | Question             | ┃ | qb                | 0.485 | ┃ | rookie            | 0.797 |\n",
    "| 1.406 |       Manchester United | ┃ | 2.853   | liverpool            | ┃ | bowl              | 0.573 | ┃ | coaches           | 0.797 |\n",
    "| 1.401 | fixtures                | ┃ | 2.770 | pl                   | ┃ | draft             | 0.583 | ┃ | playoffs          | 0.804 |\n",
    "| 1.381 | goal                    | ┃ | 2.330 | club                 | ┃ | field             | 0.635  | ┃ | rodgers           | 0.80  |\n",
    "| 1.380 | matches                 | ┃ | 2.291 | league               | ┃ | patriots          | 0.652 | ┃ | conference        | 0.816 |\n",
    "| 1.365 | manchester              | ┃ | 2.274 | Premier League       | ┃ | offense           | 0.656 | ┃ | superbowl         | 0.821 |\n",
    "| 1.365 |       Liverpool         | ┃ | 2.154 | arsenal              | ┃ | yards             | 0.673 | ┃ | running           | 0.823 |\n",
    "| 1.340 | wolves                  | ┃ | 2.131 | epl                  | ┃ | brady             | 0.682 | ┃ | qbs               | 0.824 |\n",
    "| 1.337  | prem                    | ┃ | 2.081  | chelsea              | ┃ | playoff           | 0.693 | ┃ | pff               | 0.829 |\n",
    "| 1.331 | cup                     | ┃ | 1.841 | var                  | ┃ | none              | 0.701 | ┃ | practice          | 0.830 |\n",
    "| 1.320 | southampton             | ┃ | 1.702 | united               | ┃ | cowboys           | 0.734 | ┃ | guy               | 0.830 |\n",
    "| 1.315  | mourinho                | ┃ | 1.672 | match                | ┃ | franchise         | 0.746 | ┃ | nfc               | 0.834 |\n",
    "| 1.315 | newcastle               | ┃ | 1.655 | poll                 | ┃ | eagles            | 0.752 | ┃ | brown             | 0.834 |\n",
    "| 1.290 | transfer                | ┃ | 1.642  | spurs                | ┃ | browns            | 0.753 | ┃ | yard              | 0.835 |\n",
    "| 1.280 | manager                 | ┃ | 1.629 | tottenham            | ┃ | ravens            | 0.768 | ┃ | trade             | 0.837 |\n",
    "| 1.277 | london                  | ┃ | 1.571 | city                 | ┃ | quarterback       | 0.771 | ┃ | pass              | 0.840 |\n",
    "| 1.272 | leicester               | ┃ | 1.532 | english              | ┃ | jets              | 0.774 | ┃ | years             | 0.841 |\n",
    "| 1.248 | brighton                | ┃ | 1.469 | News                 | ┃ | offensive         | 0.774 | ┃ | like              | 0.841 |"
   ]
  },
  {
   "cell_type": "markdown",
   "metadata": {},
   "source": [
    "| <span style=\"font-family:Trebuchet MS; font-size:2em;\">English Premier League</span>     | ┃ | <span style=\"font-family:Trebuchet MS; font-size:2em;\">National Football League</span> | \n",
    "|---------------------:|---:|:------------------|"
   ]
  },
  {
   "cell_type": "markdown",
   "metadata": {},
   "source": [
    "| Odds     | EPL Tokens (61-80)    | ┃ | Odds     | EPL Tokens (41-60)      | ┃ | NFL Tokens (41-60) | Odds     | ┃ | NFL Tokens (61-80) | Odds     |\n",
    "|---------:|------------------------:|:-:|---------:|---------------------:|:-:|:------------------|:---------|:-:|:------------------|:---------|\n",
    "| 1.196975 | premierleague         | ┃ | 1.247207 | palace                  | ┃ | td                 | 0.842231 | ┃ | year               | 0.859388 |\n",
    "| 1.196412 | leeds                 | ┃ | 1.246749 | offside                 | ┃ | giants             | 0.842783 | ┃ | falcons            | 0.859973 |\n",
    "| 1.195304 | Chelsea               | ┃ | 1.244287 | madrid                  | ┃ | offseason          | 0.843461 | ┃ | sacks              | 0.86044  |\n",
    "| 1.191963 | join                  | ┃ | 1.239036 | villa                   | ┃ | chiefs             | 0.844952 | ┃ | receiver           | 0.860556 |\n",
    "| 1.185141 | sky                   | ┃ | 1.238473 | american                | ┃ | bay                | 0.844984 | ┃ | dude               | 0.861166 |\n",
    "| 1.184474 | burnley               | ┃ | 1.236565 | hello                   | ┃ | roster             | 0.845317 | ┃ | broncos            | 0.861406 |\n",
    "| 1.183534 | ham                   | ┃ | 1.227556 | pogba                   | ┃ | 16                 | 0.845399 | ┃ | plays              | 0.862848 |\n",
    "| 1.174342 | finish                | ┃ | 1.219523 | today                   | ┃ | steelers           | 0.846241 | ┃ | cap                | 0.863694 |\n",
    "| 1.17416  | Manchester City       | ┃ | 1.217903 | sterling                | ┃ | rams               | 0.846504 | ┃ | cardinals          | 0.863955 |\n",
    "| 1.173772 | stream                | ┃ | 1.215974 | nbc                     | ┃ | wr                 | 0.847066 | ┃ | coach              | 0.866043 |\n",
    "| 1.168381 | nbcsn                 | ┃ | 1.215363 | salah                   | ┃ | williams           | 0.847163 | ┃ | contract           | 0.869072 |\n",
    "| 1.167137 | title                 | ┃ | 1.214193 | world                   | ┃ | bears              | 0.84778  | ┃ | lions              | 0.870203 |\n",
    "| 1.166319 | watford               | ┃ | 1.209385 | Tottenham Hotspur       | ┃ | rules              | 0.84848  | ┃ | hall               | 0.87065  |\n",
    "| 1.165636 | bruyne                | ┃ | 1.206445 | bissaka                 | ┃ | 12                 | 0.853288 | ┃ | decided            | 0.872295 |\n",
    "| 1.164696 | fantasy               | ┃ | 1.206409 | pitch                   | ┃ | night              | 0.853389 | ┃ | picks              | 0.872544 |\n",
    "| 1.162007 | signings              | ┃ | 1.204813 | thanks                  | ┃ | packers            | 0.854285 | ┃ | calls              | 0.872669 |\n",
    "| 1.161203 | Leeds United          | ┃ | 1.203586 | soccer                  | ┃ | football           | 0.855693 | ┃ | sb                 | 0.872748 |\n",
    "| 1.15957  | podcasts              | ┃ | 1.20307  | streams                 | ┃ | numbers            | 0.856211 | ┃ | smith              | 0.873245 |\n",
    "| 1.158943 | ozil                  | ┃ | 1.201184 | x200b                   | ┃ | defense            | 0.856393 | ┃ | pats               | 0.873918 |\n",
    "| 1.158394 | subtitles             | ┃ | 1.199226 | relegation              | ┃ | chargers           | 0.857366 | ┃ | te                 | 0.875945 |"
   ]
  },
  {
   "cell_type": "markdown",
   "metadata": {},
   "source": [
    "## Random Forest"
   ]
  },
  {
   "cell_type": "markdown",
   "metadata": {},
   "source": [
    "Lastly, I tried out the Random forest model and it ultimately performed very similarly to the Logistic Regression."
   ]
  },
  {
   "cell_type": "markdown",
   "metadata": {},
   "source": [
    "### Setup"
   ]
  },
  {
   "cell_type": "code",
   "execution_count": 37,
   "metadata": {
    "ExecuteTime": {
     "end_time": "2021-05-03T11:01:07.726736Z",
     "start_time": "2021-05-03T11:01:07.724554Z"
    }
   },
   "outputs": [],
   "source": [
    "rfc = RandomForestClassifier()"
   ]
  },
  {
   "cell_type": "code",
   "execution_count": 38,
   "metadata": {
    "ExecuteTime": {
     "end_time": "2021-05-03T11:01:07.731019Z",
     "start_time": "2021-05-03T11:01:07.728493Z"
    }
   },
   "outputs": [],
   "source": [
    "params = {\n",
    "    'n_estimators': [100, 300, 600],\n",
    "    'max_depth': [5, 40],\n",
    "    'max_features': [500, 1000, 3000]\n",
    "}"
   ]
  },
  {
   "cell_type": "markdown",
   "metadata": {},
   "source": [
    "### Gridsearch and Fit"
   ]
  },
  {
   "cell_type": "markdown",
   "metadata": {},
   "source": [
    "I ran a gridsearch to find the best parameters and fit a model using those parameters. "
   ]
  },
  {
   "cell_type": "code",
   "execution_count": 39,
   "metadata": {
    "ExecuteTime": {
     "end_time": "2021-05-03T11:01:07.734974Z",
     "start_time": "2021-05-03T11:01:07.732592Z"
    }
   },
   "outputs": [],
   "source": [
    "rfc_gs = GridSearchCV(rfc, params, cv=3, verbose=1, n_jobs=-2)"
   ]
  },
  {
   "cell_type": "code",
   "execution_count": 40,
   "metadata": {
    "ExecuteTime": {
     "end_time": "2021-05-03T11:41:48.268776Z",
     "start_time": "2021-05-03T11:01:07.736734Z"
    },
    "scrolled": false
   },
   "outputs": [
    {
     "name": "stdout",
     "output_type": "stream",
     "text": [
      "Fitting 3 folds for each of 18 candidates, totalling 54 fits\n"
     ]
    },
    {
     "name": "stderr",
     "output_type": "stream",
     "text": [
      "[Parallel(n_jobs=-2)]: Using backend LokyBackend with 3 concurrent workers.\n",
      "[Parallel(n_jobs=-2)]: Done  44 tasks      | elapsed: 22.2min\n",
      "[Parallel(n_jobs=-2)]: Done  54 out of  54 | elapsed: 38.6min finished\n"
     ]
    },
    {
     "data": {
      "text/plain": [
       "GridSearchCV(cv=3, estimator=RandomForestClassifier(), n_jobs=-2,\n",
       "             param_grid={'max_depth': [5, 40],\n",
       "                         'max_features': [500, 1000, 3000],\n",
       "                         'n_estimators': [100, 300, 600]},\n",
       "             verbose=1)"
      ]
     },
     "execution_count": 40,
     "metadata": {},
     "output_type": "execute_result"
    }
   ],
   "source": [
    "rfc_gs.fit(X_train_mod, y_train_mod)"
   ]
  },
  {
   "cell_type": "code",
   "execution_count": 41,
   "metadata": {
    "ExecuteTime": {
     "end_time": "2021-05-03T11:41:48.277956Z",
     "start_time": "2021-05-03T11:41:48.271318Z"
    }
   },
   "outputs": [
    {
     "data": {
      "text/plain": [
       "((9312, 27618), (9312,))"
      ]
     },
     "execution_count": 41,
     "metadata": {},
     "output_type": "execute_result"
    }
   ],
   "source": [
    "# checks\n",
    "X_train_mod.shape, y_train_mod.shape"
   ]
  },
  {
   "cell_type": "markdown",
   "metadata": {},
   "source": [
    "### Results"
   ]
  },
  {
   "cell_type": "code",
   "execution_count": 42,
   "metadata": {
    "ExecuteTime": {
     "end_time": "2021-05-03T11:41:48.285165Z",
     "start_time": "2021-05-03T11:41:48.280635Z"
    },
    "scrolled": true
   },
   "outputs": [
    {
     "data": {
      "text/plain": [
       "{'max_depth': 40, 'max_features': 500, 'n_estimators': 300}"
      ]
     },
     "execution_count": 42,
     "metadata": {},
     "output_type": "execute_result"
    }
   ],
   "source": [
    "rfc_gs.best_params_"
   ]
  },
  {
   "cell_type": "code",
   "execution_count": 43,
   "metadata": {
    "ExecuteTime": {
     "end_time": "2021-05-03T11:41:48.294106Z",
     "start_time": "2021-05-03T11:41:48.287270Z"
    }
   },
   "outputs": [
    {
     "data": {
      "text/plain": [
       "0.9771262886597939"
      ]
     },
     "execution_count": 43,
     "metadata": {},
     "output_type": "execute_result"
    }
   ],
   "source": [
    "rfc_gs.best_score_"
   ]
  },
  {
   "cell_type": "markdown",
   "metadata": {},
   "source": [
    "The Accuracy score here is slightly higher than "
   ]
  },
  {
   "cell_type": "markdown",
   "metadata": {},
   "source": [
    "### Confusion Matrix"
   ]
  },
  {
   "cell_type": "code",
   "execution_count": 61,
   "metadata": {
    "ExecuteTime": {
     "end_time": "2021-05-03T14:49:16.721460Z",
     "start_time": "2021-05-03T14:49:15.276000Z"
    }
   },
   "outputs": [
    {
     "data": {
      "image/svg+xml": [
       "<?xml version=\"1.0\" encoding=\"utf-8\" standalone=\"no\"?>\n",
       "<!DOCTYPE svg PUBLIC \"-//W3C//DTD SVG 1.1//EN\"\n",
       "  \"http://www.w3.org/Graphics/SVG/1.1/DTD/svg11.dtd\">\n",
       "<!-- Created with matplotlib (https://matplotlib.org/) -->\n",
       "<svg height=\"269.93875pt\" version=\"1.1\" viewBox=\"0 0 340.952625 269.93875\" width=\"340.952625pt\" xmlns=\"http://www.w3.org/2000/svg\" xmlns:xlink=\"http://www.w3.org/1999/xlink\">\n",
       " <metadata>\n",
       "  <rdf:RDF xmlns:cc=\"http://creativecommons.org/ns#\" xmlns:dc=\"http://purl.org/dc/elements/1.1/\" xmlns:rdf=\"http://www.w3.org/1999/02/22-rdf-syntax-ns#\">\n",
       "   <cc:Work>\n",
       "    <dc:type rdf:resource=\"http://purl.org/dc/dcmitype/StillImage\"/>\n",
       "    <dc:date>2021-05-03T07:49:16.674999</dc:date>\n",
       "    <dc:format>image/svg+xml</dc:format>\n",
       "    <dc:creator>\n",
       "     <cc:Agent>\n",
       "      <dc:title>Matplotlib v3.3.2, https://matplotlib.org/</dc:title>\n",
       "     </cc:Agent>\n",
       "    </dc:creator>\n",
       "   </cc:Work>\n",
       "  </rdf:RDF>\n",
       " </metadata>\n",
       " <defs>\n",
       "  <style type=\"text/css\">*{stroke-linecap:butt;stroke-linejoin:round;}</style>\n",
       " </defs>\n",
       " <g id=\"figure_1\">\n",
       "  <g id=\"patch_1\">\n",
       "   <path d=\"M 0 269.93875 \n",
       "L 340.952625 269.93875 \n",
       "L 340.952625 0 \n",
       "L 0 0 \n",
       "z\n",
       "\" style=\"fill:none;\"/>\n",
       "  </g>\n",
       "  <g id=\"axes_1\">\n",
       "   <g id=\"patch_2\">\n",
       "    <path d=\"M 56.250625 224.64 \n",
       "L 273.690625 224.64 \n",
       "L 273.690625 7.2 \n",
       "L 56.250625 7.2 \n",
       "z\n",
       "\" style=\"fill:#ffffff;\"/>\n",
       "   </g>\n",
       "   <g clip-path=\"url(#p676ac14598)\">\n",
       "    <image height=\"218\" id=\"imaged4a78aae80\" transform=\"scale(1 -1)translate(0 -218)\" width=\"218\" x=\"56.250625\" xlink:href=\"data:image/png;base64,\n",
       "iVBORw0KGgoAAAANSUhEUgAAANoAAADaCAYAAADAHVzbAAACmUlEQVR4nO3VsQ3CQAAEQUw7RIguqNESqUshRXRCAdg1fLIvxEwFl6xu+Xxf+4mf8nheZ09g0Hn2APgHQoOA0CAgNAgIDQJCg4DQICA0CAgNAkKDgNAgIDQICA0CQoOA0CAgNAgIDQJCg4DQICA0CAgNAkKDgNAgIDQICA0CQoOA0CAgNAgIDQJCg4DQICA0CAgNAkKDgNAgIDQICA0CQoOA0CAgNAgIDQJCg4DQICA0CAgNAkKDgNAgIDQICA0CQoOA0CAgNAgIDQJCg4DQICA0CAgNAkKDgNAgIDQICA0CQoOA0CAgNAgIDQJCg4DQICA0CAgNAkKDgNAgIDQICA0CQoOA0CAgNAgIDQJCg4DQICA0CAgNAkKDgNAgIDQICA0CQoOA0CAgNAgIDQJCg4DQICA0CAgNAkKDgNAgIDQICA0CQoOA0CAgNAgIDQJCg4DQICA0CAgNAkKDgNAgIDQILNv7ts8ewZj7ZZ09gUEeDQJCg4DQICA0CAgNAkKDgNAgIDQICA0CQoOA0CAgNAgIDQJCg4DQICA0CAgNAkKDgNAgIDQICA0CQoOA0CAgNAgIDQJCg4DQICA0CAgNAkKDgNAgIDQICA0CQoOA0CAgNAgIDQJCg4DQICA0CAgNAkKDgNAgIDQICA0CQoOA0CAgNAgIDQJCg4DQICA0CAgNAkKDgNAgIDQICA0CQoOA0CAgNAgIDQJCg4DQICA0CAgNAkKDgNAgIDQICA0CQoOA0CAgNAgIDQJCg4DQICA0CAgNAkKDgNAgIDQICA0CQoOA0CAgNAgIDQJCg4DQICA0CAgNAkKDgNAgIDQICA0CQoOA0CAgNAgIDQJCg4DQICA0CAgNAkKDgNAgIDQICA0CQoOA0CAgNAgc46sKyWvLyaEAAAAASUVORK5CYII=\" y=\"-6.64\"/>\n",
       "   </g>\n",
       "   <g id=\"matplotlib.axis_1\">\n",
       "    <g id=\"xtick_1\">\n",
       "     <g id=\"line2d_1\">\n",
       "      <defs>\n",
       "       <path d=\"M 0 0 \n",
       "L 0 3.5 \n",
       "\" id=\"m4d6a2912e8\" style=\"stroke:#000000;stroke-width:0.8;\"/>\n",
       "      </defs>\n",
       "      <g>\n",
       "       <use style=\"stroke:#000000;stroke-width:0.8;\" x=\"110.610625\" xlink:href=\"#m4d6a2912e8\" y=\"224.64\"/>\n",
       "      </g>\n",
       "     </g>\n",
       "     <g id=\"text_1\">\n",
       "      <!-- EPL -->\n",
       "      <g transform=\"translate(99.858437 240.758125)scale(0.12 -0.12)\">\n",
       "       <defs>\n",
       "        <path d=\"M 9.8125 72.90625 \n",
       "L 55.90625 72.90625 \n",
       "L 55.90625 64.59375 \n",
       "L 19.671875 64.59375 \n",
       "L 19.671875 43.015625 \n",
       "L 54.390625 43.015625 \n",
       "L 54.390625 34.71875 \n",
       "L 19.671875 34.71875 \n",
       "L 19.671875 8.296875 \n",
       "L 56.78125 8.296875 \n",
       "L 56.78125 0 \n",
       "L 9.8125 0 \n",
       "z\n",
       "\" id=\"DejaVuSans-69\"/>\n",
       "        <path d=\"M 19.671875 64.796875 \n",
       "L 19.671875 37.40625 \n",
       "L 32.078125 37.40625 \n",
       "Q 38.96875 37.40625 42.71875 40.96875 \n",
       "Q 46.484375 44.53125 46.484375 51.125 \n",
       "Q 46.484375 57.671875 42.71875 61.234375 \n",
       "Q 38.96875 64.796875 32.078125 64.796875 \n",
       "z\n",
       "M 9.8125 72.90625 \n",
       "L 32.078125 72.90625 \n",
       "Q 44.34375 72.90625 50.609375 67.359375 \n",
       "Q 56.890625 61.8125 56.890625 51.125 \n",
       "Q 56.890625 40.328125 50.609375 34.8125 \n",
       "Q 44.34375 29.296875 32.078125 29.296875 \n",
       "L 19.671875 29.296875 \n",
       "L 19.671875 0 \n",
       "L 9.8125 0 \n",
       "z\n",
       "\" id=\"DejaVuSans-80\"/>\n",
       "        <path d=\"M 9.8125 72.90625 \n",
       "L 19.671875 72.90625 \n",
       "L 19.671875 8.296875 \n",
       "L 55.171875 8.296875 \n",
       "L 55.171875 0 \n",
       "L 9.8125 0 \n",
       "z\n",
       "\" id=\"DejaVuSans-76\"/>\n",
       "       </defs>\n",
       "       <use xlink:href=\"#DejaVuSans-69\"/>\n",
       "       <use x=\"63.183594\" xlink:href=\"#DejaVuSans-80\"/>\n",
       "       <use x=\"123.486328\" xlink:href=\"#DejaVuSans-76\"/>\n",
       "      </g>\n",
       "     </g>\n",
       "    </g>\n",
       "    <g id=\"xtick_2\">\n",
       "     <g id=\"line2d_2\">\n",
       "      <g>\n",
       "       <use style=\"stroke:#000000;stroke-width:0.8;\" x=\"219.330625\" xlink:href=\"#m4d6a2912e8\" y=\"224.64\"/>\n",
       "      </g>\n",
       "     </g>\n",
       "     <g id=\"text_2\">\n",
       "      <!-- NFL -->\n",
       "      <g transform=\"translate(208.047812 240.758125)scale(0.12 -0.12)\">\n",
       "       <defs>\n",
       "        <path d=\"M 9.8125 72.90625 \n",
       "L 23.09375 72.90625 \n",
       "L 55.421875 11.921875 \n",
       "L 55.421875 72.90625 \n",
       "L 64.984375 72.90625 \n",
       "L 64.984375 0 \n",
       "L 51.703125 0 \n",
       "L 19.390625 60.984375 \n",
       "L 19.390625 0 \n",
       "L 9.8125 0 \n",
       "z\n",
       "\" id=\"DejaVuSans-78\"/>\n",
       "        <path d=\"M 9.8125 72.90625 \n",
       "L 51.703125 72.90625 \n",
       "L 51.703125 64.59375 \n",
       "L 19.671875 64.59375 \n",
       "L 19.671875 43.109375 \n",
       "L 48.578125 43.109375 \n",
       "L 48.578125 34.8125 \n",
       "L 19.671875 34.8125 \n",
       "L 19.671875 0 \n",
       "L 9.8125 0 \n",
       "z\n",
       "\" id=\"DejaVuSans-70\"/>\n",
       "       </defs>\n",
       "       <use xlink:href=\"#DejaVuSans-78\"/>\n",
       "       <use x=\"74.804688\" xlink:href=\"#DejaVuSans-70\"/>\n",
       "       <use x=\"132.324219\" xlink:href=\"#DejaVuSans-76\"/>\n",
       "      </g>\n",
       "     </g>\n",
       "    </g>\n",
       "    <g id=\"text_3\">\n",
       "     <!-- Predicted -->\n",
       "     <g transform=\"translate(127.418125 259.41125)scale(0.16 -0.16)\">\n",
       "      <defs>\n",
       "       <path d=\"M 41.109375 46.296875 \n",
       "Q 39.59375 47.171875 37.8125 47.578125 \n",
       "Q 36.03125 48 33.890625 48 \n",
       "Q 26.265625 48 22.1875 43.046875 \n",
       "Q 18.109375 38.09375 18.109375 28.8125 \n",
       "L 18.109375 0 \n",
       "L 9.078125 0 \n",
       "L 9.078125 54.6875 \n",
       "L 18.109375 54.6875 \n",
       "L 18.109375 46.1875 \n",
       "Q 20.953125 51.171875 25.484375 53.578125 \n",
       "Q 30.03125 56 36.53125 56 \n",
       "Q 37.453125 56 38.578125 55.875 \n",
       "Q 39.703125 55.765625 41.0625 55.515625 \n",
       "z\n",
       "\" id=\"DejaVuSans-114\"/>\n",
       "       <path d=\"M 56.203125 29.59375 \n",
       "L 56.203125 25.203125 \n",
       "L 14.890625 25.203125 \n",
       "Q 15.484375 15.921875 20.484375 11.0625 \n",
       "Q 25.484375 6.203125 34.421875 6.203125 \n",
       "Q 39.59375 6.203125 44.453125 7.46875 \n",
       "Q 49.3125 8.734375 54.109375 11.28125 \n",
       "L 54.109375 2.78125 \n",
       "Q 49.265625 0.734375 44.1875 -0.34375 \n",
       "Q 39.109375 -1.421875 33.890625 -1.421875 \n",
       "Q 20.796875 -1.421875 13.15625 6.1875 \n",
       "Q 5.515625 13.8125 5.515625 26.8125 \n",
       "Q 5.515625 40.234375 12.765625 48.109375 \n",
       "Q 20.015625 56 32.328125 56 \n",
       "Q 43.359375 56 49.78125 48.890625 \n",
       "Q 56.203125 41.796875 56.203125 29.59375 \n",
       "z\n",
       "M 47.21875 32.234375 \n",
       "Q 47.125 39.59375 43.09375 43.984375 \n",
       "Q 39.0625 48.390625 32.421875 48.390625 \n",
       "Q 24.90625 48.390625 20.390625 44.140625 \n",
       "Q 15.875 39.890625 15.1875 32.171875 \n",
       "z\n",
       "\" id=\"DejaVuSans-101\"/>\n",
       "       <path d=\"M 45.40625 46.390625 \n",
       "L 45.40625 75.984375 \n",
       "L 54.390625 75.984375 \n",
       "L 54.390625 0 \n",
       "L 45.40625 0 \n",
       "L 45.40625 8.203125 \n",
       "Q 42.578125 3.328125 38.25 0.953125 \n",
       "Q 33.9375 -1.421875 27.875 -1.421875 \n",
       "Q 17.96875 -1.421875 11.734375 6.484375 \n",
       "Q 5.515625 14.40625 5.515625 27.296875 \n",
       "Q 5.515625 40.1875 11.734375 48.09375 \n",
       "Q 17.96875 56 27.875 56 \n",
       "Q 33.9375 56 38.25 53.625 \n",
       "Q 42.578125 51.265625 45.40625 46.390625 \n",
       "z\n",
       "M 14.796875 27.296875 \n",
       "Q 14.796875 17.390625 18.875 11.75 \n",
       "Q 22.953125 6.109375 30.078125 6.109375 \n",
       "Q 37.203125 6.109375 41.296875 11.75 \n",
       "Q 45.40625 17.390625 45.40625 27.296875 \n",
       "Q 45.40625 37.203125 41.296875 42.84375 \n",
       "Q 37.203125 48.484375 30.078125 48.484375 \n",
       "Q 22.953125 48.484375 18.875 42.84375 \n",
       "Q 14.796875 37.203125 14.796875 27.296875 \n",
       "z\n",
       "\" id=\"DejaVuSans-100\"/>\n",
       "       <path d=\"M 9.421875 54.6875 \n",
       "L 18.40625 54.6875 \n",
       "L 18.40625 0 \n",
       "L 9.421875 0 \n",
       "z\n",
       "M 9.421875 75.984375 \n",
       "L 18.40625 75.984375 \n",
       "L 18.40625 64.59375 \n",
       "L 9.421875 64.59375 \n",
       "z\n",
       "\" id=\"DejaVuSans-105\"/>\n",
       "       <path d=\"M 48.78125 52.59375 \n",
       "L 48.78125 44.1875 \n",
       "Q 44.96875 46.296875 41.140625 47.34375 \n",
       "Q 37.3125 48.390625 33.40625 48.390625 \n",
       "Q 24.65625 48.390625 19.8125 42.84375 \n",
       "Q 14.984375 37.3125 14.984375 27.296875 \n",
       "Q 14.984375 17.28125 19.8125 11.734375 \n",
       "Q 24.65625 6.203125 33.40625 6.203125 \n",
       "Q 37.3125 6.203125 41.140625 7.25 \n",
       "Q 44.96875 8.296875 48.78125 10.40625 \n",
       "L 48.78125 2.09375 \n",
       "Q 45.015625 0.34375 40.984375 -0.53125 \n",
       "Q 36.96875 -1.421875 32.421875 -1.421875 \n",
       "Q 20.0625 -1.421875 12.78125 6.34375 \n",
       "Q 5.515625 14.109375 5.515625 27.296875 \n",
       "Q 5.515625 40.671875 12.859375 48.328125 \n",
       "Q 20.21875 56 33.015625 56 \n",
       "Q 37.15625 56 41.109375 55.140625 \n",
       "Q 45.0625 54.296875 48.78125 52.59375 \n",
       "z\n",
       "\" id=\"DejaVuSans-99\"/>\n",
       "       <path d=\"M 18.3125 70.21875 \n",
       "L 18.3125 54.6875 \n",
       "L 36.8125 54.6875 \n",
       "L 36.8125 47.703125 \n",
       "L 18.3125 47.703125 \n",
       "L 18.3125 18.015625 \n",
       "Q 18.3125 11.328125 20.140625 9.421875 \n",
       "Q 21.96875 7.515625 27.59375 7.515625 \n",
       "L 36.8125 7.515625 \n",
       "L 36.8125 0 \n",
       "L 27.59375 0 \n",
       "Q 17.1875 0 13.234375 3.875 \n",
       "Q 9.28125 7.765625 9.28125 18.015625 \n",
       "L 9.28125 47.703125 \n",
       "L 2.6875 47.703125 \n",
       "L 2.6875 54.6875 \n",
       "L 9.28125 54.6875 \n",
       "L 9.28125 70.21875 \n",
       "z\n",
       "\" id=\"DejaVuSans-116\"/>\n",
       "      </defs>\n",
       "      <use xlink:href=\"#DejaVuSans-80\"/>\n",
       "      <use x=\"58.552734\" xlink:href=\"#DejaVuSans-114\"/>\n",
       "      <use x=\"97.416016\" xlink:href=\"#DejaVuSans-101\"/>\n",
       "      <use x=\"158.939453\" xlink:href=\"#DejaVuSans-100\"/>\n",
       "      <use x=\"222.416016\" xlink:href=\"#DejaVuSans-105\"/>\n",
       "      <use x=\"250.199219\" xlink:href=\"#DejaVuSans-99\"/>\n",
       "      <use x=\"305.179688\" xlink:href=\"#DejaVuSans-116\"/>\n",
       "      <use x=\"344.388672\" xlink:href=\"#DejaVuSans-101\"/>\n",
       "      <use x=\"405.912109\" xlink:href=\"#DejaVuSans-100\"/>\n",
       "     </g>\n",
       "    </g>\n",
       "   </g>\n",
       "   <g id=\"matplotlib.axis_2\">\n",
       "    <g id=\"ytick_1\">\n",
       "     <g id=\"line2d_3\">\n",
       "      <defs>\n",
       "       <path d=\"M 0 0 \n",
       "L -3.5 0 \n",
       "\" id=\"me84b095bb7\" style=\"stroke:#000000;stroke-width:0.8;\"/>\n",
       "      </defs>\n",
       "      <g>\n",
       "       <use style=\"stroke:#000000;stroke-width:0.8;\" x=\"56.250625\" xlink:href=\"#me84b095bb7\" y=\"61.56\"/>\n",
       "      </g>\n",
       "     </g>\n",
       "     <g id=\"text_4\">\n",
       "      <!-- EPL -->\n",
       "      <g transform=\"translate(27.74625 66.119063)scale(0.12 -0.12)\">\n",
       "       <use xlink:href=\"#DejaVuSans-69\"/>\n",
       "       <use x=\"63.183594\" xlink:href=\"#DejaVuSans-80\"/>\n",
       "       <use x=\"123.486328\" xlink:href=\"#DejaVuSans-76\"/>\n",
       "      </g>\n",
       "     </g>\n",
       "    </g>\n",
       "    <g id=\"ytick_2\">\n",
       "     <g id=\"line2d_4\">\n",
       "      <g>\n",
       "       <use style=\"stroke:#000000;stroke-width:0.8;\" x=\"56.250625\" xlink:href=\"#me84b095bb7\" y=\"170.28\"/>\n",
       "      </g>\n",
       "     </g>\n",
       "     <g id=\"text_5\">\n",
       "      <!-- NFL -->\n",
       "      <g transform=\"translate(26.685 174.839063)scale(0.12 -0.12)\">\n",
       "       <use xlink:href=\"#DejaVuSans-78\"/>\n",
       "       <use x=\"74.804688\" xlink:href=\"#DejaVuSans-70\"/>\n",
       "       <use x=\"132.324219\" xlink:href=\"#DejaVuSans-76\"/>\n",
       "      </g>\n",
       "     </g>\n",
       "    </g>\n",
       "    <g id=\"text_6\">\n",
       "     <!-- Actual -->\n",
       "     <g transform=\"translate(19.3575 140.9825)rotate(-90)scale(0.16 -0.16)\">\n",
       "      <defs>\n",
       "       <path d=\"M 34.1875 63.1875 \n",
       "L 20.796875 26.90625 \n",
       "L 47.609375 26.90625 \n",
       "z\n",
       "M 28.609375 72.90625 \n",
       "L 39.796875 72.90625 \n",
       "L 67.578125 0 \n",
       "L 57.328125 0 \n",
       "L 50.6875 18.703125 \n",
       "L 17.828125 18.703125 \n",
       "L 11.1875 0 \n",
       "L 0.78125 0 \n",
       "z\n",
       "\" id=\"DejaVuSans-65\"/>\n",
       "       <path d=\"M 8.5 21.578125 \n",
       "L 8.5 54.6875 \n",
       "L 17.484375 54.6875 \n",
       "L 17.484375 21.921875 \n",
       "Q 17.484375 14.15625 20.5 10.265625 \n",
       "Q 23.53125 6.390625 29.59375 6.390625 \n",
       "Q 36.859375 6.390625 41.078125 11.03125 \n",
       "Q 45.3125 15.671875 45.3125 23.6875 \n",
       "L 45.3125 54.6875 \n",
       "L 54.296875 54.6875 \n",
       "L 54.296875 0 \n",
       "L 45.3125 0 \n",
       "L 45.3125 8.40625 \n",
       "Q 42.046875 3.421875 37.71875 1 \n",
       "Q 33.40625 -1.421875 27.6875 -1.421875 \n",
       "Q 18.265625 -1.421875 13.375 4.4375 \n",
       "Q 8.5 10.296875 8.5 21.578125 \n",
       "z\n",
       "M 31.109375 56 \n",
       "z\n",
       "\" id=\"DejaVuSans-117\"/>\n",
       "       <path d=\"M 34.28125 27.484375 \n",
       "Q 23.390625 27.484375 19.1875 25 \n",
       "Q 14.984375 22.515625 14.984375 16.5 \n",
       "Q 14.984375 11.71875 18.140625 8.90625 \n",
       "Q 21.296875 6.109375 26.703125 6.109375 \n",
       "Q 34.1875 6.109375 38.703125 11.40625 \n",
       "Q 43.21875 16.703125 43.21875 25.484375 \n",
       "L 43.21875 27.484375 \n",
       "z\n",
       "M 52.203125 31.203125 \n",
       "L 52.203125 0 \n",
       "L 43.21875 0 \n",
       "L 43.21875 8.296875 \n",
       "Q 40.140625 3.328125 35.546875 0.953125 \n",
       "Q 30.953125 -1.421875 24.3125 -1.421875 \n",
       "Q 15.921875 -1.421875 10.953125 3.296875 \n",
       "Q 6 8.015625 6 15.921875 \n",
       "Q 6 25.140625 12.171875 29.828125 \n",
       "Q 18.359375 34.515625 30.609375 34.515625 \n",
       "L 43.21875 34.515625 \n",
       "L 43.21875 35.40625 \n",
       "Q 43.21875 41.609375 39.140625 45 \n",
       "Q 35.0625 48.390625 27.6875 48.390625 \n",
       "Q 23 48.390625 18.546875 47.265625 \n",
       "Q 14.109375 46.140625 10.015625 43.890625 \n",
       "L 10.015625 52.203125 \n",
       "Q 14.9375 54.109375 19.578125 55.046875 \n",
       "Q 24.21875 56 28.609375 56 \n",
       "Q 40.484375 56 46.34375 49.84375 \n",
       "Q 52.203125 43.703125 52.203125 31.203125 \n",
       "z\n",
       "\" id=\"DejaVuSans-97\"/>\n",
       "       <path d=\"M 9.421875 75.984375 \n",
       "L 18.40625 75.984375 \n",
       "L 18.40625 0 \n",
       "L 9.421875 0 \n",
       "z\n",
       "\" id=\"DejaVuSans-108\"/>\n",
       "      </defs>\n",
       "      <use xlink:href=\"#DejaVuSans-65\"/>\n",
       "      <use x=\"66.658203\" xlink:href=\"#DejaVuSans-99\"/>\n",
       "      <use x=\"121.638672\" xlink:href=\"#DejaVuSans-116\"/>\n",
       "      <use x=\"160.847656\" xlink:href=\"#DejaVuSans-117\"/>\n",
       "      <use x=\"224.226562\" xlink:href=\"#DejaVuSans-97\"/>\n",
       "      <use x=\"285.505859\" xlink:href=\"#DejaVuSans-108\"/>\n",
       "     </g>\n",
       "    </g>\n",
       "   </g>\n",
       "   <g id=\"patch_3\">\n",
       "    <path d=\"M 56.250625 224.64 \n",
       "L 56.250625 7.2 \n",
       "\" style=\"fill:none;stroke:#000000;stroke-linecap:square;stroke-linejoin:miter;stroke-width:0.8;\"/>\n",
       "   </g>\n",
       "   <g id=\"patch_4\">\n",
       "    <path d=\"M 273.690625 224.64 \n",
       "L 273.690625 7.2 \n",
       "\" style=\"fill:none;stroke:#000000;stroke-linecap:square;stroke-linejoin:miter;stroke-width:0.8;\"/>\n",
       "   </g>\n",
       "   <g id=\"patch_5\">\n",
       "    <path d=\"M 56.250625 224.64 \n",
       "L 273.690625 224.64 \n",
       "\" style=\"fill:none;stroke:#000000;stroke-linecap:square;stroke-linejoin:miter;stroke-width:0.8;\"/>\n",
       "   </g>\n",
       "   <g id=\"patch_6\">\n",
       "    <path d=\"M 56.250625 7.2 \n",
       "L 273.690625 7.2 \n",
       "\" style=\"fill:none;stroke:#000000;stroke-linecap:square;stroke-linejoin:miter;stroke-width:0.8;\"/>\n",
       "   </g>\n",
       "   <g id=\"text_7\">\n",
       "    <!-- 1320 -->\n",
       "    <g style=\"fill:#f3ffd1;\" transform=\"translate(97.885625 64.319375)scale(0.1 -0.1)\">\n",
       "     <defs>\n",
       "      <path d=\"M 12.40625 8.296875 \n",
       "L 28.515625 8.296875 \n",
       "L 28.515625 63.921875 \n",
       "L 10.984375 60.40625 \n",
       "L 10.984375 69.390625 \n",
       "L 28.421875 72.90625 \n",
       "L 38.28125 72.90625 \n",
       "L 38.28125 8.296875 \n",
       "L 54.390625 8.296875 \n",
       "L 54.390625 0 \n",
       "L 12.40625 0 \n",
       "z\n",
       "\" id=\"DejaVuSans-49\"/>\n",
       "      <path d=\"M 40.578125 39.3125 \n",
       "Q 47.65625 37.796875 51.625 33 \n",
       "Q 55.609375 28.21875 55.609375 21.1875 \n",
       "Q 55.609375 10.40625 48.1875 4.484375 \n",
       "Q 40.765625 -1.421875 27.09375 -1.421875 \n",
       "Q 22.515625 -1.421875 17.65625 -0.515625 \n",
       "Q 12.796875 0.390625 7.625 2.203125 \n",
       "L 7.625 11.71875 \n",
       "Q 11.71875 9.328125 16.59375 8.109375 \n",
       "Q 21.484375 6.890625 26.8125 6.890625 \n",
       "Q 36.078125 6.890625 40.9375 10.546875 \n",
       "Q 45.796875 14.203125 45.796875 21.1875 \n",
       "Q 45.796875 27.640625 41.28125 31.265625 \n",
       "Q 36.765625 34.90625 28.71875 34.90625 \n",
       "L 20.21875 34.90625 \n",
       "L 20.21875 43.015625 \n",
       "L 29.109375 43.015625 \n",
       "Q 36.375 43.015625 40.234375 45.921875 \n",
       "Q 44.09375 48.828125 44.09375 54.296875 \n",
       "Q 44.09375 59.90625 40.109375 62.90625 \n",
       "Q 36.140625 65.921875 28.71875 65.921875 \n",
       "Q 24.65625 65.921875 20.015625 65.03125 \n",
       "Q 15.375 64.15625 9.8125 62.3125 \n",
       "L 9.8125 71.09375 \n",
       "Q 15.4375 72.65625 20.34375 73.4375 \n",
       "Q 25.25 74.21875 29.59375 74.21875 \n",
       "Q 40.828125 74.21875 47.359375 69.109375 \n",
       "Q 53.90625 64.015625 53.90625 55.328125 \n",
       "Q 53.90625 49.265625 50.4375 45.09375 \n",
       "Q 46.96875 40.921875 40.578125 39.3125 \n",
       "z\n",
       "\" id=\"DejaVuSans-51\"/>\n",
       "      <path d=\"M 19.1875 8.296875 \n",
       "L 53.609375 8.296875 \n",
       "L 53.609375 0 \n",
       "L 7.328125 0 \n",
       "L 7.328125 8.296875 \n",
       "Q 12.9375 14.109375 22.625 23.890625 \n",
       "Q 32.328125 33.6875 34.8125 36.53125 \n",
       "Q 39.546875 41.84375 41.421875 45.53125 \n",
       "Q 43.3125 49.21875 43.3125 52.78125 \n",
       "Q 43.3125 58.59375 39.234375 62.25 \n",
       "Q 35.15625 65.921875 28.609375 65.921875 \n",
       "Q 23.96875 65.921875 18.8125 64.3125 \n",
       "Q 13.671875 62.703125 7.8125 59.421875 \n",
       "L 7.8125 69.390625 \n",
       "Q 13.765625 71.78125 18.9375 73 \n",
       "Q 24.125 74.21875 28.421875 74.21875 \n",
       "Q 39.75 74.21875 46.484375 68.546875 \n",
       "Q 53.21875 62.890625 53.21875 53.421875 \n",
       "Q 53.21875 48.921875 51.53125 44.890625 \n",
       "Q 49.859375 40.875 45.40625 35.40625 \n",
       "Q 44.1875 33.984375 37.640625 27.21875 \n",
       "Q 31.109375 20.453125 19.1875 8.296875 \n",
       "z\n",
       "\" id=\"DejaVuSans-50\"/>\n",
       "      <path d=\"M 31.78125 66.40625 \n",
       "Q 24.171875 66.40625 20.328125 58.90625 \n",
       "Q 16.5 51.421875 16.5 36.375 \n",
       "Q 16.5 21.390625 20.328125 13.890625 \n",
       "Q 24.171875 6.390625 31.78125 6.390625 \n",
       "Q 39.453125 6.390625 43.28125 13.890625 \n",
       "Q 47.125 21.390625 47.125 36.375 \n",
       "Q 47.125 51.421875 43.28125 58.90625 \n",
       "Q 39.453125 66.40625 31.78125 66.40625 \n",
       "z\n",
       "M 31.78125 74.21875 \n",
       "Q 44.046875 74.21875 50.515625 64.515625 \n",
       "Q 56.984375 54.828125 56.984375 36.375 \n",
       "Q 56.984375 17.96875 50.515625 8.265625 \n",
       "Q 44.046875 -1.421875 31.78125 -1.421875 \n",
       "Q 19.53125 -1.421875 13.0625 8.265625 \n",
       "Q 6.59375 17.96875 6.59375 36.375 \n",
       "Q 6.59375 54.828125 13.0625 64.515625 \n",
       "Q 19.53125 74.21875 31.78125 74.21875 \n",
       "z\n",
       "\" id=\"DejaVuSans-48\"/>\n",
       "     </defs>\n",
       "     <use xlink:href=\"#DejaVuSans-49\"/>\n",
       "     <use x=\"63.623047\" xlink:href=\"#DejaVuSans-51\"/>\n",
       "     <use x=\"127.246094\" xlink:href=\"#DejaVuSans-50\"/>\n",
       "     <use x=\"190.869141\" xlink:href=\"#DejaVuSans-48\"/>\n",
       "    </g>\n",
       "   </g>\n",
       "   <g id=\"text_8\">\n",
       "    <!-- 39 -->\n",
       "    <g style=\"fill:#91c603;\" transform=\"translate(212.968125 64.319375)scale(0.1 -0.1)\">\n",
       "     <defs>\n",
       "      <path d=\"M 10.984375 1.515625 \n",
       "L 10.984375 10.5 \n",
       "Q 14.703125 8.734375 18.5 7.8125 \n",
       "Q 22.3125 6.890625 25.984375 6.890625 \n",
       "Q 35.75 6.890625 40.890625 13.453125 \n",
       "Q 46.046875 20.015625 46.78125 33.40625 \n",
       "Q 43.953125 29.203125 39.59375 26.953125 \n",
       "Q 35.25 24.703125 29.984375 24.703125 \n",
       "Q 19.046875 24.703125 12.671875 31.3125 \n",
       "Q 6.296875 37.9375 6.296875 49.421875 \n",
       "Q 6.296875 60.640625 12.9375 67.421875 \n",
       "Q 19.578125 74.21875 30.609375 74.21875 \n",
       "Q 43.265625 74.21875 49.921875 64.515625 \n",
       "Q 56.59375 54.828125 56.59375 36.375 \n",
       "Q 56.59375 19.140625 48.40625 8.859375 \n",
       "Q 40.234375 -1.421875 26.421875 -1.421875 \n",
       "Q 22.703125 -1.421875 18.890625 -0.6875 \n",
       "Q 15.09375 0.046875 10.984375 1.515625 \n",
       "z\n",
       "M 30.609375 32.421875 \n",
       "Q 37.25 32.421875 41.125 36.953125 \n",
       "Q 45.015625 41.5 45.015625 49.421875 \n",
       "Q 45.015625 57.28125 41.125 61.84375 \n",
       "Q 37.25 66.40625 30.609375 66.40625 \n",
       "Q 23.96875 66.40625 20.09375 61.84375 \n",
       "Q 16.21875 57.28125 16.21875 49.421875 \n",
       "Q 16.21875 41.5 20.09375 36.953125 \n",
       "Q 23.96875 32.421875 30.609375 32.421875 \n",
       "z\n",
       "\" id=\"DejaVuSans-57\"/>\n",
       "     </defs>\n",
       "     <use xlink:href=\"#DejaVuSans-51\"/>\n",
       "     <use x=\"63.623047\" xlink:href=\"#DejaVuSans-57\"/>\n",
       "    </g>\n",
       "   </g>\n",
       "   <g id=\"text_9\">\n",
       "    <!-- 24 -->\n",
       "    <g style=\"fill:#91c603;\" transform=\"translate(104.248125 173.039375)scale(0.1 -0.1)\">\n",
       "     <defs>\n",
       "      <path d=\"M 37.796875 64.3125 \n",
       "L 12.890625 25.390625 \n",
       "L 37.796875 25.390625 \n",
       "z\n",
       "M 35.203125 72.90625 \n",
       "L 47.609375 72.90625 \n",
       "L 47.609375 25.390625 \n",
       "L 58.015625 25.390625 \n",
       "L 58.015625 17.1875 \n",
       "L 47.609375 17.1875 \n",
       "L 47.609375 0 \n",
       "L 37.796875 0 \n",
       "L 37.796875 17.1875 \n",
       "L 4.890625 17.1875 \n",
       "L 4.890625 26.703125 \n",
       "z\n",
       "\" id=\"DejaVuSans-52\"/>\n",
       "     </defs>\n",
       "     <use xlink:href=\"#DejaVuSans-50\"/>\n",
       "     <use x=\"63.623047\" xlink:href=\"#DejaVuSans-52\"/>\n",
       "    </g>\n",
       "   </g>\n",
       "   <g id=\"text_10\">\n",
       "    <!-- 1721 -->\n",
       "    <g style=\"fill:#f3ffd1;\" transform=\"translate(206.605625 173.039375)scale(0.1 -0.1)\">\n",
       "     <defs>\n",
       "      <path d=\"M 8.203125 72.90625 \n",
       "L 55.078125 72.90625 \n",
       "L 55.078125 68.703125 \n",
       "L 28.609375 0 \n",
       "L 18.3125 0 \n",
       "L 43.21875 64.59375 \n",
       "L 8.203125 64.59375 \n",
       "z\n",
       "\" id=\"DejaVuSans-55\"/>\n",
       "     </defs>\n",
       "     <use xlink:href=\"#DejaVuSans-49\"/>\n",
       "     <use x=\"63.623047\" xlink:href=\"#DejaVuSans-55\"/>\n",
       "     <use x=\"127.246094\" xlink:href=\"#DejaVuSans-50\"/>\n",
       "     <use x=\"190.869141\" xlink:href=\"#DejaVuSans-49\"/>\n",
       "    </g>\n",
       "   </g>\n",
       "  </g>\n",
       "  <g id=\"axes_2\">\n",
       "   <g id=\"patch_7\">\n",
       "    <path clip-path=\"url(#p20f2862a30)\" d=\"M 290.430625 224.64 \n",
       "L 290.430625 223.790625 \n",
       "L 290.430625 8.049375 \n",
       "L 290.430625 7.2 \n",
       "L 301.302625 7.2 \n",
       "L 301.302625 8.049375 \n",
       "L 301.302625 223.790625 \n",
       "L 301.302625 224.64 \n",
       "z\n",
       "\" style=\"fill:#ffffff;stroke:#ffffff;stroke-linejoin:miter;stroke-width:0.01;\"/>\n",
       "   </g>\n",
       "   <image height=\"218\" id=\"imagee6143d8d28\" transform=\"scale(1 -1)translate(0 -218)\" width=\"11\" x=\"290\" xlink:href=\"data:image/png;base64,\n",
       "iVBORw0KGgoAAAANSUhEUgAAAAsAAADaCAYAAABwzrisAAAA/UlEQVR4nO2aMQ6EMAwEfSj//9u95XpMQQNdNtJK45ypo2gwu2Yd+PzymzF5jYxzdm2MmN43YqSweoRtcaZt53rMx/TKG0PQhq0aIrOE4bpBtc4MpyAk6vSg1r6Uxmhk9jlFET+kI7lKJ1WDwtzuflzGV1tNd5vET2HWVKe1AkQIpDAjOpImJDFsE1KucbbyJZnt58GCzMYQaOtI27ubMg8aU269xIhhhribwex83KZq9Dy4jtHMr52VQGXr/Bzm3d3d8+AiRsXTHvE96Dq95DD7AhXjLBeRGCt2pJ5h3xiMDxkUdyMk+gfuZsyDFT/ob6/n/qlmHQPxx4Kk5wtKFlaWsEnk6AAAAABJRU5ErkJggg==\" y=\"-6\"/>\n",
       "   <g id=\"matplotlib.axis_3\"/>\n",
       "   <g id=\"matplotlib.axis_4\">\n",
       "    <g id=\"ytick_3\">\n",
       "     <g id=\"line2d_5\">\n",
       "      <defs>\n",
       "       <path d=\"M 0 0 \n",
       "L 3.5 0 \n",
       "\" id=\"m588fc9227f\" style=\"stroke:#000000;stroke-width:0.8;\"/>\n",
       "      </defs>\n",
       "      <g>\n",
       "       <use style=\"stroke:#000000;stroke-width:0.8;\" x=\"301.302625\" xlink:href=\"#m588fc9227f\" y=\"202.088768\"/>\n",
       "      </g>\n",
       "     </g>\n",
       "     <g id=\"text_11\">\n",
       "      <!-- 200 -->\n",
       "      <g transform=\"translate(308.302625 205.887987)scale(0.1 -0.1)\">\n",
       "       <use xlink:href=\"#DejaVuSans-50\"/>\n",
       "       <use x=\"63.623047\" xlink:href=\"#DejaVuSans-48\"/>\n",
       "       <use x=\"127.246094\" xlink:href=\"#DejaVuSans-48\"/>\n",
       "      </g>\n",
       "     </g>\n",
       "    </g>\n",
       "    <g id=\"ytick_4\">\n",
       "     <g id=\"line2d_6\">\n",
       "      <g>\n",
       "       <use style=\"stroke:#000000;stroke-width:0.8;\" x=\"301.302625\" xlink:href=\"#m588fc9227f\" y=\"176.462369\"/>\n",
       "      </g>\n",
       "     </g>\n",
       "     <g id=\"text_12\">\n",
       "      <!-- 400 -->\n",
       "      <g transform=\"translate(308.302625 180.261588)scale(0.1 -0.1)\">\n",
       "       <use xlink:href=\"#DejaVuSans-52\"/>\n",
       "       <use x=\"63.623047\" xlink:href=\"#DejaVuSans-48\"/>\n",
       "       <use x=\"127.246094\" xlink:href=\"#DejaVuSans-48\"/>\n",
       "      </g>\n",
       "     </g>\n",
       "    </g>\n",
       "    <g id=\"ytick_5\">\n",
       "     <g id=\"line2d_7\">\n",
       "      <g>\n",
       "       <use style=\"stroke:#000000;stroke-width:0.8;\" x=\"301.302625\" xlink:href=\"#m588fc9227f\" y=\"150.835969\"/>\n",
       "      </g>\n",
       "     </g>\n",
       "     <g id=\"text_13\">\n",
       "      <!-- 600 -->\n",
       "      <g transform=\"translate(308.302625 154.635188)scale(0.1 -0.1)\">\n",
       "       <defs>\n",
       "        <path d=\"M 33.015625 40.375 \n",
       "Q 26.375 40.375 22.484375 35.828125 \n",
       "Q 18.609375 31.296875 18.609375 23.390625 \n",
       "Q 18.609375 15.53125 22.484375 10.953125 \n",
       "Q 26.375 6.390625 33.015625 6.390625 \n",
       "Q 39.65625 6.390625 43.53125 10.953125 \n",
       "Q 47.40625 15.53125 47.40625 23.390625 \n",
       "Q 47.40625 31.296875 43.53125 35.828125 \n",
       "Q 39.65625 40.375 33.015625 40.375 \n",
       "z\n",
       "M 52.59375 71.296875 \n",
       "L 52.59375 62.3125 \n",
       "Q 48.875 64.0625 45.09375 64.984375 \n",
       "Q 41.3125 65.921875 37.59375 65.921875 \n",
       "Q 27.828125 65.921875 22.671875 59.328125 \n",
       "Q 17.53125 52.734375 16.796875 39.40625 \n",
       "Q 19.671875 43.65625 24.015625 45.921875 \n",
       "Q 28.375 48.1875 33.59375 48.1875 \n",
       "Q 44.578125 48.1875 50.953125 41.515625 \n",
       "Q 57.328125 34.859375 57.328125 23.390625 \n",
       "Q 57.328125 12.15625 50.6875 5.359375 \n",
       "Q 44.046875 -1.421875 33.015625 -1.421875 \n",
       "Q 20.359375 -1.421875 13.671875 8.265625 \n",
       "Q 6.984375 17.96875 6.984375 36.375 \n",
       "Q 6.984375 53.65625 15.1875 63.9375 \n",
       "Q 23.390625 74.21875 37.203125 74.21875 \n",
       "Q 40.921875 74.21875 44.703125 73.484375 \n",
       "Q 48.484375 72.75 52.59375 71.296875 \n",
       "z\n",
       "\" id=\"DejaVuSans-54\"/>\n",
       "       </defs>\n",
       "       <use xlink:href=\"#DejaVuSans-54\"/>\n",
       "       <use x=\"63.623047\" xlink:href=\"#DejaVuSans-48\"/>\n",
       "       <use x=\"127.246094\" xlink:href=\"#DejaVuSans-48\"/>\n",
       "      </g>\n",
       "     </g>\n",
       "    </g>\n",
       "    <g id=\"ytick_6\">\n",
       "     <g id=\"line2d_8\">\n",
       "      <g>\n",
       "       <use style=\"stroke:#000000;stroke-width:0.8;\" x=\"301.302625\" xlink:href=\"#m588fc9227f\" y=\"125.20957\"/>\n",
       "      </g>\n",
       "     </g>\n",
       "     <g id=\"text_14\">\n",
       "      <!-- 800 -->\n",
       "      <g transform=\"translate(308.302625 129.008789)scale(0.1 -0.1)\">\n",
       "       <defs>\n",
       "        <path d=\"M 31.78125 34.625 \n",
       "Q 24.75 34.625 20.71875 30.859375 \n",
       "Q 16.703125 27.09375 16.703125 20.515625 \n",
       "Q 16.703125 13.921875 20.71875 10.15625 \n",
       "Q 24.75 6.390625 31.78125 6.390625 \n",
       "Q 38.8125 6.390625 42.859375 10.171875 \n",
       "Q 46.921875 13.96875 46.921875 20.515625 \n",
       "Q 46.921875 27.09375 42.890625 30.859375 \n",
       "Q 38.875 34.625 31.78125 34.625 \n",
       "z\n",
       "M 21.921875 38.8125 \n",
       "Q 15.578125 40.375 12.03125 44.71875 \n",
       "Q 8.5 49.078125 8.5 55.328125 \n",
       "Q 8.5 64.0625 14.71875 69.140625 \n",
       "Q 20.953125 74.21875 31.78125 74.21875 \n",
       "Q 42.671875 74.21875 48.875 69.140625 \n",
       "Q 55.078125 64.0625 55.078125 55.328125 \n",
       "Q 55.078125 49.078125 51.53125 44.71875 \n",
       "Q 48 40.375 41.703125 38.8125 \n",
       "Q 48.828125 37.15625 52.796875 32.3125 \n",
       "Q 56.78125 27.484375 56.78125 20.515625 \n",
       "Q 56.78125 9.90625 50.3125 4.234375 \n",
       "Q 43.84375 -1.421875 31.78125 -1.421875 \n",
       "Q 19.734375 -1.421875 13.25 4.234375 \n",
       "Q 6.78125 9.90625 6.78125 20.515625 \n",
       "Q 6.78125 27.484375 10.78125 32.3125 \n",
       "Q 14.796875 37.15625 21.921875 38.8125 \n",
       "z\n",
       "M 18.3125 54.390625 \n",
       "Q 18.3125 48.734375 21.84375 45.5625 \n",
       "Q 25.390625 42.390625 31.78125 42.390625 \n",
       "Q 38.140625 42.390625 41.71875 45.5625 \n",
       "Q 45.3125 48.734375 45.3125 54.390625 \n",
       "Q 45.3125 60.0625 41.71875 63.234375 \n",
       "Q 38.140625 66.40625 31.78125 66.40625 \n",
       "Q 25.390625 66.40625 21.84375 63.234375 \n",
       "Q 18.3125 60.0625 18.3125 54.390625 \n",
       "z\n",
       "\" id=\"DejaVuSans-56\"/>\n",
       "       </defs>\n",
       "       <use xlink:href=\"#DejaVuSans-56\"/>\n",
       "       <use x=\"63.623047\" xlink:href=\"#DejaVuSans-48\"/>\n",
       "       <use x=\"127.246094\" xlink:href=\"#DejaVuSans-48\"/>\n",
       "      </g>\n",
       "     </g>\n",
       "    </g>\n",
       "    <g id=\"ytick_7\">\n",
       "     <g id=\"line2d_9\">\n",
       "      <g>\n",
       "       <use style=\"stroke:#000000;stroke-width:0.8;\" x=\"301.302625\" xlink:href=\"#m588fc9227f\" y=\"99.58317\"/>\n",
       "      </g>\n",
       "     </g>\n",
       "     <g id=\"text_15\">\n",
       "      <!-- 1000 -->\n",
       "      <g transform=\"translate(308.302625 103.382389)scale(0.1 -0.1)\">\n",
       "       <use xlink:href=\"#DejaVuSans-49\"/>\n",
       "       <use x=\"63.623047\" xlink:href=\"#DejaVuSans-48\"/>\n",
       "       <use x=\"127.246094\" xlink:href=\"#DejaVuSans-48\"/>\n",
       "       <use x=\"190.869141\" xlink:href=\"#DejaVuSans-48\"/>\n",
       "      </g>\n",
       "     </g>\n",
       "    </g>\n",
       "    <g id=\"ytick_8\">\n",
       "     <g id=\"line2d_10\">\n",
       "      <g>\n",
       "       <use style=\"stroke:#000000;stroke-width:0.8;\" x=\"301.302625\" xlink:href=\"#m588fc9227f\" y=\"73.956771\"/>\n",
       "      </g>\n",
       "     </g>\n",
       "     <g id=\"text_16\">\n",
       "      <!-- 1200 -->\n",
       "      <g transform=\"translate(308.302625 77.75599)scale(0.1 -0.1)\">\n",
       "       <use xlink:href=\"#DejaVuSans-49\"/>\n",
       "       <use x=\"63.623047\" xlink:href=\"#DejaVuSans-50\"/>\n",
       "       <use x=\"127.246094\" xlink:href=\"#DejaVuSans-48\"/>\n",
       "       <use x=\"190.869141\" xlink:href=\"#DejaVuSans-48\"/>\n",
       "      </g>\n",
       "     </g>\n",
       "    </g>\n",
       "    <g id=\"ytick_9\">\n",
       "     <g id=\"line2d_11\">\n",
       "      <g>\n",
       "       <use style=\"stroke:#000000;stroke-width:0.8;\" x=\"301.302625\" xlink:href=\"#m588fc9227f\" y=\"48.330371\"/>\n",
       "      </g>\n",
       "     </g>\n",
       "     <g id=\"text_17\">\n",
       "      <!-- 1400 -->\n",
       "      <g transform=\"translate(308.302625 52.12959)scale(0.1 -0.1)\">\n",
       "       <use xlink:href=\"#DejaVuSans-49\"/>\n",
       "       <use x=\"63.623047\" xlink:href=\"#DejaVuSans-52\"/>\n",
       "       <use x=\"127.246094\" xlink:href=\"#DejaVuSans-48\"/>\n",
       "       <use x=\"190.869141\" xlink:href=\"#DejaVuSans-48\"/>\n",
       "      </g>\n",
       "     </g>\n",
       "    </g>\n",
       "    <g id=\"ytick_10\">\n",
       "     <g id=\"line2d_12\">\n",
       "      <g>\n",
       "       <use style=\"stroke:#000000;stroke-width:0.8;\" x=\"301.302625\" xlink:href=\"#m588fc9227f\" y=\"22.703972\"/>\n",
       "      </g>\n",
       "     </g>\n",
       "     <g id=\"text_18\">\n",
       "      <!-- 1600 -->\n",
       "      <g transform=\"translate(308.302625 26.50319)scale(0.1 -0.1)\">\n",
       "       <use xlink:href=\"#DejaVuSans-49\"/>\n",
       "       <use x=\"63.623047\" xlink:href=\"#DejaVuSans-54\"/>\n",
       "       <use x=\"127.246094\" xlink:href=\"#DejaVuSans-48\"/>\n",
       "       <use x=\"190.869141\" xlink:href=\"#DejaVuSans-48\"/>\n",
       "      </g>\n",
       "     </g>\n",
       "    </g>\n",
       "   </g>\n",
       "   <g id=\"patch_8\">\n",
       "    <path d=\"M 290.430625 224.64 \n",
       "L 290.430625 223.790625 \n",
       "L 290.430625 8.049375 \n",
       "L 290.430625 7.2 \n",
       "L 301.302625 7.2 \n",
       "L 301.302625 8.049375 \n",
       "L 301.302625 223.790625 \n",
       "L 301.302625 224.64 \n",
       "z\n",
       "\" style=\"fill:none;stroke:#000000;stroke-linejoin:miter;stroke-width:0.8;\"/>\n",
       "   </g>\n",
       "  </g>\n",
       " </g>\n",
       " <defs>\n",
       "  <clipPath id=\"p676ac14598\">\n",
       "   <rect height=\"217.44\" width=\"217.44\" x=\"56.250625\" y=\"7.2\"/>\n",
       "  </clipPath>\n",
       "  <clipPath id=\"p20f2862a30\">\n",
       "   <rect height=\"217.44\" width=\"10.872\" x=\"290.430625\" y=\"7.2\"/>\n",
       "  </clipPath>\n",
       " </defs>\n",
       "</svg>\n"
      ],
      "text/plain": [
       "<Figure size 432x288 with 2 Axes>"
      ]
     },
     "metadata": {
      "needs_background": "light"
     },
     "output_type": "display_data"
    }
   ],
   "source": [
    "random_forest_preds = rfc_gs.predict(X_test_mod)\n",
    "\n",
    "tn, fp, fn, tp = confusion_matrix(y_test_mod, random_forest_preds).ravel()\n",
    "\n",
    "plot_confusion_matrix(rfc_gs, X_test_mod, y_test_mod, values_format='d', cmap=custom_cmap, display_labels=['EPL', 'NFL']);\n",
    "\n",
    "plt.xlabel('Predicted', size = 16)\n",
    "plt.xticks(size = 12)\n",
    "\n",
    "plt.ylabel('Actual', size = 16)\n",
    "plt.yticks(size = 12)\n",
    "\n",
    "plt.savefig('../visualizations/random_forest_conf_mtrx.png', dpi=300, transparent=True)"
   ]
  },
  {
   "cell_type": "markdown",
   "metadata": {},
   "source": [
    "Our confusion matrix shows similar (but slightly better) results than our matrix for the logistic regression model - The Random Forest only misclassified 63 posts. Correctly classifying 3041.\n",
    "\n",
    "With an accuracy of 97.7% this is the model we'll use in our work for OverArmor give to them as a tool they can use in the future."
   ]
  },
  {
   "cell_type": "code",
   "execution_count": 45,
   "metadata": {
    "ExecuteTime": {
     "end_time": "2021-05-03T11:41:49.738144Z",
     "start_time": "2021-05-03T11:41:49.735008Z"
    }
   },
   "outputs": [
    {
     "name": "stdout",
     "output_type": "stream",
     "text": [
      "  True Neg: 1320    False Pos: 39\n",
      " False Neg: 24       True Pos: 1721\n"
     ]
    }
   ],
   "source": [
    "print(f'  True Neg: {tn}    False Pos: {fp}')\n",
    "print(f' False Neg: {fn}       True Pos: {tp}')"
   ]
  },
  {
   "cell_type": "code",
   "execution_count": 46,
   "metadata": {
    "ExecuteTime": {
     "end_time": "2021-05-03T11:41:49.742160Z",
     "start_time": "2021-05-03T11:41:49.740162Z"
    }
   },
   "outputs": [],
   "source": [
    "# .best_estimator_.feature_importance()"
   ]
  },
  {
   "cell_type": "code",
   "execution_count": 47,
   "metadata": {
    "ExecuteTime": {
     "end_time": "2021-05-03T11:41:49.866482Z",
     "start_time": "2021-05-03T11:41:49.744291Z"
    }
   },
   "outputs": [],
   "source": [
    "d = {'Column Name':X_train_mod.columns,'Feature Importance':rfc_gs.best_estimator_.feature_importances_}\n",
    "fi = pd.DataFrame(d)\n",
    "# fi.head()\n",
    "rfc_fi = fi.sort_values(by=['Feature Importance'], ascending = False).head(50)"
   ]
  },
  {
   "cell_type": "markdown",
   "metadata": {},
   "source": [
    "Here are the Feature importances for the Random Forest model. They are different than our coefficients. Rather than a value that tells us an increase in liklihood. The FI metric is a measure of relevance to the models ability to classify the posts."
   ]
  },
  {
   "cell_type": "markdown",
   "metadata": {},
   "source": [
    "This is another list I can provide the client as they study words used by each subreddit.\n",
    "\n",
    "With more time, I would dive into all of these lists much more deeply. Filtering out the most common, comparing the words that are unique and shared, identifying what categories the words fall into (like player names, team names, game vocabulary, or categories of speech unrelated to the game itself).  "
   ]
  },
  {
   "cell_type": "code",
   "execution_count": 62,
   "metadata": {
    "ExecuteTime": {
     "end_time": "2021-05-03T15:11:10.439185Z",
     "start_time": "2021-05-03T15:11:10.431198Z"
    }
   },
   "outputs": [],
   "source": [
    "rfc_fi.to_csv('../data/3_output/random_forest-feature_importance.csv', index=False)"
   ]
  },
  {
   "cell_type": "markdown",
   "metadata": {},
   "source": [
    "  "
   ]
  },
  {
   "cell_type": "markdown",
   "metadata": {},
   "source": [
    "  "
   ]
  },
  {
   "cell_type": "markdown",
   "metadata": {},
   "source": [
    "  "
   ]
  },
  {
   "cell_type": "markdown",
   "metadata": {},
   "source": [
    "  "
   ]
  },
  {
   "cell_type": "markdown",
   "metadata": {},
   "source": [
    "  "
   ]
  },
  {
   "cell_type": "markdown",
   "metadata": {},
   "source": [
    "  "
   ]
  },
  {
   "cell_type": "markdown",
   "metadata": {},
   "source": [
    "  "
   ]
  },
  {
   "cell_type": "markdown",
   "metadata": {},
   "source": [
    "  "
   ]
  }
 ],
 "metadata": {
  "kernelspec": {
   "display_name": "Python 3",
   "language": "python",
   "name": "python3"
  },
  "language_info": {
   "codemirror_mode": {
    "name": "ipython",
    "version": 3
   },
   "file_extension": ".py",
   "mimetype": "text/x-python",
   "name": "python",
   "nbconvert_exporter": "python",
   "pygments_lexer": "ipython3",
   "version": "3.8.5"
  },
  "toc": {
   "base_numbering": 1,
   "nav_menu": {},
   "number_sections": true,
   "sideBar": true,
   "skip_h1_title": false,
   "title_cell": "Table of Contents",
   "title_sidebar": "Contents",
   "toc_cell": false,
   "toc_position": {
    "height": "656px",
    "left": "22px",
    "top": "110px",
    "width": "346px"
   },
   "toc_section_display": true,
   "toc_window_display": false
  },
  "varInspector": {
   "cols": {
    "lenName": 16,
    "lenType": 16,
    "lenVar": 40
   },
   "kernels_config": {
    "python": {
     "delete_cmd_postfix": "",
     "delete_cmd_prefix": "del ",
     "library": "var_list.py",
     "varRefreshCmd": "print(var_dic_list())"
    },
    "r": {
     "delete_cmd_postfix": ") ",
     "delete_cmd_prefix": "rm(",
     "library": "var_list.r",
     "varRefreshCmd": "cat(var_dic_list()) "
    }
   },
   "types_to_exclude": [
    "module",
    "function",
    "builtin_function_or_method",
    "instance",
    "_Feature"
   ],
   "window_display": false
  }
 },
 "nbformat": 4,
 "nbformat_minor": 4
}
