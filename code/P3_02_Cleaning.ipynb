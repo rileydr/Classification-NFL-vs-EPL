{
 "cells": [
  {
   "cell_type": "markdown",
   "metadata": {},
   "source": [
    "<span style=\"font-family:Trebuchet MS; font-size:2em;\">Project 3 | NB2: Cleaning (and some initial EDA)</span>\n",
    "\n",
    "Riley Robertson | Reddit Classification Project | "
   ]
  },
  {
   "cell_type": "markdown",
   "metadata": {},
   "source": [
    "## Imports"
   ]
  },
  {
   "cell_type": "code",
   "execution_count": 1,
   "metadata": {
    "ExecuteTime": {
     "end_time": "2021-04-27T09:02:31.597554Z",
     "start_time": "2021-04-27T09:02:30.050426Z"
    }
   },
   "outputs": [],
   "source": [
    "import requests\n",
    "import pandas as pd\n",
    "import numpy as np\n",
    "import matplotlib.pyplot as plt\n",
    "import seaborn as sns\n",
    "\n",
    "import datetime as dt\n",
    "import time\n",
    "import re\n",
    "\n",
    "import utilities.densmore as dns"
   ]
  },
  {
   "cell_type": "markdown",
   "metadata": {},
   "source": [
    "## Other Setup"
   ]
  },
  {
   "cell_type": "code",
   "execution_count": 2,
   "metadata": {
    "ExecuteTime": {
     "end_time": "2021-04-27T09:02:31.601867Z",
     "start_time": "2021-04-27T09:02:31.599300Z"
    }
   },
   "outputs": [],
   "source": [
    "pd.set_option('display.max_colwidth', None)"
   ]
  },
  {
   "cell_type": "markdown",
   "metadata": {},
   "source": [
    "## Subreddit info"
   ]
  },
  {
   "cell_type": "code",
   "execution_count": 3,
   "metadata": {
    "ExecuteTime": {
     "end_time": "2021-04-27T09:02:31.709674Z",
     "start_time": "2021-04-27T09:02:31.604015Z"
    }
   },
   "outputs": [],
   "source": [
    "nfl = 'nfl'\n",
    "epl = 'PremierLeague'\n",
    "subs = [nfl, epl]"
   ]
  },
  {
   "cell_type": "markdown",
   "metadata": {},
   "source": [
    "---"
   ]
  },
  {
   "cell_type": "markdown",
   "metadata": {},
   "source": [
    "## Reading in CSV files from data collection"
   ]
  },
  {
   "cell_type": "code",
   "execution_count": 4,
   "metadata": {
    "ExecuteTime": {
     "end_time": "2021-04-27T09:02:33.149819Z",
     "start_time": "2021-04-27T09:02:31.711767Z"
    }
   },
   "outputs": [],
   "source": [
    "df_nfl = pd.read_csv('../git_ignore/output/raw_nfl_v4.csv', low_memory=False)\n",
    "df_epl = pd.read_csv('../git_ignore/output/raw_epl_v4.csv', low_memory=False)"
   ]
  },
  {
   "cell_type": "code",
   "execution_count": 5,
   "metadata": {
    "ExecuteTime": {
     "end_time": "2021-04-27T09:02:33.155904Z",
     "start_time": "2021-04-27T09:02:33.151403Z"
    }
   },
   "outputs": [
    {
     "data": {
      "text/plain": [
       "((99661, 13), (99589, 13))"
      ]
     },
     "execution_count": 5,
     "metadata": {},
     "output_type": "execute_result"
    }
   ],
   "source": [
    "df_nfl.shape, df_epl.shape"
   ]
  },
  {
   "cell_type": "code",
   "execution_count": 6,
   "metadata": {
    "ExecuteTime": {
     "end_time": "2021-04-27T09:02:37.396837Z",
     "start_time": "2021-04-27T09:02:33.157618Z"
    }
   },
   "outputs": [],
   "source": [
    "df_nfl_full = pd.read_csv('../git_ignore/output/raw_nfl_v4_full.csv', low_memory=False)\n",
    "df_epl_full = pd.read_csv('../git_ignore/output/raw_epl_v4_full.csv', low_memory=False)"
   ]
  },
  {
   "cell_type": "code",
   "execution_count": 7,
   "metadata": {
    "ExecuteTime": {
     "end_time": "2021-04-27T09:02:37.402203Z",
     "start_time": "2021-04-27T09:02:37.398598Z"
    }
   },
   "outputs": [
    {
     "data": {
      "text/plain": [
       "((99661, 101), (99589, 93))"
      ]
     },
     "execution_count": 7,
     "metadata": {},
     "output_type": "execute_result"
    }
   ],
   "source": [
    "df_nfl_full.shape, df_epl_full.shape"
   ]
  },
  {
   "cell_type": "markdown",
   "metadata": {},
   "source": [
    "#### Merging the DataFrames"
   ]
  },
  {
   "cell_type": "code",
   "execution_count": 8,
   "metadata": {
    "ExecuteTime": {
     "end_time": "2021-04-27T09:02:37.443322Z",
     "start_time": "2021-04-27T09:02:37.405706Z"
    }
   },
   "outputs": [],
   "source": [
    "df = pd.concat([df_epl, df_nfl], ignore_index=True)"
   ]
  },
  {
   "cell_type": "code",
   "execution_count": 9,
   "metadata": {
    "ExecuteTime": {
     "end_time": "2021-04-27T09:02:37.803914Z",
     "start_time": "2021-04-27T09:02:37.446389Z"
    }
   },
   "outputs": [],
   "source": [
    "df_full = pd.concat([df_epl_full, df_nfl_full], ignore_index=True)"
   ]
  },
  {
   "cell_type": "markdown",
   "metadata": {},
   "source": [
    "#### Checks"
   ]
  },
  {
   "cell_type": "code",
   "execution_count": 10,
   "metadata": {
    "ExecuteTime": {
     "end_time": "2021-04-27T09:02:37.903786Z",
     "start_time": "2021-04-27T09:02:37.805617Z"
    }
   },
   "outputs": [
    {
     "name": "stdout",
     "output_type": "stream",
     "text": [
      "<class 'pandas.core.frame.DataFrame'>\n",
      "RangeIndex: 199250 entries, 0 to 199249\n",
      "Data columns (total 13 columns):\n",
      " #   Column           Non-Null Count   Dtype \n",
      "---  ------           --------------   ----- \n",
      " 0   index            199250 non-null  int64 \n",
      " 1   subreddit        199250 non-null  object\n",
      " 2   created_utc      199250 non-null  int64 \n",
      " 3   author           199250 non-null  object\n",
      " 4   num_comments     199250 non-null  int64 \n",
      " 5   score            199250 non-null  int64 \n",
      " 6   is_self          199250 non-null  bool  \n",
      " 7   link_flair_text  29684 non-null   object\n",
      " 8   title            199250 non-null  object\n",
      " 9   selftext         168312 non-null  object\n",
      " 10  full_link        199250 non-null  object\n",
      " 11  date             199250 non-null  object\n",
      " 12  time             199250 non-null  object\n",
      "dtypes: bool(1), int64(4), object(8)\n",
      "memory usage: 18.4+ MB\n"
     ]
    }
   ],
   "source": [
    "# df.shape\n",
    "# df.head()\n",
    "df.info()"
   ]
  },
  {
   "cell_type": "markdown",
   "metadata": {},
   "source": [
    "**Quick selection and reordering of columns**"
   ]
  },
  {
   "cell_type": "code",
   "execution_count": 11,
   "metadata": {
    "ExecuteTime": {
     "end_time": "2021-04-27T09:02:37.923237Z",
     "start_time": "2021-04-27T09:02:37.905742Z"
    }
   },
   "outputs": [],
   "source": [
    "df = df[['subreddit', 'created_utc', 'link_flair_text', 'score', 'num_comments', 'index',  'title', 'selftext']]"
   ]
  },
  {
   "cell_type": "code",
   "execution_count": 12,
   "metadata": {
    "ExecuteTime": {
     "end_time": "2021-04-27T09:02:37.927097Z",
     "start_time": "2021-04-27T09:02:37.924774Z"
    }
   },
   "outputs": [],
   "source": [
    "# df.info()"
   ]
  },
  {
   "cell_type": "code",
   "execution_count": 13,
   "metadata": {
    "ExecuteTime": {
     "end_time": "2021-04-27T09:02:37.947325Z",
     "start_time": "2021-04-27T09:02:37.928938Z"
    },
    "scrolled": true
   },
   "outputs": [
    {
     "data": {
      "text/plain": [
       "nfl              99661\n",
       "PremierLeague    99589\n",
       "Name: subreddit, dtype: int64"
      ]
     },
     "execution_count": 13,
     "metadata": {},
     "output_type": "execute_result"
    }
   ],
   "source": [
    "df['subreddit'].value_counts()"
   ]
  },
  {
   "cell_type": "markdown",
   "metadata": {},
   "source": [
    "After my earliest scrapes of my subreddits, I began cleaning and realized that I was quickly running of posts that that had the conditions I wanted. I returned to my Data Collection notebook and increased the number of posts to request from the API. That way, I would begin my cleaning with a much greater volume of posts than I would eventually need and I'd be able to be a little more decisive with my decisions to drop rows rather than trying to salvage content from posts that didn't have the quality of content I'm looking for."
   ]
  },
  {
   "cell_type": "markdown",
   "metadata": {},
   "source": [
    "## Basic Cleaning"
   ]
  },
  {
   "cell_type": "markdown",
   "metadata": {},
   "source": [
    "#### Nulls"
   ]
  },
  {
   "cell_type": "markdown",
   "metadata": {},
   "source": [
    "Nulls only exist in two columns: `link_flair_text` and `selftext`. \n",
    "\n",
    "I want to remove all posts with an empty selftext field, but don't want to hold on to the posts without tags (there are many). So I'll put 'none' into the empty flair_text fields and then remove all rows with nulls after that."
   ]
  },
  {
   "cell_type": "code",
   "execution_count": 14,
   "metadata": {
    "ExecuteTime": {
     "end_time": "2021-04-27T09:02:37.960181Z",
     "start_time": "2021-04-27T09:02:37.949336Z"
    }
   },
   "outputs": [],
   "source": [
    "df['link_flair_text'].fillna('none', inplace=True)"
   ]
  },
  {
   "cell_type": "code",
   "execution_count": 15,
   "metadata": {
    "ExecuteTime": {
     "end_time": "2021-04-27T09:02:38.000529Z",
     "start_time": "2021-04-27T09:02:37.961840Z"
    }
   },
   "outputs": [
    {
     "name": "stdout",
     "output_type": "stream",
     "text": [
      "<class 'pandas.core.frame.DataFrame'>\n",
      "RangeIndex: 199250 entries, 0 to 199249\n",
      "Data columns (total 8 columns):\n",
      " #   Column           Non-Null Count   Dtype \n",
      "---  ------           --------------   ----- \n",
      " 0   subreddit        199250 non-null  object\n",
      " 1   created_utc      199250 non-null  int64 \n",
      " 2   link_flair_text  199250 non-null  object\n",
      " 3   score            199250 non-null  int64 \n",
      " 4   num_comments     199250 non-null  int64 \n",
      " 5   index            199250 non-null  int64 \n",
      " 6   title            199250 non-null  object\n",
      " 7   selftext         168312 non-null  object\n",
      "dtypes: int64(4), object(4)\n",
      "memory usage: 12.2+ MB\n"
     ]
    }
   ],
   "source": [
    "df.info()"
   ]
  },
  {
   "cell_type": "code",
   "execution_count": 16,
   "metadata": {
    "ExecuteTime": {
     "end_time": "2021-04-27T09:02:38.073061Z",
     "start_time": "2021-04-27T09:02:38.008580Z"
    }
   },
   "outputs": [
    {
     "data": {
      "text/plain": [
       "(168312, 8)"
      ]
     },
     "execution_count": 16,
     "metadata": {},
     "output_type": "execute_result"
    }
   ],
   "source": [
    "df.dropna(inplace=True)\n",
    "df.shape"
   ]
  },
  {
   "cell_type": "code",
   "execution_count": 17,
   "metadata": {
    "ExecuteTime": {
     "end_time": "2021-04-27T09:02:38.091378Z",
     "start_time": "2021-04-27T09:02:38.074974Z"
    }
   },
   "outputs": [
    {
     "data": {
      "text/plain": [
       "PremierLeague    86351\n",
       "nfl              81961\n",
       "Name: subreddit, dtype: int64"
      ]
     },
     "execution_count": 17,
     "metadata": {},
     "output_type": "execute_result"
    }
   ],
   "source": [
    "df['subreddit'].value_counts()"
   ]
  },
  {
   "cell_type": "markdown",
   "metadata": {},
   "source": [
    "#### Duplicates"
   ]
  },
  {
   "cell_type": "code",
   "execution_count": 18,
   "metadata": {
    "ExecuteTime": {
     "end_time": "2021-04-27T09:02:38.402508Z",
     "start_time": "2021-04-27T09:02:38.093378Z"
    }
   },
   "outputs": [
    {
     "data": {
      "text/plain": [
       "(168312, 8)"
      ]
     },
     "execution_count": 18,
     "metadata": {},
     "output_type": "execute_result"
    }
   ],
   "source": [
    "df.drop_duplicates(inplace=True)\n",
    "df.shape"
   ]
  },
  {
   "cell_type": "code",
   "execution_count": 19,
   "metadata": {
    "ExecuteTime": {
     "end_time": "2021-04-27T09:02:38.422700Z",
     "start_time": "2021-04-27T09:02:38.404623Z"
    }
   },
   "outputs": [
    {
     "data": {
      "text/plain": [
       "PremierLeague    86351\n",
       "nfl              81961\n",
       "Name: subreddit, dtype: int64"
      ]
     },
     "execution_count": 19,
     "metadata": {},
     "output_type": "execute_result"
    }
   ],
   "source": [
    "df['subreddit'].value_counts()"
   ]
  },
  {
   "cell_type": "markdown",
   "metadata": {},
   "source": [
    "`df.drop_duplicates` didn't appear to make any difference to the DataFrame, but there were still some duplicates in the dataframe (based on the title field alone). For example, there were posts with identical title and author, but differences in other fields like the number of comments, which protected them from the simple `df.drop_duplicates`. \n",
    "\n",
    "Aderinsola and I worked together to find a way to truly delete all duplicates by separating the title column from the rest, deleting duplicates, and then removing the remaining rows from a second DataFrame so we had a list of all the duplicate posts. We were then able to use the index numbers from the newly trimmed DataFrame as the list of index values to drop from the main DataFrame."
   ]
  },
  {
   "cell_type": "code",
   "execution_count": 20,
   "metadata": {
    "ExecuteTime": {
     "end_time": "2021-04-27T09:02:38.432434Z",
     "start_time": "2021-04-27T09:02:38.425031Z"
    }
   },
   "outputs": [],
   "source": [
    "# creating two copies of the dataframe that only have the index and 'title' column\n",
    "        # df_title_dupes1 = pd.DataFrame(df['title'])\n",
    "        # df_title_dupes2 = pd.DataFrame(df['title'])\n",
    "        # df_title_dupes1.shape, df_title_dupes2.shape\n",
    "    \n",
    "# finding the duplicates inside of the first copy dataframe\n",
    "        # df_title_dupes1[df_title_dupes1.duplicated() == True]\n",
    "\n",
    "# dropping the duplicates from the first list\n",
    "        # df_title_dupes1.drop_duplicates(inplace=True)\n",
    "    \n",
    "# using the index of the first df to drop the non-duplicated rows from the second df\n",
    "        # df_title_dupes2.drop(axis= 0, labels  = df_title_dupes1.index, inplace=True)\n",
    "\n",
    "# checking the shape/length of both dfs\n",
    "        # df_title_dupes1.shape, df_title_dupes2.shape\n",
    "\n",
    "# using the index of the second df (which contains only the duplicates) to drop\n",
    "# all duplicated rows from the main df\n",
    "        # df.drop(axis= 0, labels  = df_title_dupes2.index, inplace=True)\n",
    "    \n",
    "# checking final shape of the main df\n",
    "        # df.shape"
   ]
  },
  {
   "cell_type": "markdown",
   "metadata": {},
   "source": [
    "After all of that, we discovered the \"subset\" argument for the `df.drop_duplicates` method..... "
   ]
  },
  {
   "cell_type": "code",
   "execution_count": 21,
   "metadata": {
    "ExecuteTime": {
     "end_time": "2021-04-27T09:02:38.666151Z",
     "start_time": "2021-04-27T09:02:38.434837Z"
    }
   },
   "outputs": [
    {
     "data": {
      "text/plain": [
       "(60495, 8)"
      ]
     },
     "execution_count": 21,
     "metadata": {},
     "output_type": "execute_result"
    }
   ],
   "source": [
    "df.drop_duplicates(subset=['selftext', 'title'], inplace=True)\n",
    "df.shape"
   ]
  },
  {
   "cell_type": "code",
   "execution_count": 22,
   "metadata": {
    "ExecuteTime": {
     "end_time": "2021-04-27T09:02:38.679218Z",
     "start_time": "2021-04-27T09:02:38.668811Z"
    }
   },
   "outputs": [
    {
     "data": {
      "text/plain": [
       "nfl              53831\n",
       "PremierLeague     6664\n",
       "Name: subreddit, dtype: int64"
      ]
     },
     "execution_count": 22,
     "metadata": {},
     "output_type": "execute_result"
    }
   ],
   "source": [
    "df['subreddit'].value_counts()"
   ]
  },
  {
   "cell_type": "markdown",
   "metadata": {},
   "source": [
    "Dropping duplicates brings down our PremierLeague posts to a good range, but the number of NFL posts is still much greater than necessary. As I move forward, I'll work on bringing down the number of NFL posts to at least roughly match that of the PremierLeague posts."
   ]
  },
  {
   "cell_type": "markdown",
   "metadata": {},
   "source": [
    "#### Replacing code with spaces"
   ]
  },
  {
   "cell_type": "markdown",
   "metadata": {},
   "source": [
    "For simplicity, I'm replacing the code for various symbols with spaces. This will help me get at clean tokens when I get to the point of tokenizing and vectorizing for analysis."
   ]
  },
  {
   "cell_type": "markdown",
   "metadata": {},
   "source": [
    "My first attempts to replace the shortcodes failed, so I went online and found a good solution using simple RegEx."
   ]
  },
  {
   "cell_type": "code",
   "execution_count": 23,
   "metadata": {
    "ExecuteTime": {
     "end_time": "2021-04-27T09:02:38.688160Z",
     "start_time": "2021-04-27T09:02:38.685718Z"
    }
   },
   "outputs": [],
   "source": [
    "# This code not working (most likely due to backslash I believe)\n",
    "# df.replace(to_replace='\\n', value=' ', inplace=True)\n",
    "\n",
    "# https://stackoverflow.com/questions/44227748/removing-newlines-from-messy-strings-in-pandas-dataframe-cells"
   ]
  },
  {
   "cell_type": "code",
   "execution_count": 24,
   "metadata": {
    "ExecuteTime": {
     "end_time": "2021-04-27T09:02:41.870034Z",
     "start_time": "2021-04-27T09:02:38.693071Z"
    }
   },
   "outputs": [],
   "source": [
    "# \\r (return)\n",
    "df.replace(r'\\r',' ', regex=True, inplace=True) \n",
    "\n",
    "# \\n (line break)\n",
    "df.replace(r'\\n',' ', regex=True, inplace=True)   \n",
    "\n",
    "# \\t (tab)\n",
    "df.replace(r'\\t',' ', regex=True, inplace=True)   \n",
    "\n",
    "# &amp; (&)\n",
    "df.replace(r'&amp;',' ', regex=True, inplace=True)   \n",
    "\n",
    "# &nbsp; (space)\n",
    "df.replace(r'&nbsp;',' ', regex=True, inplace=True)  \n",
    "\n",
    "# nbsp; (space, chained to other code)\n",
    "df.replace(r'nbsp;',' ', regex=True, inplace=True)   \n",
    "\n",
    "# nbsp; (space, chained to other code)\n",
    "df.replace(r'#x200B;','', regex=True, inplace=True)   \n",
    "\n",
    "\n",
    "# # &gt; and &lt; (> and <)\n",
    "df.replace(r'&lt;',' ', regex=True, inplace=True)   \n",
    "df.replace(r'&gt;',' ', regex=True, inplace=True) \n",
    "\n",
    "# ** (double asterisks for bolding)\n",
    "df.replace('\\*\\*', ' ', regex=True, inplace=True) "
   ]
  },
  {
   "cell_type": "markdown",
   "metadata": {},
   "source": [
    "I also tried to loop through a list to make this more efficient, but had trouble getting it to work, possibly because the r-strings didn't come through the list correctly or something?"
   ]
  },
  {
   "cell_type": "code",
   "execution_count": 25,
   "metadata": {
    "ExecuteTime": {
     "end_time": "2021-04-27T09:02:41.873849Z",
     "start_time": "2021-04-27T09:02:41.871786Z"
    }
   },
   "outputs": [],
   "source": [
    "# symbols = [r'&amp;', r'&nbsp;', r'nbsp;', r'&lt;', r'&gt;', '**']\n",
    "\n",
    "# for symbol in symbols:\n",
    "#     df.replace(symbol, ' ', regex=True, inplace=True)"
   ]
  },
  {
   "cell_type": "code",
   "execution_count": 26,
   "metadata": {
    "ExecuteTime": {
     "end_time": "2021-04-27T09:02:41.878536Z",
     "start_time": "2021-04-27T09:02:41.876504Z"
    },
    "scrolled": false
   },
   "outputs": [],
   "source": [
    "# df['selftext'][:20]"
   ]
  },
  {
   "cell_type": "markdown",
   "metadata": {},
   "source": [
    "There is still cleaning to be done with regard to symbols and symbol code, but I'll circle back to this once I've done more row removal, as I might end up removing the rows that have the problematic text strings."
   ]
  },
  {
   "cell_type": "markdown",
   "metadata": {},
   "source": [
    "#### Posts with deleted body text (selftext)"
   ]
  },
  {
   "cell_type": "code",
   "execution_count": 27,
   "metadata": {
    "ExecuteTime": {
     "end_time": "2021-04-27T09:02:41.951487Z",
     "start_time": "2021-04-27T09:02:41.881262Z"
    },
    "scrolled": false
   },
   "outputs": [
    {
     "data": {
      "text/plain": [
       "nfl              50938\n",
       "PremierLeague     6548\n",
       "Name: subreddit, dtype: int64"
      ]
     },
     "execution_count": 27,
     "metadata": {},
     "output_type": "execute_result"
    }
   ],
   "source": [
    "df.drop(axis=0, \n",
    "        labels=df[df['selftext'].str.startswith('[deleted]')].index, # Submissions with deleted selftext\n",
    "        inplace=True)\n",
    "\n",
    "df['subreddit'].value_counts()"
   ]
  },
  {
   "cell_type": "markdown",
   "metadata": {},
   "source": [
    "### Remove URLs"
   ]
  },
  {
   "cell_type": "code",
   "execution_count": 28,
   "metadata": {
    "ExecuteTime": {
     "end_time": "2021-04-27T09:02:41.958366Z",
     "start_time": "2021-04-27T09:02:41.953850Z"
    }
   },
   "outputs": [],
   "source": [
    "# def remove_url(text_data):\n",
    "#     return re.sub(r\"http\\S+\", \"\", text_data)\n",
    "# https://stackoverflow.com/questions/11331982/how-to-remove-any-url-within-a-string-in-python/40823105#40823105"
   ]
  },
  {
   "cell_type": "code",
   "execution_count": 29,
   "metadata": {
    "ExecuteTime": {
     "end_time": "2021-04-27T09:02:41.965120Z",
     "start_time": "2021-04-27T09:02:41.960781Z"
    }
   },
   "outputs": [],
   "source": [
    "# sentence = 'I get help from https://stackoverflow.com and I learn a lot reading on https://towardsdatascience.com'"
   ]
  },
  {
   "cell_type": "code",
   "execution_count": 30,
   "metadata": {
    "ExecuteTime": {
     "end_time": "2021-04-27T09:02:41.971013Z",
     "start_time": "2021-04-27T09:02:41.966929Z"
    }
   },
   "outputs": [],
   "source": [
    "# remove_url(sentence)"
   ]
  },
  {
   "cell_type": "code",
   "execution_count": 31,
   "metadata": {
    "ExecuteTime": {
     "end_time": "2021-04-27T09:02:41.977124Z",
     "start_time": "2021-04-27T09:02:41.973247Z"
    }
   },
   "outputs": [],
   "source": [
    "# df['selftext'].map(lambda x: remove_url(x))"
   ]
  },
  {
   "cell_type": "code",
   "execution_count": 32,
   "metadata": {
    "ExecuteTime": {
     "end_time": "2021-04-27T09:02:41.984884Z",
     "start_time": "2021-04-27T09:02:41.981429Z"
    },
    "scrolled": false
   },
   "outputs": [],
   "source": [
    "# df['selftext'][:20]"
   ]
  },
  {
   "cell_type": "markdown",
   "metadata": {},
   "source": [
    "## Deep Cleaning"
   ]
  },
  {
   "cell_type": "markdown",
   "metadata": {},
   "source": [
    "### Repeated Post Titles"
   ]
  },
  {
   "cell_type": "markdown",
   "metadata": {},
   "source": [
    "#### Overview"
   ]
  },
  {
   "cell_type": "markdown",
   "metadata": {},
   "source": [
    "Before I got the duplicates removal code working above, I manually went through a list of the most commonly repeating post `'selftext'` and cleared them out with a list and a for-loop. I'm going to remove a bulk of that code since it's no longer necessary, but some of it is still relevant, even after removing duplicates with the code above."
   ]
  },
  {
   "cell_type": "code",
   "execution_count": 33,
   "metadata": {
    "ExecuteTime": {
     "end_time": "2021-04-27T09:02:41.991388Z",
     "start_time": "2021-04-27T09:02:41.987248Z"
    },
    "scrolled": false
   },
   "outputs": [],
   "source": [
    "# df['selftext'].value_counts()[:30]"
   ]
  },
  {
   "cell_type": "code",
   "execution_count": 34,
   "metadata": {
    "ExecuteTime": {
     "end_time": "2021-04-27T09:02:41.997995Z",
     "start_time": "2021-04-27T09:02:41.993624Z"
    }
   },
   "outputs": [],
   "source": [
    "# df.head()"
   ]
  },
  {
   "cell_type": "markdown",
   "metadata": {},
   "source": [
    "After looking at the value counts for the 'selftext' field, I realized that there were a lot of posts that had the exact same body text. So I used the following code to look at the top 20 most common titles and there were quite a few that were re-used many times. "
   ]
  },
  {
   "cell_type": "code",
   "execution_count": 35,
   "metadata": {
    "ExecuteTime": {
     "end_time": "2021-04-27T09:02:42.006619Z",
     "start_time": "2021-04-27T09:02:41.999977Z"
    },
    "code_folding": [],
    "scrolled": true
   },
   "outputs": [],
   "source": [
    "# df['title'].value_counts()[:20]"
   ]
  },
  {
   "cell_type": "markdown",
   "metadata": {},
   "source": [
    "Readable results from above code:"
   ]
  },
  {
   "cell_type": "markdown",
   "metadata": {},
   "source": [
    "| Post Title                                         | Count | ┃ | Post Title                          | Count | ┃ | Post Title                                   | Count |\n",
    "|:---------------------------------------------------|:------|:-:|:------------------------------------|:------|:-:|:---------------------------------------------|:------|\n",
    "| Shitpost Saturday                                  | 174   | ┃ | Talko Tuesday                       | 124   | ┃ | r/PremierLeague Midweek Musings              | 13    |\n",
    "| Water Cooler Wednesday                             | 159   | ┃ | r/PremierLeague Daily Discussion    | 71    | ┃ | Weekly /r/PremierLeague Subreddit Suggestion | 11    |\n",
    "| Free Talk Friday                                   | 158   | ┃ | This Week's Top /r/NFL [Highlight]s | 22    | ┃ | Test                                         | 11    |\n",
    "| Sunday Brunch                                      | 157   | ┃ | Weekend Wrap Up                     | 21    | ┃ | Daily Open Discussion Thread                 | 11    |\n",
    "| Thursday Talk Thread... Yes That's The Thread Name | 141   | ┃ | Question                            | 15    | ┃ | Weekly Transfer Discussion Thread            | 8     |\n",
    "| Weekend Wrapup                                     | 130   | ┃ | NFL Power Rankings (Combined)       | 15    | ┃ | test                                         | 7     |"
   ]
  },
  {
   "cell_type": "markdown",
   "metadata": {},
   "source": [
    "They fell into several categories:\n",
    "1. Open threads meant for discussion of topics of any kind, even if unrelated to the topic of the subreddit.\n",
    "2. Discussion threads in which the topics might be related, but all of the content is in the comments rather than the body of the post\n",
    "3. Posts with code and/or little-to-no useful content\n",
    "4. Commonly used titles by different users to introduce a topic-relevant post"
   ]
  },
  {
   "cell_type": "markdown",
   "metadata": {},
   "source": [
    "#### Removing the posts"
   ]
  },
  {
   "cell_type": "code",
   "execution_count": 36,
   "metadata": {
    "ExecuteTime": {
     "end_time": "2021-04-27T09:02:42.016002Z",
     "start_time": "2021-04-27T09:02:42.011008Z"
    }
   },
   "outputs": [],
   "source": [
    "repeat_titles = [\"Shitpost Saturday\", \"Water Cooler Wednesday\", \"Free Talk Friday\", \"Sunday Brunch\", \n",
    "                 \"Thursday Talk Thread... Yes That's The Thread Name\", \"Weekend Wrapup\", \"Talko Tuesday\",\n",
    "                 \"r/PremierLeague Daily Discussion\", \"This Week's Top /r/NFL [Highlight]s\", \n",
    "                 \"Weekend Wrap Up\", \"NFL Power Rankings (Combined)\", \"r/PremierLeague Midweek Musings\", \n",
    "                 \"Whose Line is it Anyways Wednesday--Offseason Edition\", \n",
    "                 \"Weekly /r/PremierLeague Subreddit Suggestion\", \"Test\", \"Daily Open Discussion Thread\",\n",
    "                 \"Weekly Transfer Discussion Thread\", \"test\", \"Your Weekly /r/nfl Recap\", \n",
    "                 \"NFL Power Rankings (Combined) Week 0\",\n",
    "                 \"Should Ole stay at Manchester United or not? If he got sacked by the board, who will be the best replacement. Comment your thoughts below\"\n",
    "                ]"
   ]
  },
  {
   "cell_type": "code",
   "execution_count": 37,
   "metadata": {
    "ExecuteTime": {
     "end_time": "2021-04-27T09:02:42.366934Z",
     "start_time": "2021-04-27T09:02:42.019313Z"
    }
   },
   "outputs": [],
   "source": [
    "for post in repeat_titles:\n",
    "    post_df = df[df['title'] == post]  \n",
    "    df.drop(axis=0, labels=post_df.index, inplace=True)"
   ]
  },
  {
   "cell_type": "code",
   "execution_count": 38,
   "metadata": {
    "ExecuteTime": {
     "end_time": "2021-04-27T09:02:42.372181Z",
     "start_time": "2021-04-27T09:02:42.368799Z"
    },
    "scrolled": true
   },
   "outputs": [],
   "source": [
    "# df['title'].value_counts()[:20]"
   ]
  },
  {
   "cell_type": "code",
   "execution_count": 39,
   "metadata": {
    "ExecuteTime": {
     "end_time": "2021-04-27T09:02:42.384485Z",
     "start_time": "2021-04-27T09:02:42.374715Z"
    },
    "scrolled": true
   },
   "outputs": [
    {
     "data": {
      "text/plain": [
       "nfl              50843\n",
       "PremierLeague     6532\n",
       "Name: subreddit, dtype: int64"
      ]
     },
     "execution_count": 39,
     "metadata": {},
     "output_type": "execute_result"
    }
   ],
   "source": [
    "df['subreddit'].value_counts()"
   ]
  },
  {
   "cell_type": "markdown",
   "metadata": {},
   "source": [
    "### Tables with Markdown"
   ]
  },
  {
   "cell_type": "code",
   "execution_count": 40,
   "metadata": {
    "ExecuteTime": {
     "end_time": "2021-04-27T09:02:42.446533Z",
     "start_time": "2021-04-27T09:02:42.387140Z"
    }
   },
   "outputs": [],
   "source": [
    "markdown = df[df['selftext'].str.contains('\\|')]"
   ]
  },
  {
   "cell_type": "code",
   "execution_count": 41,
   "metadata": {
    "ExecuteTime": {
     "end_time": "2021-04-27T09:02:42.467307Z",
     "start_time": "2021-04-27T09:02:42.455663Z"
    }
   },
   "outputs": [
    {
     "data": {
      "text/plain": [
       "nfl              4054\n",
       "PremierLeague     201\n",
       "Name: subreddit, dtype: int64"
      ]
     },
     "execution_count": 41,
     "metadata": {},
     "output_type": "execute_result"
    }
   ],
   "source": [
    "markdown['subreddit'].value_counts()"
   ]
  },
  {
   "cell_type": "code",
   "execution_count": 42,
   "metadata": {
    "ExecuteTime": {
     "end_time": "2021-04-27T09:02:42.492755Z",
     "start_time": "2021-04-27T09:02:42.475675Z"
    }
   },
   "outputs": [],
   "source": [
    "df.drop(axis=0, labels=markdown.index, inplace=True)"
   ]
  },
  {
   "cell_type": "markdown",
   "metadata": {},
   "source": [
    "### PremierLeague Poll Posts"
   ]
  },
  {
   "cell_type": "markdown",
   "metadata": {},
   "source": [
    "I found 91 posts from the PremierLeague subreddit that contained a lot of unnecessary information and formatting was such that vectorizing would be significantly more complicated. I decided to simply remove them for simplicity."
   ]
  },
  {
   "cell_type": "code",
   "execution_count": 43,
   "metadata": {
    "ExecuteTime": {
     "end_time": "2021-04-27T09:02:42.500951Z",
     "start_time": "2021-04-27T09:02:42.494576Z"
    }
   },
   "outputs": [
    {
     "data": {
      "text/plain": [
       "47"
      ]
     },
     "execution_count": 43,
     "metadata": {},
     "output_type": "execute_result"
    }
   ],
   "source": [
    "len('[View Poll](https://www.reddit.com/poll/g437k5)')"
   ]
  },
  {
   "cell_type": "code",
   "execution_count": 44,
   "metadata": {
    "ExecuteTime": {
     "end_time": "2021-04-27T09:02:42.542491Z",
     "start_time": "2021-04-27T09:02:42.505234Z"
    }
   },
   "outputs": [],
   "source": [
    "poll_posts = df[df['selftext'].str.startswith('  [View Poll]')]"
   ]
  },
  {
   "cell_type": "code",
   "execution_count": 45,
   "metadata": {
    "ExecuteTime": {
     "end_time": "2021-04-27T09:02:42.548896Z",
     "start_time": "2021-04-27T09:02:42.544151Z"
    }
   },
   "outputs": [
    {
     "data": {
      "text/plain": [
       "(443, 8)"
      ]
     },
     "execution_count": 45,
     "metadata": {},
     "output_type": "execute_result"
    }
   ],
   "source": [
    "poll_posts.shape"
   ]
  },
  {
   "cell_type": "code",
   "execution_count": 46,
   "metadata": {
    "ExecuteTime": {
     "end_time": "2021-04-27T09:02:42.559977Z",
     "start_time": "2021-04-27T09:02:42.550663Z"
    }
   },
   "outputs": [],
   "source": [
    "df.drop(axis=0, labels=poll_posts.index, inplace=True)"
   ]
  },
  {
   "cell_type": "code",
   "execution_count": 47,
   "metadata": {
    "ExecuteTime": {
     "end_time": "2021-04-27T09:02:42.569177Z",
     "start_time": "2021-04-27T09:02:42.561425Z"
    }
   },
   "outputs": [
    {
     "data": {
      "text/plain": [
       "nfl              46786\n",
       "PremierLeague     5891\n",
       "Name: subreddit, dtype: int64"
      ]
     },
     "execution_count": 47,
     "metadata": {},
     "output_type": "execute_result"
    }
   ],
   "source": [
    "df['subreddit'].value_counts()"
   ]
  },
  {
   "cell_type": "markdown",
   "metadata": {},
   "source": [
    "### PremierLeague Match Threads"
   ]
  },
  {
   "cell_type": "markdown",
   "metadata": {},
   "source": [
    "I found 91 posts from the PremierLeague subreddit that contained a lot of unnecessary information and formatting was such that vectorizing would be significantly more complicated. I decided to simply remove them for simplicity."
   ]
  },
  {
   "cell_type": "code",
   "execution_count": 48,
   "metadata": {
    "ExecuteTime": {
     "end_time": "2021-04-27T09:02:42.592806Z",
     "start_time": "2021-04-27T09:02:42.571144Z"
    }
   },
   "outputs": [],
   "source": [
    "match_threads = df[df['title'].str.startswith('[Match thread]')]"
   ]
  },
  {
   "cell_type": "code",
   "execution_count": 49,
   "metadata": {
    "ExecuteTime": {
     "end_time": "2021-04-27T09:02:42.598519Z",
     "start_time": "2021-04-27T09:02:42.594553Z"
    }
   },
   "outputs": [
    {
     "data": {
      "text/plain": [
       "(0, 8)"
      ]
     },
     "execution_count": 49,
     "metadata": {},
     "output_type": "execute_result"
    }
   ],
   "source": [
    "match_threads.shape"
   ]
  },
  {
   "cell_type": "code",
   "execution_count": 50,
   "metadata": {
    "ExecuteTime": {
     "end_time": "2021-04-27T09:02:42.613345Z",
     "start_time": "2021-04-27T09:02:42.600356Z"
    }
   },
   "outputs": [],
   "source": [
    "df.drop(axis=0, labels=match_threads.index, inplace=True)"
   ]
  },
  {
   "cell_type": "code",
   "execution_count": 51,
   "metadata": {
    "ExecuteTime": {
     "end_time": "2021-04-27T09:02:42.627297Z",
     "start_time": "2021-04-27T09:02:42.614885Z"
    }
   },
   "outputs": [
    {
     "data": {
      "text/plain": [
       "nfl              46786\n",
       "PremierLeague     5891\n",
       "Name: subreddit, dtype: int64"
      ]
     },
     "execution_count": 51,
     "metadata": {},
     "output_type": "execute_result"
    }
   ],
   "source": [
    "df['subreddit'].value_counts()"
   ]
  },
  {
   "cell_type": "markdown",
   "metadata": {},
   "source": [
    "### Removing NFL posts with Tags"
   ]
  },
  {
   "cell_type": "markdown",
   "metadata": {},
   "source": [
    "Game Thread, Serious, Look Here!, and others "
   ]
  },
  {
   "cell_type": "code",
   "execution_count": 52,
   "metadata": {
    "ExecuteTime": {
     "end_time": "2021-04-27T09:02:42.640080Z",
     "start_time": "2021-04-27T09:02:42.630051Z"
    }
   },
   "outputs": [
    {
     "data": {
      "text/plain": [
       "none                       48135\n",
       "Discussion                  1585\n",
       "Question                     904\n",
       "Serious                      475\n",
       "Poll                         264\n",
       ":xpl: Premier League         237\n",
       "Look Here!                   178\n",
       "News                          80\n",
       ":mun: Manchester United       75\n",
       ":liv: Liverpool               61\n",
       "Name: link_flair_text, dtype: int64"
      ]
     },
     "execution_count": 52,
     "metadata": {},
     "output_type": "execute_result"
    }
   ],
   "source": [
    "df['link_flair_text'].value_counts()[:10]"
   ]
  },
  {
   "cell_type": "code",
   "execution_count": 53,
   "metadata": {
    "ExecuteTime": {
     "end_time": "2021-04-27T09:02:42.659553Z",
     "start_time": "2021-04-27T09:02:42.642684Z"
    }
   },
   "outputs": [],
   "source": [
    "nfl_with_tags = df[(df['link_flair_text'] != 'none') & (df['subreddit'] == 'nfl')]\n",
    "df.drop(axis=0, labels=nfl_with_tags.index, inplace=True)"
   ]
  },
  {
   "cell_type": "code",
   "execution_count": 54,
   "metadata": {
    "ExecuteTime": {
     "end_time": "2021-04-27T09:02:42.670254Z",
     "start_time": "2021-04-27T09:02:42.661283Z"
    }
   },
   "outputs": [
    {
     "data": {
      "text/plain": [
       "none                       48135\n",
       "Discussion                  1585\n",
       "Question                     904\n",
       "Poll                         264\n",
       ":xpl: Premier League         237\n",
       "News                          80\n",
       ":mun: Manchester United       75\n",
       ":liv: Liverpool               61\n",
       ":ars: Arsenal                 58\n",
       ":che: Chelsea                 51\n",
       "Name: link_flair_text, dtype: int64"
      ]
     },
     "execution_count": 54,
     "metadata": {},
     "output_type": "execute_result"
    }
   ],
   "source": [
    "df['link_flair_text'].value_counts()[:10]"
   ]
  },
  {
   "cell_type": "code",
   "execution_count": 55,
   "metadata": {
    "ExecuteTime": {
     "end_time": "2021-04-27T09:02:42.691657Z",
     "start_time": "2021-04-27T09:02:42.671875Z"
    }
   },
   "outputs": [
    {
     "data": {
      "text/plain": [
       "nfl              45927\n",
       "PremierLeague     5627\n",
       "Name: subreddit, dtype: int64"
      ]
     },
     "execution_count": 55,
     "metadata": {},
     "output_type": "execute_result"
    }
   ],
   "source": [
    "df.drop(axis=0, labels=df[(df['link_flair_text'] == 'Poll')].index, inplace=True)\n",
    "\n",
    "df['subreddit'].value_counts()"
   ]
  },
  {
   "cell_type": "markdown",
   "metadata": {},
   "source": [
    "### NFL Posts Filtered by String Length"
   ]
  },
  {
   "cell_type": "code",
   "execution_count": 56,
   "metadata": {
    "ExecuteTime": {
     "end_time": "2021-04-27T09:02:42.704017Z",
     "start_time": "2021-04-27T09:02:42.693554Z"
    },
    "scrolled": true
   },
   "outputs": [
    {
     "data": {
      "text/plain": [
       "(45927, 8)"
      ]
     },
     "execution_count": 56,
     "metadata": {},
     "output_type": "execute_result"
    }
   ],
   "source": [
    "df_filtered = df[df['subreddit'] == 'nfl']\n",
    "df_filtered.shape"
   ]
  },
  {
   "cell_type": "code",
   "execution_count": 57,
   "metadata": {
    "ExecuteTime": {
     "end_time": "2021-04-27T09:02:42.762343Z",
     "start_time": "2021-04-27T09:02:42.705698Z"
    },
    "scrolled": true
   },
   "outputs": [
    {
     "data": {
      "text/plain": [
       "(7327, 8)"
      ]
     },
     "execution_count": 57,
     "metadata": {},
     "output_type": "execute_result"
    }
   ],
   "source": [
    "df_lengthlimits = df[(df['selftext'].str.len()>500) & (df['selftext'].str.len()<1200) & (df['subreddit'] == 'nfl')]\n",
    "df_lengthlimits.shape"
   ]
  },
  {
   "cell_type": "code",
   "execution_count": 58,
   "metadata": {
    "ExecuteTime": {
     "end_time": "2021-04-27T09:02:42.794903Z",
     "start_time": "2021-04-27T09:02:42.763999Z"
    }
   },
   "outputs": [
    {
     "name": "stderr",
     "output_type": "stream",
     "text": [
      "/opt/anaconda3/lib/python3.8/site-packages/pandas/core/frame.py:4163: SettingWithCopyWarning: \n",
      "A value is trying to be set on a copy of a slice from a DataFrame\n",
      "\n",
      "See the caveats in the documentation: https://pandas.pydata.org/pandas-docs/stable/user_guide/indexing.html#returning-a-view-versus-a-copy\n",
      "  return super().drop(\n"
     ]
    }
   ],
   "source": [
    "df_filtered.drop(axis=0, labels=df_lengthlimits.index, inplace=True)"
   ]
  },
  {
   "cell_type": "code",
   "execution_count": 59,
   "metadata": {
    "ExecuteTime": {
     "end_time": "2021-04-27T09:02:42.807136Z",
     "start_time": "2021-04-27T09:02:42.798794Z"
    }
   },
   "outputs": [
    {
     "data": {
      "text/plain": [
       "(38600, 8)"
      ]
     },
     "execution_count": 59,
     "metadata": {},
     "output_type": "execute_result"
    }
   ],
   "source": [
    "df_filtered.shape"
   ]
  },
  {
   "cell_type": "code",
   "execution_count": 60,
   "metadata": {
    "ExecuteTime": {
     "end_time": "2021-04-27T09:02:42.857717Z",
     "start_time": "2021-04-27T09:02:42.815163Z"
    }
   },
   "outputs": [],
   "source": [
    "df.drop(axis=0, labels=df_filtered.index, inplace=True)"
   ]
  },
  {
   "cell_type": "code",
   "execution_count": 61,
   "metadata": {
    "ExecuteTime": {
     "end_time": "2021-04-27T09:02:42.868184Z",
     "start_time": "2021-04-27T09:02:42.859772Z"
    }
   },
   "outputs": [
    {
     "data": {
      "text/plain": [
       "nfl              7327\n",
       "PremierLeague    5627\n",
       "Name: subreddit, dtype: int64"
      ]
     },
     "execution_count": 61,
     "metadata": {},
     "output_type": "execute_result"
    }
   ],
   "source": [
    "df['subreddit'].value_counts()"
   ]
  },
  {
   "cell_type": "markdown",
   "metadata": {},
   "source": [
    "### Investigating Post Lengths and Word Counts"
   ]
  },
  {
   "cell_type": "code",
   "execution_count": 62,
   "metadata": {
    "ExecuteTime": {
     "end_time": "2021-04-27T09:02:42.882924Z",
     "start_time": "2021-04-27T09:02:42.872292Z"
    }
   },
   "outputs": [],
   "source": [
    "df['post_length'] = df['selftext'].map(lambda x: len(x))"
   ]
  },
  {
   "cell_type": "code",
   "execution_count": 63,
   "metadata": {
    "ExecuteTime": {
     "end_time": "2021-04-27T09:02:43.003986Z",
     "start_time": "2021-04-27T09:02:42.886660Z"
    }
   },
   "outputs": [],
   "source": [
    "df['post_word_count'] = df['selftext'].map(lambda x: len(x.split(' ')))"
   ]
  },
  {
   "cell_type": "code",
   "execution_count": 64,
   "metadata": {
    "ExecuteTime": {
     "end_time": "2021-04-27T09:02:43.022201Z",
     "start_time": "2021-04-27T09:02:43.006337Z"
    }
   },
   "outputs": [
    {
     "data": {
      "text/html": [
       "<div>\n",
       "<style scoped>\n",
       "    .dataframe tbody tr th:only-of-type {\n",
       "        vertical-align: middle;\n",
       "    }\n",
       "\n",
       "    .dataframe tbody tr th {\n",
       "        vertical-align: top;\n",
       "    }\n",
       "\n",
       "    .dataframe thead th {\n",
       "        text-align: right;\n",
       "    }\n",
       "</style>\n",
       "<table border=\"1\" class=\"dataframe\">\n",
       "  <thead>\n",
       "    <tr style=\"text-align: right;\">\n",
       "      <th></th>\n",
       "      <th>subreddit</th>\n",
       "      <th>created_utc</th>\n",
       "      <th>link_flair_text</th>\n",
       "      <th>score</th>\n",
       "      <th>num_comments</th>\n",
       "      <th>index</th>\n",
       "      <th>title</th>\n",
       "      <th>selftext</th>\n",
       "      <th>post_length</th>\n",
       "      <th>post_word_count</th>\n",
       "    </tr>\n",
       "  </thead>\n",
       "  <tbody>\n",
       "    <tr>\n",
       "      <th>1</th>\n",
       "      <td>PremierLeague</td>\n",
       "      <td>1619261612</td>\n",
       "      <td>Discussion</td>\n",
       "      <td>1</td>\n",
       "      <td>164</td>\n",
       "      <td>1</td>\n",
       "      <td>One day I hope Mourinho will go somewhere wher...</td>\n",
       "      <td>Everyone raves about defence being his strateg...</td>\n",
       "      <td>237</td>\n",
       "      <td>38</td>\n",
       "    </tr>\n",
       "    <tr>\n",
       "      <th>2</th>\n",
       "      <td>PremierLeague</td>\n",
       "      <td>1619265233</td>\n",
       "      <td>Question</td>\n",
       "      <td>1</td>\n",
       "      <td>3</td>\n",
       "      <td>2</td>\n",
       "      <td>What's the best place to watch Premier league ...</td>\n",
       "      <td>There's a few on YouTube but I want to be able...</td>\n",
       "      <td>211</td>\n",
       "      <td>44</td>\n",
       "    </tr>\n",
       "    <tr>\n",
       "      <th>3</th>\n",
       "      <td>PremierLeague</td>\n",
       "      <td>1619265483</td>\n",
       "      <td>Discussion</td>\n",
       "      <td>1</td>\n",
       "      <td>1</td>\n",
       "      <td>3</td>\n",
       "      <td>Forget obsessing about the ESL... the REAL pro...</td>\n",
       "      <td>Forget obsessing about the ESL...         the ...</td>\n",
       "      <td>1294</td>\n",
       "      <td>277</td>\n",
       "    </tr>\n",
       "    <tr>\n",
       "      <th>5</th>\n",
       "      <td>PremierLeague</td>\n",
       "      <td>1619271210</td>\n",
       "      <td>:liv: Liverpool</td>\n",
       "      <td>1</td>\n",
       "      <td>16</td>\n",
       "      <td>5</td>\n",
       "      <td>Tough day to be a Liverpool supporter. 22 shot...</td>\n",
       "      <td>Liverpool’s shooting was appalling to be compl...</td>\n",
       "      <td>113</td>\n",
       "      <td>21</td>\n",
       "    </tr>\n",
       "    <tr>\n",
       "      <th>6</th>\n",
       "      <td>PremierLeague</td>\n",
       "      <td>1619271257</td>\n",
       "      <td>:xpl: Premier League</td>\n",
       "      <td>1</td>\n",
       "      <td>2</td>\n",
       "      <td>6</td>\n",
       "      <td>Justice served. Fuck VAR</td>\n",
       "      <td>I can’t believe that they dissallowed Wilson’s...</td>\n",
       "      <td>554</td>\n",
       "      <td>101</td>\n",
       "    </tr>\n",
       "  </tbody>\n",
       "</table>\n",
       "</div>"
      ],
      "text/plain": [
       "       subreddit  created_utc       link_flair_text  score  num_comments  \\\n",
       "1  PremierLeague   1619261612            Discussion      1           164   \n",
       "2  PremierLeague   1619265233              Question      1             3   \n",
       "3  PremierLeague   1619265483            Discussion      1             1   \n",
       "5  PremierLeague   1619271210       :liv: Liverpool      1            16   \n",
       "6  PremierLeague   1619271257  :xpl: Premier League      1             2   \n",
       "\n",
       "   index                                              title  \\\n",
       "1      1  One day I hope Mourinho will go somewhere wher...   \n",
       "2      2  What's the best place to watch Premier league ...   \n",
       "3      3  Forget obsessing about the ESL... the REAL pro...   \n",
       "5      5  Tough day to be a Liverpool supporter. 22 shot...   \n",
       "6      6                           Justice served. Fuck VAR   \n",
       "\n",
       "                                            selftext  post_length  \\\n",
       "1  Everyone raves about defence being his strateg...          237   \n",
       "2  There's a few on YouTube but I want to be able...          211   \n",
       "3  Forget obsessing about the ESL...         the ...         1294   \n",
       "5  Liverpool’s shooting was appalling to be compl...          113   \n",
       "6  I can’t believe that they dissallowed Wilson’s...          554   \n",
       "\n",
       "   post_word_count  \n",
       "1               38  \n",
       "2               44  \n",
       "3              277  \n",
       "5               21  \n",
       "6              101  "
      ]
     },
     "execution_count": 64,
     "metadata": {},
     "output_type": "execute_result"
    }
   ],
   "source": [
    "pd.reset_option('display.max_colwidth')\n",
    "df.head()"
   ]
  },
  {
   "cell_type": "code",
   "execution_count": 65,
   "metadata": {
    "ExecuteTime": {
     "end_time": "2021-04-27T09:02:44.586743Z",
     "start_time": "2021-04-27T09:02:43.025140Z"
    }
   },
   "outputs": [
    {
     "data": {
      "image/png": "[encoded data removed]",
      "text/plain": [
       "<Figure size 1152x288 with 1 Axes>"
      ]
     },
     "metadata": {
      "needs_background": "light"
     },
     "output_type": "display_data"
    }
   ],
   "source": [
    "plt.figure(figsize = (16,4))\n",
    "\n",
    "plt.hist(df['post_length'],bins=1000)\n",
    "\n",
    "# plt.xlim(left=1000)\n",
    "plt.xlim(right=5000)\n",
    "# plt.ylim(top=20)\n",
    "\n",
    "plt.title('Reddit Post Character Count Distribution', size = '18', pad = '14')\n",
    "\n",
    "plt.xlabel('Character Count', size = 16)\n",
    "plt.xticks(size = 12)\n",
    "\n",
    "plt.ylabel('Frequency of Count', size = 16)\n",
    "plt.yticks(size = 12);"
   ]
  },
  {
   "cell_type": "code",
   "execution_count": 66,
   "metadata": {
    "ExecuteTime": {
     "end_time": "2021-04-27T09:02:46.310408Z",
     "start_time": "2021-04-27T09:02:44.596301Z"
    }
   },
   "outputs": [
    {
     "data": {
      "image/png": "[encoded data removed]",
      "text/plain": [
       "<Figure size 1152x288 with 1 Axes>"
      ]
     },
     "metadata": {
      "needs_background": "light"
     },
     "output_type": "display_data"
    }
   ],
   "source": [
    "plt.figure(figsize = (16,4))\n",
    "\n",
    "plt.hist(df['post_word_count'],bins=1000)\n",
    "\n",
    "# plt.xlim(left=1000)\n",
    "plt.xlim(right=1000)\n",
    "# plt.ylim(top=20)\n",
    "\n",
    "plt.title('Reddit Post Character Count Distribution', size = '18', pad = '14')\n",
    "\n",
    "plt.xlabel('Character Count', size = 16)\n",
    "plt.xticks(size = 12)\n",
    "\n",
    "plt.ylabel('Frequency of Count', size = 16)\n",
    "plt.yticks(size = 12);"
   ]
  },
  {
   "cell_type": "markdown",
   "metadata": {},
   "source": [
    "### Date Trimming"
   ]
  },
  {
   "cell_type": "code",
   "execution_count": 67,
   "metadata": {
    "ExecuteTime": {
     "end_time": "2021-04-27T09:02:46.327831Z",
     "start_time": "2021-04-27T09:02:46.312360Z"
    }
   },
   "outputs": [],
   "source": [
    "df['datetime'] = df['created_utc'].map(lambda x: dt.datetime.fromtimestamp(x))"
   ]
  },
  {
   "cell_type": "code",
   "execution_count": 68,
   "metadata": {
    "ExecuteTime": {
     "end_time": "2021-04-27T09:02:46.352501Z",
     "start_time": "2021-04-27T09:02:46.342852Z"
    },
    "scrolled": true
   },
   "outputs": [
    {
     "data": {
      "text/html": [
       "<div>\n",
       "<style scoped>\n",
       "    .dataframe tbody tr th:only-of-type {\n",
       "        vertical-align: middle;\n",
       "    }\n",
       "\n",
       "    .dataframe tbody tr th {\n",
       "        vertical-align: top;\n",
       "    }\n",
       "\n",
       "    .dataframe thead th {\n",
       "        text-align: right;\n",
       "    }\n",
       "</style>\n",
       "<table border=\"1\" class=\"dataframe\">\n",
       "  <thead>\n",
       "    <tr style=\"text-align: right;\">\n",
       "      <th></th>\n",
       "      <th>subreddit</th>\n",
       "      <th>created_utc</th>\n",
       "      <th>link_flair_text</th>\n",
       "      <th>score</th>\n",
       "      <th>num_comments</th>\n",
       "      <th>index</th>\n",
       "      <th>title</th>\n",
       "      <th>selftext</th>\n",
       "      <th>post_length</th>\n",
       "      <th>post_word_count</th>\n",
       "      <th>datetime</th>\n",
       "    </tr>\n",
       "  </thead>\n",
       "  <tbody>\n",
       "    <tr>\n",
       "      <th>1</th>\n",
       "      <td>PremierLeague</td>\n",
       "      <td>1619261612</td>\n",
       "      <td>Discussion</td>\n",
       "      <td>1</td>\n",
       "      <td>164</td>\n",
       "      <td>1</td>\n",
       "      <td>One day I hope Mourinho will go somewhere wher...</td>\n",
       "      <td>Everyone raves about defence being his strateg...</td>\n",
       "      <td>237</td>\n",
       "      <td>38</td>\n",
       "      <td>2021-04-24 03:53:32</td>\n",
       "    </tr>\n",
       "  </tbody>\n",
       "</table>\n",
       "</div>"
      ],
      "text/plain": [
       "       subreddit  created_utc link_flair_text  score  num_comments  index  \\\n",
       "1  PremierLeague   1619261612      Discussion      1           164      1   \n",
       "\n",
       "                                               title  \\\n",
       "1  One day I hope Mourinho will go somewhere wher...   \n",
       "\n",
       "                                            selftext  post_length  \\\n",
       "1  Everyone raves about defence being his strateg...          237   \n",
       "\n",
       "   post_word_count            datetime  \n",
       "1               38 2021-04-24 03:53:32  "
      ]
     },
     "execution_count": 68,
     "metadata": {},
     "output_type": "execute_result"
    }
   ],
   "source": [
    "df.head(1)"
   ]
  },
  {
   "cell_type": "code",
   "execution_count": 69,
   "metadata": {
    "ExecuteTime": {
     "end_time": "2021-04-27T09:02:47.085157Z",
     "start_time": "2021-04-27T09:02:46.365709Z"
    }
   },
   "outputs": [
    {
     "data": {
      "image/png": "[encoded data removed]",
      "text/plain": [
       "<Figure size 1152x288 with 1 Axes>"
      ]
     },
     "metadata": {
      "needs_background": "light"
     },
     "output_type": "display_data"
    }
   ],
   "source": [
    "plt.figure(figsize = (16,4))\n",
    "\n",
    "plt.hist(df['datetime'],bins=300)\n",
    "\n",
    "plt.title('Reddit Post Frequency by Date', size = '18', pad = '14')\n",
    "\n",
    "plt.xlabel('Date', size = 16)\n",
    "plt.xticks(ticks=['2018-01-01', '2019-01-01', '2020-01-01', '2021-01-01'], size = 12)\n",
    "\n",
    "plt.ylabel('Count', size = 16)\n",
    "plt.yticks(size = 12);"
   ]
  },
  {
   "cell_type": "markdown",
   "metadata": {},
   "source": [
    "Combined, the NFL and EPL posts span a number of years - as far back as mid 2017. There's a gentle increase in post count over time, but for the most part, the changes aren't dramatic. Our spread of posts seems good, offering a wide sample of data."
   ]
  },
  {
   "cell_type": "code",
   "execution_count": 70,
   "metadata": {
    "ExecuteTime": {
     "end_time": "2021-04-27T09:02:47.097566Z",
     "start_time": "2021-04-27T09:02:47.087588Z"
    }
   },
   "outputs": [
    {
     "data": {
      "text/plain": [
       "nfl              7327\n",
       "PremierLeague    5627\n",
       "Name: subreddit, dtype: int64"
      ]
     },
     "execution_count": 70,
     "metadata": {},
     "output_type": "execute_result"
    }
   ],
   "source": [
    "df['subreddit'].value_counts()"
   ]
  },
  {
   "cell_type": "code",
   "execution_count": 71,
   "metadata": {
    "ExecuteTime": {
     "end_time": "2021-04-27T09:02:47.108840Z",
     "start_time": "2021-04-27T09:02:47.100230Z"
    }
   },
   "outputs": [],
   "source": [
    "df_nfl_dates = df[df['subreddit'] == nfl]"
   ]
  },
  {
   "cell_type": "code",
   "execution_count": 72,
   "metadata": {
    "ExecuteTime": {
     "end_time": "2021-04-27T09:02:47.660599Z",
     "start_time": "2021-04-27T09:02:47.111397Z"
    }
   },
   "outputs": [
    {
     "data": {
      "image/png": "[encoded data removed]",
      "text/plain": [
       "<Figure size 1152x288 with 1 Axes>"
      ]
     },
     "metadata": {
      "needs_background": "light"
     },
     "output_type": "display_data"
    }
   ],
   "source": [
    "plt.figure(figsize = (16,4))\n",
    "\n",
    "plt.hist(df_nfl_dates['datetime'],bins=300)\n",
    "\n",
    "plt.ylim(top=60)\n",
    "\n",
    "plt.title('Reddit Post Frequency by Date', size = '18', pad = '14')\n",
    "\n",
    "plt.xlabel('Date', size = 16)\n",
    "plt.xticks(ticks=['2018-01-01', '2019-01-01', '2020-01-01', '2021-01-01'], size = 12)\n",
    "\n",
    "plt.ylabel('Count', size = 16)\n",
    "plt.yticks(size = 12);"
   ]
  },
  {
   "cell_type": "markdown",
   "metadata": {},
   "source": [
    "By itself, the NFL posts are very even across the timeline.  \n",
    "The changes we saw in the graph above are likely from the EPL posts, which we can investigate next."
   ]
  },
  {
   "cell_type": "code",
   "execution_count": 73,
   "metadata": {
    "ExecuteTime": {
     "end_time": "2021-04-27T09:02:47.668326Z",
     "start_time": "2021-04-27T09:02:47.663456Z"
    }
   },
   "outputs": [],
   "source": [
    "df_epl_dates = df[df['subreddit'] == epl]"
   ]
  },
  {
   "cell_type": "code",
   "execution_count": 74,
   "metadata": {
    "ExecuteTime": {
     "end_time": "2021-04-27T09:02:48.342870Z",
     "start_time": "2021-04-27T09:02:47.670644Z"
    },
    "scrolled": true
   },
   "outputs": [
    {
     "data": {
      "image/png": "[encoded data removed]",
      "text/plain": [
       "<Figure size 1152x288 with 1 Axes>"
      ]
     },
     "metadata": {
      "needs_background": "light"
     },
     "output_type": "display_data"
    }
   ],
   "source": [
    "plt.figure(figsize = (16,4))\n",
    "\n",
    "plt.hist(df_epl_dates['datetime'],bins=300)\n",
    "\n",
    "plt.ylim(top=60) \n",
    "\n",
    "plt.title('Reddit Post Frequency by Date', size = '18', pad = '14')\n",
    "\n",
    "plt.xlabel('Date', size = 16)\n",
    "plt.xticks(ticks=['2018-01-01', '2019-01-01', '2020-01-01', '2021-01-01'], size = 12)\n",
    "\n",
    "plt.ylabel('Count', size = 16)\n",
    "plt.yticks(size = 12);"
   ]
  },
  {
   "cell_type": "markdown",
   "metadata": {},
   "source": [
    "As suspected, there is a far less consistency in post volume over time, quite possibly due to the kinds of posts I removed during the cleaning process. I limited the y axis on both charts to 60 for the sake of comparison. The least-represented data is EPL posts from 2017 through most of 2019. I don't think the lack of consistency will cause a problem in our analysis, but I can always come back and adjust my cleaning process to retain a larger number of posts from the PremierLeague subreddit."
   ]
  },
  {
   "cell_type": "markdown",
   "metadata": {},
   "source": [
    "### Re-Indexing"
   ]
  },
  {
   "cell_type": "markdown",
   "metadata": {},
   "source": [
    "After removing so many rows, the DataFrame's index had gaps in its sequencing, so I decided to reset it to clean it up."
   ]
  },
  {
   "cell_type": "code",
   "execution_count": 75,
   "metadata": {
    "ExecuteTime": {
     "end_time": "2021-04-27T09:02:48.348978Z",
     "start_time": "2021-04-27T09:02:48.345332Z"
    }
   },
   "outputs": [],
   "source": [
    "pd.reset_option('display.max_colwidth')"
   ]
  },
  {
   "cell_type": "code",
   "execution_count": 76,
   "metadata": {
    "ExecuteTime": {
     "end_time": "2021-04-27T09:02:48.364729Z",
     "start_time": "2021-04-27T09:02:48.350763Z"
    }
   },
   "outputs": [
    {
     "data": {
      "text/html": [
       "<div>\n",
       "<style scoped>\n",
       "    .dataframe tbody tr th:only-of-type {\n",
       "        vertical-align: middle;\n",
       "    }\n",
       "\n",
       "    .dataframe tbody tr th {\n",
       "        vertical-align: top;\n",
       "    }\n",
       "\n",
       "    .dataframe thead th {\n",
       "        text-align: right;\n",
       "    }\n",
       "</style>\n",
       "<table border=\"1\" class=\"dataframe\">\n",
       "  <thead>\n",
       "    <tr style=\"text-align: right;\">\n",
       "      <th></th>\n",
       "      <th>subreddit</th>\n",
       "      <th>created_utc</th>\n",
       "      <th>link_flair_text</th>\n",
       "      <th>score</th>\n",
       "      <th>num_comments</th>\n",
       "      <th>index</th>\n",
       "      <th>title</th>\n",
       "      <th>selftext</th>\n",
       "      <th>post_length</th>\n",
       "      <th>post_word_count</th>\n",
       "      <th>datetime</th>\n",
       "    </tr>\n",
       "  </thead>\n",
       "  <tbody>\n",
       "    <tr>\n",
       "      <th>7</th>\n",
       "      <td>PremierLeague</td>\n",
       "      <td>1619271770</td>\n",
       "      <td>Discussion</td>\n",
       "      <td>1</td>\n",
       "      <td>3</td>\n",
       "      <td>7</td>\n",
       "      <td>My thoughts and prayers are with Jurgen Klopp ...</td>\n",
       "      <td>Imagine being Jurgen Klopp right now, arguably...</td>\n",
       "      <td>1211</td>\n",
       "      <td>221</td>\n",
       "      <td>2021-04-24 06:42:50</td>\n",
       "    </tr>\n",
       "    <tr>\n",
       "      <th>9</th>\n",
       "      <td>PremierLeague</td>\n",
       "      <td>1619278607</td>\n",
       "      <td>Discussion</td>\n",
       "      <td>1</td>\n",
       "      <td>2</td>\n",
       "      <td>9</td>\n",
       "      <td>Premier League Players who should finish off t...</td>\n",
       "      <td>Chinese Super League is known to be the last p...</td>\n",
       "      <td>603</td>\n",
       "      <td>115</td>\n",
       "      <td>2021-04-24 08:36:47</td>\n",
       "    </tr>\n",
       "    <tr>\n",
       "      <th>14</th>\n",
       "      <td>PremierLeague</td>\n",
       "      <td>1619283368</td>\n",
       "      <td>Question</td>\n",
       "      <td>1</td>\n",
       "      <td>8</td>\n",
       "      <td>14</td>\n",
       "      <td>Hypothetical situation, what happens if both c...</td>\n",
       "      <td>So let’s say this season, arsenal win the euro...</td>\n",
       "      <td>194</td>\n",
       "      <td>40</td>\n",
       "      <td>2021-04-24 09:56:08</td>\n",
       "    </tr>\n",
       "    <tr>\n",
       "      <th>15</th>\n",
       "      <td>PremierLeague</td>\n",
       "      <td>1619283692</td>\n",
       "      <td>Question</td>\n",
       "      <td>1</td>\n",
       "      <td>24</td>\n",
       "      <td>15</td>\n",
       "      <td>Norwich, Watford, and Bournemouth might all ge...</td>\n",
       "      <td>Norwich and Watford have already been promoted...</td>\n",
       "      <td>185</td>\n",
       "      <td>31</td>\n",
       "      <td>2021-04-24 10:01:32</td>\n",
       "    </tr>\n",
       "  </tbody>\n",
       "</table>\n",
       "</div>"
      ],
      "text/plain": [
       "        subreddit  created_utc link_flair_text  score  num_comments  index  \\\n",
       "7   PremierLeague   1619271770      Discussion      1             3      7   \n",
       "9   PremierLeague   1619278607      Discussion      1             2      9   \n",
       "14  PremierLeague   1619283368        Question      1             8     14   \n",
       "15  PremierLeague   1619283692        Question      1            24     15   \n",
       "\n",
       "                                                title  \\\n",
       "7   My thoughts and prayers are with Jurgen Klopp ...   \n",
       "9   Premier League Players who should finish off t...   \n",
       "14  Hypothetical situation, what happens if both c...   \n",
       "15  Norwich, Watford, and Bournemouth might all ge...   \n",
       "\n",
       "                                             selftext  post_length  \\\n",
       "7   Imagine being Jurgen Klopp right now, arguably...         1211   \n",
       "9   Chinese Super League is known to be the last p...          603   \n",
       "14  So let’s say this season, arsenal win the euro...          194   \n",
       "15  Norwich and Watford have already been promoted...          185   \n",
       "\n",
       "    post_word_count            datetime  \n",
       "7               221 2021-04-24 06:42:50  \n",
       "9               115 2021-04-24 08:36:47  \n",
       "14               40 2021-04-24 09:56:08  \n",
       "15               31 2021-04-24 10:01:32  "
      ]
     },
     "execution_count": 76,
     "metadata": {},
     "output_type": "execute_result"
    }
   ],
   "source": [
    "df[5:9]"
   ]
  },
  {
   "cell_type": "markdown",
   "metadata": {},
   "source": [
    "The 'index' column can serve as a record of each posts original index number in case it's ever needed going forward."
   ]
  },
  {
   "cell_type": "code",
   "execution_count": 77,
   "metadata": {
    "ExecuteTime": {
     "end_time": "2021-04-27T09:02:48.369261Z",
     "start_time": "2021-04-27T09:02:48.366432Z"
    }
   },
   "outputs": [],
   "source": [
    "df.reset_index(drop=True, inplace=True)"
   ]
  },
  {
   "cell_type": "code",
   "execution_count": 78,
   "metadata": {
    "ExecuteTime": {
     "end_time": "2021-04-27T09:02:48.384266Z",
     "start_time": "2021-04-27T09:02:48.371912Z"
    }
   },
   "outputs": [
    {
     "data": {
      "text/html": [
       "<div>\n",
       "<style scoped>\n",
       "    .dataframe tbody tr th:only-of-type {\n",
       "        vertical-align: middle;\n",
       "    }\n",
       "\n",
       "    .dataframe tbody tr th {\n",
       "        vertical-align: top;\n",
       "    }\n",
       "\n",
       "    .dataframe thead th {\n",
       "        text-align: right;\n",
       "    }\n",
       "</style>\n",
       "<table border=\"1\" class=\"dataframe\">\n",
       "  <thead>\n",
       "    <tr style=\"text-align: right;\">\n",
       "      <th></th>\n",
       "      <th>subreddit</th>\n",
       "      <th>created_utc</th>\n",
       "      <th>link_flair_text</th>\n",
       "      <th>score</th>\n",
       "      <th>num_comments</th>\n",
       "      <th>index</th>\n",
       "      <th>title</th>\n",
       "      <th>selftext</th>\n",
       "      <th>post_length</th>\n",
       "      <th>post_word_count</th>\n",
       "      <th>datetime</th>\n",
       "    </tr>\n",
       "  </thead>\n",
       "  <tbody>\n",
       "    <tr>\n",
       "      <th>5</th>\n",
       "      <td>PremierLeague</td>\n",
       "      <td>1619271770</td>\n",
       "      <td>Discussion</td>\n",
       "      <td>1</td>\n",
       "      <td>3</td>\n",
       "      <td>7</td>\n",
       "      <td>My thoughts and prayers are with Jurgen Klopp ...</td>\n",
       "      <td>Imagine being Jurgen Klopp right now, arguably...</td>\n",
       "      <td>1211</td>\n",
       "      <td>221</td>\n",
       "      <td>2021-04-24 06:42:50</td>\n",
       "    </tr>\n",
       "    <tr>\n",
       "      <th>6</th>\n",
       "      <td>PremierLeague</td>\n",
       "      <td>1619278607</td>\n",
       "      <td>Discussion</td>\n",
       "      <td>1</td>\n",
       "      <td>2</td>\n",
       "      <td>9</td>\n",
       "      <td>Premier League Players who should finish off t...</td>\n",
       "      <td>Chinese Super League is known to be the last p...</td>\n",
       "      <td>603</td>\n",
       "      <td>115</td>\n",
       "      <td>2021-04-24 08:36:47</td>\n",
       "    </tr>\n",
       "    <tr>\n",
       "      <th>7</th>\n",
       "      <td>PremierLeague</td>\n",
       "      <td>1619283368</td>\n",
       "      <td>Question</td>\n",
       "      <td>1</td>\n",
       "      <td>8</td>\n",
       "      <td>14</td>\n",
       "      <td>Hypothetical situation, what happens if both c...</td>\n",
       "      <td>So let’s say this season, arsenal win the euro...</td>\n",
       "      <td>194</td>\n",
       "      <td>40</td>\n",
       "      <td>2021-04-24 09:56:08</td>\n",
       "    </tr>\n",
       "    <tr>\n",
       "      <th>8</th>\n",
       "      <td>PremierLeague</td>\n",
       "      <td>1619283692</td>\n",
       "      <td>Question</td>\n",
       "      <td>1</td>\n",
       "      <td>24</td>\n",
       "      <td>15</td>\n",
       "      <td>Norwich, Watford, and Bournemouth might all ge...</td>\n",
       "      <td>Norwich and Watford have already been promoted...</td>\n",
       "      <td>185</td>\n",
       "      <td>31</td>\n",
       "      <td>2021-04-24 10:01:32</td>\n",
       "    </tr>\n",
       "  </tbody>\n",
       "</table>\n",
       "</div>"
      ],
      "text/plain": [
       "       subreddit  created_utc link_flair_text  score  num_comments  index  \\\n",
       "5  PremierLeague   1619271770      Discussion      1             3      7   \n",
       "6  PremierLeague   1619278607      Discussion      1             2      9   \n",
       "7  PremierLeague   1619283368        Question      1             8     14   \n",
       "8  PremierLeague   1619283692        Question      1            24     15   \n",
       "\n",
       "                                               title  \\\n",
       "5  My thoughts and prayers are with Jurgen Klopp ...   \n",
       "6  Premier League Players who should finish off t...   \n",
       "7  Hypothetical situation, what happens if both c...   \n",
       "8  Norwich, Watford, and Bournemouth might all ge...   \n",
       "\n",
       "                                            selftext  post_length  \\\n",
       "5  Imagine being Jurgen Klopp right now, arguably...         1211   \n",
       "6  Chinese Super League is known to be the last p...          603   \n",
       "7  So let’s say this season, arsenal win the euro...          194   \n",
       "8  Norwich and Watford have already been promoted...          185   \n",
       "\n",
       "   post_word_count            datetime  \n",
       "5              221 2021-04-24 06:42:50  \n",
       "6              115 2021-04-24 08:36:47  \n",
       "7               40 2021-04-24 09:56:08  \n",
       "8               31 2021-04-24 10:01:32  "
      ]
     },
     "execution_count": 78,
     "metadata": {},
     "output_type": "execute_result"
    }
   ],
   "source": [
    "df[5:9]"
   ]
  },
  {
   "cell_type": "markdown",
   "metadata": {},
   "source": [
    "### Column Clean-up"
   ]
  },
  {
   "cell_type": "markdown",
   "metadata": {},
   "source": [
    "**Renaming `'selftext'` to `'post'`**"
   ]
  },
  {
   "cell_type": "code",
   "execution_count": 79,
   "metadata": {
    "ExecuteTime": {
     "end_time": "2021-04-27T09:02:48.395265Z",
     "start_time": "2021-04-27T09:02:48.388732Z"
    }
   },
   "outputs": [],
   "source": [
    "df['post'] = df['selftext']"
   ]
  },
  {
   "cell_type": "code",
   "execution_count": 80,
   "metadata": {
    "ExecuteTime": {
     "end_time": "2021-04-27T09:02:48.405246Z",
     "start_time": "2021-04-27T09:02:48.397726Z"
    }
   },
   "outputs": [],
   "source": [
    "df.drop(columns='selftext', inplace=True)"
   ]
  },
  {
   "cell_type": "markdown",
   "metadata": {},
   "source": [
    "**Renaming `'num_comments'` to `'comments'`**"
   ]
  },
  {
   "cell_type": "markdown",
   "metadata": {},
   "source": [
    "Shortening column name"
   ]
  },
  {
   "cell_type": "code",
   "execution_count": 81,
   "metadata": {
    "ExecuteTime": {
     "end_time": "2021-04-27T09:02:48.412408Z",
     "start_time": "2021-04-27T09:02:48.407145Z"
    }
   },
   "outputs": [],
   "source": [
    "df['comments'] = df['num_comments']"
   ]
  },
  {
   "cell_type": "code",
   "execution_count": 82,
   "metadata": {
    "ExecuteTime": {
     "end_time": "2021-04-27T09:02:48.420926Z",
     "start_time": "2021-04-27T09:02:48.414295Z"
    }
   },
   "outputs": [],
   "source": [
    "df.drop(columns='num_comments', inplace=True)"
   ]
  },
  {
   "cell_type": "markdown",
   "metadata": {},
   "source": [
    "**Renaming `'link_flair_text'` to `'tag'`**"
   ]
  },
  {
   "cell_type": "code",
   "execution_count": 83,
   "metadata": {
    "ExecuteTime": {
     "end_time": "2021-04-27T09:02:48.427609Z",
     "start_time": "2021-04-27T09:02:48.422782Z"
    }
   },
   "outputs": [],
   "source": [
    "df['tag'] = df['link_flair_text']"
   ]
  },
  {
   "cell_type": "code",
   "execution_count": 84,
   "metadata": {
    "ExecuteTime": {
     "end_time": "2021-04-27T09:02:48.437473Z",
     "start_time": "2021-04-27T09:02:48.429801Z"
    }
   },
   "outputs": [],
   "source": [
    "df.drop(columns='link_flair_text', inplace=True)"
   ]
  },
  {
   "cell_type": "markdown",
   "metadata": {},
   "source": [
    "**Re-ordering columns**"
   ]
  },
  {
   "cell_type": "code",
   "execution_count": 85,
   "metadata": {
    "ExecuteTime": {
     "end_time": "2021-04-27T09:02:48.445912Z",
     "start_time": "2021-04-27T09:02:48.439552Z"
    }
   },
   "outputs": [],
   "source": [
    "df = df[['subreddit', 'datetime', 'score', 'comments', 'index', 'tag', 'title', 'post']]"
   ]
  },
  {
   "cell_type": "code",
   "execution_count": 86,
   "metadata": {
    "ExecuteTime": {
     "end_time": "2021-04-27T09:02:48.462962Z",
     "start_time": "2021-04-27T09:02:48.448064Z"
    }
   },
   "outputs": [
    {
     "name": "stdout",
     "output_type": "stream",
     "text": [
      "<class 'pandas.core.frame.DataFrame'>\n",
      "RangeIndex: 12954 entries, 0 to 12953\n",
      "Data columns (total 8 columns):\n",
      " #   Column     Non-Null Count  Dtype         \n",
      "---  ------     --------------  -----         \n",
      " 0   subreddit  12954 non-null  object        \n",
      " 1   datetime   12954 non-null  datetime64[ns]\n",
      " 2   score      12954 non-null  int64         \n",
      " 3   comments   12954 non-null  int64         \n",
      " 4   index      12954 non-null  int64         \n",
      " 5   tag        12954 non-null  object        \n",
      " 6   title      12954 non-null  object        \n",
      " 7   post       12954 non-null  object        \n",
      "dtypes: datetime64[ns](1), int64(3), object(4)\n",
      "memory usage: 809.8+ KB\n"
     ]
    }
   ],
   "source": [
    "df.info()"
   ]
  },
  {
   "cell_type": "code",
   "execution_count": 87,
   "metadata": {
    "ExecuteTime": {
     "end_time": "2021-04-27T09:02:48.472400Z",
     "start_time": "2021-04-27T09:02:48.465002Z"
    }
   },
   "outputs": [
    {
     "data": {
      "text/plain": [
       "nfl              7327\n",
       "PremierLeague    5627\n",
       "Name: subreddit, dtype: int64"
      ]
     },
     "execution_count": 87,
     "metadata": {},
     "output_type": "execute_result"
    }
   ],
   "source": [
    "df['subreddit'].value_counts()"
   ]
  },
  {
   "cell_type": "code",
   "execution_count": 88,
   "metadata": {
    "ExecuteTime": {
     "end_time": "2021-04-27T09:02:48.483600Z",
     "start_time": "2021-04-27T09:02:48.477110Z"
    }
   },
   "outputs": [],
   "source": [
    "pd.set_option('display.max_colwidth', None)"
   ]
  },
  {
   "cell_type": "code",
   "execution_count": 89,
   "metadata": {
    "ExecuteTime": {
     "end_time": "2021-04-27T09:02:48.512030Z",
     "start_time": "2021-04-27T09:02:48.487050Z"
    }
   },
   "outputs": [
    {
     "data": {
      "text/html": [
       "<div>\n",
       "<style scoped>\n",
       "    .dataframe tbody tr th:only-of-type {\n",
       "        vertical-align: middle;\n",
       "    }\n",
       "\n",
       "    .dataframe tbody tr th {\n",
       "        vertical-align: top;\n",
       "    }\n",
       "\n",
       "    .dataframe thead th {\n",
       "        text-align: right;\n",
       "    }\n",
       "</style>\n",
       "<table border=\"1\" class=\"dataframe\">\n",
       "  <thead>\n",
       "    <tr style=\"text-align: right;\">\n",
       "      <th></th>\n",
       "      <th>subreddit</th>\n",
       "      <th>datetime</th>\n",
       "      <th>score</th>\n",
       "      <th>comments</th>\n",
       "      <th>index</th>\n",
       "      <th>tag</th>\n",
       "      <th>title</th>\n",
       "      <th>post</th>\n",
       "    </tr>\n",
       "  </thead>\n",
       "  <tbody>\n",
       "    <tr>\n",
       "      <th>3311</th>\n",
       "      <td>PremierLeague</td>\n",
       "      <td>2020-02-03 01:42:00</td>\n",
       "      <td>1</td>\n",
       "      <td>0</td>\n",
       "      <td>22134</td>\n",
       "      <td>none</td>\n",
       "      <td>I often hear commentator say \"Ricky Shade\", but what does it mean?</td>\n",
       "      <td>English is not my first language I am sorry.</td>\n",
       "    </tr>\n",
       "  </tbody>\n",
       "</table>\n",
       "</div>"
      ],
      "text/plain": [
       "          subreddit            datetime score comments  index   tag  \\\n",
       "3311  PremierLeague 2020-02-03 01:42:00     1        0  22134  none   \n",
       "\n",
       "                                                                   title  \\\n",
       "3311  I often hear commentator say \"Ricky Shade\", but what does it mean?   \n",
       "\n",
       "                                              post  \n",
       "3311  English is not my first language I am sorry.  "
      ]
     },
     "execution_count": 89,
     "metadata": {},
     "output_type": "execute_result"
    }
   ],
   "source": [
    "pd.DataFrame(df.iloc[3311]).T"
   ]
  },
  {
   "cell_type": "markdown",
   "metadata": {},
   "source": [
    "---"
   ]
  },
  {
   "cell_type": "markdown",
   "metadata": {},
   "source": [
    "## Export"
   ]
  },
  {
   "cell_type": "code",
   "execution_count": 90,
   "metadata": {
    "ExecuteTime": {
     "end_time": "2021-04-27T09:02:48.808573Z",
     "start_time": "2021-04-27T09:02:48.514311Z"
    }
   },
   "outputs": [],
   "source": [
    "df.to_csv('../data/reddit_posts_clean.csv')"
   ]
  },
  {
   "cell_type": "code",
   "execution_count": null,
   "metadata": {},
   "outputs": [],
   "source": []
  },
  {
   "cell_type": "code",
   "execution_count": 91,
   "metadata": {
    "ExecuteTime": {
     "end_time": "2021-04-27T09:02:48.848822Z",
     "start_time": "2021-04-27T09:02:48.813129Z"
    },
    "collapsed": true
   },
   "outputs": [
    {
     "data": {
      "text/html": [
       "<div>\n",
       "<style scoped>\n",
       "    .dataframe tbody tr th:only-of-type {\n",
       "        vertical-align: middle;\n",
       "    }\n",
       "\n",
       "    .dataframe tbody tr th {\n",
       "        vertical-align: top;\n",
       "    }\n",
       "\n",
       "    .dataframe thead th {\n",
       "        text-align: right;\n",
       "    }\n",
       "</style>\n",
       "<table border=\"1\" class=\"dataframe\">\n",
       "  <thead>\n",
       "    <tr style=\"text-align: right;\">\n",
       "      <th></th>\n",
       "      <th>subreddit</th>\n",
       "      <th>datetime</th>\n",
       "      <th>score</th>\n",
       "      <th>comments</th>\n",
       "      <th>index</th>\n",
       "      <th>tag</th>\n",
       "      <th>title</th>\n",
       "      <th>post</th>\n",
       "    </tr>\n",
       "  </thead>\n",
       "  <tbody>\n",
       "    <tr>\n",
       "      <th>30</th>\n",
       "      <td>PremierLeague</td>\n",
       "      <td>2021-04-22 06:37:15</td>\n",
       "      <td>1</td>\n",
       "      <td>8</td>\n",
       "      <td>52</td>\n",
       "      <td>Discussion</td>\n",
       "      <td>Salary Caps No Longer Work in Modern Football</td>\n",
       "      <td>I would like to start this off by saying that I understand the sentiment on why quite a lot of people want salary caps in club football. Ever rising player salaries mean that the best players and managers are concentrated at the richest clubs. Thus, the successful clubs continue to entrench their dominance and prevent smaller clubs from ever reaching the top. This is a problem and something needs to be done about it.  However, salary caps are not the answer. The best example why is to take a look at Neymar. It is estimated that he earns [700,000 Euros per week](https://www.goal.com/en/news/neymars-psg-wages-make-him-worlds-second-richest-player/64xuag67e1eq1sttyer647aa1) when he joined PSG in 2017. This is an eyewatering sum that most people around the world would never earn in their entire lifetime. However, this is not his only source of income. He is also [the global brand ambassador](https://www.sportspromedia.com/news/neymar-psg-qatar-national-bank-endorsement-deal#:~:text=Brazil%20and%20Paris%20Saint%2DGermain,advertising%20platforms%2C%20including%20personal%20appearances) for Qatar National Bank.   Now it is pretty safe to assume that he got that role thanks to PSG's Qatari owners. But this is very difficult to actually prove in court. And this is the problem. You can put a cap on their salaries but most football owners today don't just own football clubs. There is nothing stopping them from using their other businesses to strike out contracts with the players to circumvent the salary cap and FFP.   The second problem is that this does not solve the difference in revenue between the small clubs and big clubs within the game. Manchester City were suspected of using their [Etihad Airways](https://bleacherreport.com/articles/769697-epl-debate-manchester-city-etihad-stadium-deal-evading-financial-fair-play) stadium deal to rapidly increase their revenue in order to comply to FFP rules. This means that clubs that already have very high revenues now have theoretically lower costs since player salaries are capped.  That means clubs can now sign more players since they have more excess cash to do so while still complying with FFP. Managers like Ole, Pep and Klopp have often complained about fixture congestion. Now they can just stock up on players and have different squads to compete in different competitions. With the expanded Champions League and the plan to [expand the FIFA Club World Cup](https://www.independent.co.uk/sport/football/world/fifa-uefa-club-world-cup-champions-league-liverpool-tebas-future-a9293851.html), there are more than enough games to go around. Rich clubs can easily transfer players around their various squads to easily dominate those leagues and clubs. They can easily push their weight around and reduce squad registration regulations to their advantage to do this.</td>\n",
       "    </tr>\n",
       "    <tr>\n",
       "      <th>37</th>\n",
       "      <td>PremierLeague</td>\n",
       "      <td>2021-04-22 12:16:32</td>\n",
       "      <td>1</td>\n",
       "      <td>15</td>\n",
       "      <td>60</td>\n",
       "      <td>Discussion</td>\n",
       "      <td>Was the ESL just a huge money laundering/tax evasion scheme?</td>\n",
       "      <td>Just for clarity - I posted this in r/soccer and it got brought down in the first minute for no sources and stuff, hope this isn’t against TOS here.    Ok just to clarify, I’m not a conspiracy person, and I’m usually pretty sceptical of things like this and just assume things at face value. I’m not trying to convince anyone of this, but I just want to throw some ideas out there and see how insane I sound by the end of it lol. Ok so hear me out:   A super league is announced out of nowhere in mid April while all competitions are still running. They managed to dodge all media attention about it until earlier in the day before it was announced.   12 teams: 12 top teams. All 12 teams have majority owners meaning they can make full decisions without conferring with other stakeholders. Like I mean, AC and inter over Bayern and Dortmund. Why? And where is PSG?    Because of the 50+1 rule in German football, which would mean multiple people within the club would have to be notified of the decision, thus giving it media coverage.   PSG is the only other “big team” that can’t be accounted for in this. Haven’t really got a strong case on this, other than the political turmoil between their owners and Man City’s( UAE vs Qatar). With how much cooperation this would need, the possible drama might have been a bit of a fear.   In the contract that was drawn up, it was revealed after the Real Madrid’s chairpersons interview that Bayern, Dortmund and PSG WERENT asked initially, and would be invited 30 days and 14 days respectively after the agreement was signed. I mean, why not ask them with all the other founders. (An image of this part of the contract was in an article, I think it was daily Mail or independent, I’ll include it after in an edit if I find it, but until then, can’t really count this as concrete evidence).   And I mean, this is a seriously big project. And for the magnitude of the situation, the website that was made(I mean, I’m assuming it’s the official website) was laughable at best. Just a black background with a wall of text. Looked like a GCSE project.   So, behind closed doors, massive revenue and investments had been made and passed over, including $6bn coming from JPMorgan, which, if you remember, had a $1bn cocaine shipment bust seized a few years ago, which got swept under the rug.   So, as crazy as I might sound, these “non-footballing people” maybe wanted this to fail from the start. 72 hours. In and out. Money gets thrown about. Everyone apologises and goes home. Strange right? And does this random timing have anything to do with the tax year starting in April? Avoid tax/clean dirty money and then use a small cut off that to pay off the eventual fines that this will cause. A bit far fetched, but still.   All this, and the whole footballing world can sit back and convince themselves they’ve fought back against the rich.   Again, not a conspiracy person, nor am I particularly financially knowledgeable. Just a Redditor with a crazy idea. Might bring 15 minutes of entertainment to someone’s day. Feel free to rip my points to shreds in the comments lol. Feel like I need someone to tell me why I’m wrong to try and accept this.</td>\n",
       "    </tr>\n",
       "    <tr>\n",
       "      <th>47</th>\n",
       "      <td>PremierLeague</td>\n",
       "      <td>2021-04-23 07:20:56</td>\n",
       "      <td>1</td>\n",
       "      <td>2</td>\n",
       "      <td>71</td>\n",
       "      <td>Discussion</td>\n",
       "      <td>League and EUFA officials who are upset about the ESL proposal should stop blaming \"greedy foreign owners\" and look in the mirror</td>\n",
       "      <td>On one hand, I  totally understand the opposition to the Super League and I'm glad it failed. But the  \"greedy foreign owner\" sentiment is a bit too convenient and dishonest. What created this problem wasn't ownership. The ESL was an inevitable outcome of the system that league and UEFA officials have created and perpetuated for decades, leading to massive gaps between the big and small clubs in European football.  For all the claims of sporting merit, community, and solidarity, the system that European officials and even fans are so passionately defending is a system of corporate capitalism that creates a completely uneven playing field. Consider that last season, Barcelona, with their 680 million Euro wage bill and Real Madrid with their 650 million Euro wage bill, competed for the same league title as Real Mallorca with their 29 million Euro wage bill. Might the enormous difference in resources have any correlation to the fact that either Barca or Madrid have won their league championship in 15 of the last 16 seasons whereas Mallorca got relgated? Of course not. Those outcomes were entirely predictable because it's not even close to being a competition among \"peers.\"    You'll find the same dynamic in almost all of the big 5 leagues where Juve has won Serie A 9 years in a row, Bayern has won the Bundesliga 8 years in a row, and PSG has won Ligue 1 in 7 of the last 8 seasons. It's slightly more balanced in EPL, but even there, 26 of the 28 league championships in the EPL era have been claimed by just 5 clubs thanks to their massive budget advantage over their competition. Fans pine for the Leicester Cinderella story, but have they ever asked themselves why those situations are so rare to begin with? And does it really even matter who owns these teams (i.e. domestic vs. foreign, or supporters vs. billionaires and corporations) if the system itself perpetuates those outcomes?  Ironically, it's here in the USA (home of the Glazers, FSG, and Kroenke) where we actually have competitive balance and shared prosperity, thanks to a rather socialist set of governing mechanisms like team salary caps, luxury taxes, maximum player salaries, league revenue-sharing arrangements, and a draft among a common pool of prospects based on reverse order of the standings. The entire system is designed to ensure that each team has a relatively equal chance of success, which I'd argue actually enhances the notion of \"sporting merit.\" As a result, teams from small markets regularly win championships over teams from major markets. Granted, our MLB and NBA champs were both from Los Angeles last year. But our NFL and NHL champs came from Tampa Bay, Florida and our MLS champion was from Columbus, Ohio which was the smallest market in the league. Likewise, teams like the Pittsburgh Steelers and Green Bay Packers are among the biggest brands in the NFL, based entirely on \"sporting merit\" rather than the sheer wealth of their owners or the size of their local media market.   So, in the aftermath of the ESL fallout, I hope the powers-that-be actually do something to address the root cause of this whole mess rather than just blaming it on greedy foreign owners. Prior attempts like financial fair play have been an absolute joke, and it's time that the leagues themselves, along with UEFA, recognize and address the fact that THEY created the circumstances, either through their action or inaction, that gave rise to the ESL proposal in the first place.</td>\n",
       "    </tr>\n",
       "    <tr>\n",
       "      <th>48</th>\n",
       "      <td>PremierLeague</td>\n",
       "      <td>2021-04-23 08:05:22</td>\n",
       "      <td>1</td>\n",
       "      <td>201</td>\n",
       "      <td>72</td>\n",
       "      <td>Discussion</td>\n",
       "      <td>League and UEFA officials who opposed the Super League should stop blaming \"greedy foreign owners\" and look in the mirror</td>\n",
       "      <td>On one hand, I  totally understand the opposition to the Super League and I'm glad it failed. But the  \"greedy foreign owner\" sentiment is a bit too convenient and dishonest. What created this problem wasn't ownership. The ESL was an inevitable outcome of the system that league and UEFA officials have created and perpetuated for decades, leading to a massive resource gap between the big and small clubs in European football.  For all the claims of sporting merit, community, and solidarity, the system that European officials and even fans are so passionately defending is a system of unbridled, corporate capitalism that creates a completely uneven playing field. Consider that last season, Barcelona and Real Madrid, with their wage bills of 680 and 650 million Euros respectively, competed for the same league trophies as Real Mallorca with their 29 million Euro wage bill. Might the enormous difference in resources have any correlation to the fact that either Barca or Madrid have won their league championship in 15 of the last 16 seasons whereas Mallorca got relgated? Of course not. Those outcomes were entirely predictable because it's not even close to being a competition among \"peers.\"  You'll find the same dynamic in almost all of the big 5 leagues where Juve has won Serie A 9 years in a row, Bayern has won the Bundesliga 8 years in a row, and PSG has won Ligue 1 in 7 of the last 8 seasons, and in each case, it was the team with the largest payroll that claimed the trophy. It's slightly more balanced in EPL, but even there, 26 of the 28 league championships in the EPL era have been claimed by just 5 clubs thanks to their massive budget advantage over their competition. Fans pine for the Leicester City Cinderella story, but have they ever asked themselves why those situations are so rare to begin with? And does it really even matter who owns these teams (i.e. domestic vs. foreign, or supporters vs. billionaires and corporations) if the system itself perpetuates such consistent and predictable outcomes?  Ironically, it's here in the USA (home of the Glazers, FSG, and Kroenke) where we actually have competitive balance and shared prosperity, thanks to a rather socialist set of governing mechanisms like team salary caps, luxury taxes, maximum player salaries, league revenue-sharing arrangements, and a draft among a common pool of prospects based on reverse order of the standings. The entire system is designed to ensure that each team has a relatively equal chance of success, which I'd argue actually enhances the notion of \"sporting merit.\" Just last year, both our NFL and NHL champs were from Tampa Bay, Florida and our MLS champion was from Columbus, Ohio which was the smallest market in the league. The Utah Jazz and Phoenix Suns currently have the two best records in the NBA. The Pittsburgh Steelers and Green Bay Packers are two of the strongest brands and consistent winners in the NFL despite their small home markets. Likewise, MLS is still a young and growing league that can't compare to EPL on the pitch. But consider that we've had 7 different teams win MLS Cup over the past 8 seasons. In any given season, any team from any one of our leagues can rise to the top based on \"sporting merit.\" That's just not the case in European football. The outcomes are predicable and consistent because the the big clubs use their economies of scale to dominate the small clubs.   So, in the aftermath of the ESL fallout, I hope the powers-that-be actually do something to address the root cause of this whole mess rather than just blaming it on greedy foreign owners. Prior attempts like financial fair play have been an absolute joke, and it's time that the leagues themselves, along with UEFA, recognize and address the fact that THEY created the circumstances, either through their action or inaction, that gave rise to the ESL proposal in the first place.</td>\n",
       "    </tr>\n",
       "    <tr>\n",
       "      <th>49</th>\n",
       "      <td>PremierLeague</td>\n",
       "      <td>2021-04-23 08:12:20</td>\n",
       "      <td>1</td>\n",
       "      <td>6</td>\n",
       "      <td>73</td>\n",
       "      <td>:xpl: Premier League</td>\n",
       "      <td>All that's wrong with football   how it could be fixed - Share your thoughts/ideas</td>\n",
       "      <td>Before saying this, remember, it's just my opinion. you dont have to be offended if you don't agree with any/all ideas.  Also remember that football rules arent the same since the game was invented, many changed were made from the moment it was invented,  for example, when the rules were drafted offside rule was meant to not no allow forward passing at all except if behind goal line , or how denmark won the euros in 1992 by back passing to the keeper and he could just constantly waste time + grab the ball from backpasses.      So what i think its wrong with football:     * players act like spoilt children and refs have no authority  https://preview.redd.it/pyy165udsxu61.jpg?width=1740 format=pjpg auto=webp s=16325f78056bc5be324b54d661c66af62d94078f  Too much bitching to refs, refs being circled/ganged/bullies on by players to give out cards/penalties.  This in my opinion has to stop.   How?  Simple,  cards to anyone that goes and shouts on refs face without warnings. we need some respect.  watch rugby for example,  players build like a house that could rip refs head off with a slap and YET... they all listen and respect.  I would love to see that in football too, would also love to hear the refs mic over comentators throwing us filler stats. (example of refs mic'ed: [https://www.youtube.com/watch?v=kAqctGNTouc](https://www.youtube.com/watch?v=kAqctGNTouc ab_channel=BTSport) )     * Players diving / acting like they just broke a bone for every little touch  https://i.redd.it/z0k9l3o4txu61.gif  https://i.redd.it/vvbfjm2lsxu61.gif    the ridiculousness of players jumping on floor holding on their feet and screaming like they just got shot is pathetic.  there's no need for this, but it will happen until referees stop being persuaded into giving cards based on the ridiculousness of dives.  How to fix it?  with a bit of the no drama rule on the refs, and adjustments on how VAR works, would be far less common.  potentially even suspending players (post match analysis) that changed the outcome of the game by diving.      * VAR     https://i.redd.it/d2c7d2ontxu61.gif  VAR needs to be standartised, FASTER and have as much power of decision as the ref. There must be set rules for camera placements for var (for example high vertical cameras pointing down to check offsides instead of trying to randomly calculate if something is offside by humans setting points manually and guesstimating heigh/angles, which isnt 100% accurate).   VAR should also just have the option to communicate over \"its a penalti\" without all the drama of refs having to go into little screens etc.      * TIME WASTING (THIS IS A BIG ONE FOR ME)  https://i.redd.it/mqankxddvxu61.gif  https://i.redd.it/1vxw83eduxu61.gif  With some PL games having as little of 50min PLAYED time, i think this one is absolutely ridiculous.  More and more time wasting is becoming part of the game.  watch any game that is with 1 goal up, from minute 70 to the end of the match, you will see 5 to 10 minutes of actual football, the rest is:   Players taking too long to take freekicks/goalkicks/throw ins   Players faking cramps/injusties  Players not letting the losing team taking their freekicks /kicking the ball away from the stop, standing in the way, throwing the ball too high over the player, and so on.    We even have ball boys throwing a 2nd ball in on a throw in to stop the game or worse, grabbing hold of it and not giving it to the loosing team (example above) .   How to fix it?   VERY SIMPLE:     make games 60min (30 per half) and stop the clock when the ball is out of play.  for the purists, this will result in the exact same amount of football per game,  just shaves out all the time players are faking injuries and standing around not taking their freekicks wasting time. unless you actually want games to take longer to finish and have the same amount of played time.     Any ideas/changes you would like to see in football?  please share your thoughts</td>\n",
       "    </tr>\n",
       "    <tr>\n",
       "      <th>...</th>\n",
       "      <td>...</td>\n",
       "      <td>...</td>\n",
       "      <td>...</td>\n",
       "      <td>...</td>\n",
       "      <td>...</td>\n",
       "      <td>...</td>\n",
       "      <td>...</td>\n",
       "      <td>...</td>\n",
       "    </tr>\n",
       "    <tr>\n",
       "      <th>5344</th>\n",
       "      <td>PremierLeague</td>\n",
       "      <td>2018-05-09 02:31:42</td>\n",
       "      <td>0</td>\n",
       "      <td>0</td>\n",
       "      <td>53789</td>\n",
       "      <td>none</td>\n",
       "      <td>MANCESTER UNITED MID-WEEK NEWS</td>\n",
       "      <td>Wednesday, 9 May 2018        What else can you say that has not been said about the Greatness of Sir Alex Ferguson in regards to Manchester United Football Club?        27 Seasons of passion, seasons of love but most importantly, seasons filled with numerous success. Who can compare to this man in terms of the history of Manchester United. Sir Bryan Robson is on manager who able to even come close to This Managers status level when success is been put into account around Old Trafford. but even in the midst of legends like Sir Bryan Robson and Sir Bobby Charlton, this one manager can still hold his head high and stand up tall and be called Manchester United’s Greatest Manager of all time. The Manager in question here is none other than the great Sir Alex Ferguson. Sir Ferguson has been regarded as beacon of Positivity, beacon of success and used on multiple occasions as a sign of what the club can still accomplish in the future. Manchester United have always associated with so much positive news these past few years but the recent news from Manchester United Association has been one that has the clubs entire fan base in complete shock and total sadness as Manchester United announced that the greatest manager the club has ever had, has been hospitalized. The news broke out days after a matter of hours into Manchester United’s shocking post loss to Brighton on Friday night. Naturally, so much news stations and sports newspaper all over England has immediately jumped on the opportunity to broadcast the story using any vital piece of information that each tabloid was able to conjure up in the limited time between the exact moment the story dropped and the moment each news tabloid was provided, credible, information on the news.         While so many other news source has made the choice of delivering as much information to the public, The ManchesterUnitedPost reserves the right of choice and the right of privacy. In-other-words, The ManchesterUnitedPost has chosen not to the discuss any matter in regards to Sir Alex Fergusons personals situation. Sir Ferguson is a well loved figure and a person with massive positive influence in the Manchester United and further inquiry into Fergusons personal life might trigger an infringement in Fergusons rights to privacy. The ManchesterUnitedPost will however let the Public know that the clubs Legendary Manager has undergone a major successful brain surgery on Sunday, May 6 2018 and has started his road to recovery and recuperation at Salford Royal Hospital, Manchester, England as of Sunday night. A man can be measured by the actions and the love, the respect and the recognitions of the people who knew the man. If that is the case, then Sir Alex Ferguson is considered as one of the greatest of the greatest as lots of messages from big name individuals associated with the world of football have been pouring in with well wishes to Ferguson as he recovers from his recent surgery.  Sam Allardyce, Mark Hughes, David Beckham, Gary Lineker, Edwin van Der Sar, Cristiano Ronaldo, Paul McGrath, Eric Cantona, Paul Schools, Robin van Persie and so many other superstar footballers and fans all posting well wishes to the iconic ex –Manchester United manager. Absolutely wonderful to see. The ManchesterUnitedPost will like to take this opportunity to say to Sir Alex Ferguson “Stay strong Sir! Hope to see you back on your feet and back in Old Trafford watching the game, with the fans again.                                                           On to the transfer news and transfer speculation section of todays article and once again the readers will not be the least bit surprised to hear that Manchester United have been linked with multiple variety of superstar footballers. Messi, Benzema, Shakhtar Donetsk midfielder Fred all rumoured to be Manchester United players by the end of the 2018 summer transfer window. But the news that has caught the attentions of tabloids is Manchester United’s apparent interest in 23 years old, Serbian, Midfielder Sergej Milinkovic. Milinkovic, as I have said, is 23 years old. He plays on the typical central defensive midfield role. He loves intercepting the opponents’ attacks in the midfield and he will willingly make the right pass for his team to create an attacking opportunity for themselves. Plus, he is also a willing runner. So already, Sergej Milinkovic appears to have all the qualities Mourinho loves in a player.  Strong, Quick, Smart tackler and judging from the players’ statistic, Sergej seems to be a defensive minded player which is one quality Mourinho clearly values highly so there is serious reason to believe the reports of Manchester United’s interest in Milinkovic. But sadly enough, there is also reason to believe that this report has no validity to the story and therefore might be nothing but a hoax. On May 7 Milinkovic Agent, Matej Kezman, spoke up for the first time on the reports linking his client with a move to Manchester United and Kezman responded by saying “Lazio have three big games to go and nobody has talked about any negotiations this moment. The Biancicelesti have the opportunity to get their best result of recent years by qualifying for the Champions League. It’s only normal that there is enormous interest in Sergei between some top European clubs, but we do not have any agreement with any club.”  Now while some Manchester United fans might view this development as completely disappointing, other Manchester United fans might choose to view the statement in a completely different perspective. Milinkovic agent has not chosen to publicly deny any possibility of a deal being done in the near future, the agent has simply stated that at the moment Sergei is an Lazio player until the end of the season. So a deal could still be in the cards for Manchester United to cash in on from now till the end of the summer. Should Manchester United decide to cash in on Milinkovic, the Serbian will be valued at a rate of 70, 00 million pounds or more.   As far as Manchester United fans are concerned, the only action left for the fans to take will be to wait and see what road Mourinho and Manchester United’s board of directors decide take will be entirely up for debate. 70 Million pounds does not sound like an impossible amount for Manchester United to spend considering the amount of money Mourinho has spent on the course of last summer to this past January’s transfer market. A replacement for the departing Michael Carrick is certainly needed and Milinkovic certainly appears to be the right man to fill the gap but the question is : Will Manchester United board make a serious bid? Or look in another direction? TheManchesterUnitedPost.com will keep the fans posted for any future development on this story.  famboy121 at 01:10   https://oldtraffordfaithful.blogspot.ca/?m=1</td>\n",
       "    </tr>\n",
       "    <tr>\n",
       "      <th>5414</th>\n",
       "      <td>PremierLeague</td>\n",
       "      <td>2018-01-26 12:50:09</td>\n",
       "      <td>2</td>\n",
       "      <td>1</td>\n",
       "      <td>58889</td>\n",
       "      <td>none</td>\n",
       "      <td>Short-Changed</td>\n",
       "      <td>Hi all,    Over the past summer I wrote a book about the past 20 years of Sunderland AFC's history. Ordinarily I wouldn't be quite so self-promotional but I've been advised by a few non-Sunderland fans who bought the book in hard copy that they thoroughly enjoyed reading it, and felt it offered a good insight into how not to run a football club - as well as a good look at how not to go about staying in the Premier League. Hence, I thought I'd spread the word a bit further afield.  The book sold out in hard copy and received positive reviews across the board and, as a result, has recently been made available on the Amazon Kindle store. Having retailed on paper at £10, the digital version is now available for a mere  £2.99 .  I have reproduced the blurb below, along with a link to the book should anyone be interested.   *'It is twenty years since Sunderland AFC moved from Roker Park to a sparkling new home. The Stadium of Light opened its doors in 1997 and was, at that time, the third largest club football ground in England. It was a mammoth statement, one made all the more ambitious by the fact its inhabitants would be plying their trade in the second tier of English football.*  *‘Short-Changed’ takes a thematic look at the past two decades of Sunderland AFC, centring around the three men who have held the role as chairman in the Stadium of Light’s young history. Where Sir Bob Murray could point to the new home as his legacy, and Niall Quinn to his saving of the club from ruin, Ellis Short is devoid of much to shout about. During his time at the club, he has overseen a wasting of huge sums of money, and stood idly by as the club’s name has been tarnished by scandal and controversy.*  *The book covers football in abundance, charting the rocky path the club has travelled, as countless players and managers have came and went. ‘Short-Changed’ also takes a broader view, considering the pervading financial realities that have impacted Sunderland during their recent history, as well as looking at the connection between the football club and its wider community.*  *Drawing on exclusive interviews and considerable research, ‘Short-Changed’ is the story of a club that has wound up right back where it began when the Stadium of Light’s doors first opened.'*   You can buy a digital copy here:  [Short-Changed](https://www.amazon.co.uk/Short-Changed-Highs-Sunderland-During-Stadium-ebook/dp/B0794FBLP6/ref=sr_1_1?ie=UTF8 qid=1516819097 sr=8-1 keywords=short+changed+book)</td>\n",
       "    </tr>\n",
       "    <tr>\n",
       "      <th>5475</th>\n",
       "      <td>PremierLeague</td>\n",
       "      <td>2017-10-24 14:17:47</td>\n",
       "      <td>8</td>\n",
       "      <td>10</td>\n",
       "      <td>63589</td>\n",
       "      <td>none</td>\n",
       "      <td>Can Man City Become The Invincibles 2018?</td>\n",
       "      <td>I was thinking about Arsenal going the whole season unbeaten and it struck me what a mega achievement it was. Not sure which was more impressive between that and Leicester winning the league. Probably the latter, actually. Anyway:       In the 2003–04 season, Arsenal regained the Premier League without a single defeat. Over the 38 games played, their league record stood at 26 wins, 12 draws and 0 losses. The unbeaten run came close to ending six matches into the campaign against Manchester United, as striker Ruud van Nistelrooy missed a penalty in injury time; the match then ended 0–0. At the turn of the calendar year, Arsenal won nine league matches in a row to consolidate first position; they secured their status as champions with a draw against local rivals Tottenham Hotspur in April 2004. Their form did not continue into the domestic cups; Arsenal exited the semi-final stage of the Football League Cup and the FA Cup to eventual winners Middlesbrough and Manchester United, respectively. In Europe, Arsenal reached the quarter-final stage of the UEFA Champions League where they were eliminated by London rivals Chelsea.       Arsenal captain Patrick Vieira presented with the trophy at Highbury on the final day of the season.           Continuing into the next season, a special gold version of the Premier League trophy was commissioned to commemorate Arsenal winning the title without a single defeat. In their second Premier League game of 2004–05, Arsenal beat Middlesbrough to equal Nottingham Forest's record of 42 league matches unbeaten; the feat was eclipsed with a win at home to Blackburn Rovers. The run extended to six more matches for a total of 49 league games undefeated, before coming to an end with a controversial 2–0 defeat to Manchester United. The Guardian noted that Arsenal never trailed in the last 20 minutes of a game during their unbeaten run.   The last sentence makes it even more impressive; they never ever even looked like losing, really.      Well Man City have started the 2017/18 season fantastically well, and it's only a matter of time before the media starts wondering if they'll go the whole season unbeaten. We're only nine games in but so far they've pretty much battered everyone they've played in the league, having won eight of those and drawn 1-1 at home to Everton in the second game of the season. They have scored 32 and conceded only 4.                      Last season Man City finished 3rd in the league. The rest of the top six were Chelsea, Spurs, Liverpool, Arsenal and United. Out of those, so far they've only played Liverpool at home and Chelsea away.              Chelsea       Home: Saturday 3rd March      Away: 0-1                         Tottenham     Home: Saturday 16th December     Away: Saturday 14th April              Liverpool      Home: 5-0      Away: Saturday 13th January              Arsenal     Home: Sunday 5th November     Away: Saturday 24th February                    Man United     Home: Saturday 7th April     Away: Sunday 10th December                Does Reddit reckon they can go 38 games without defeat? What will be the key to making it happen? Or why won't it happen?          They're free-scoring and have so many options so rotating during a busy schedule due to other competitions shouldn't be a problem. And previously their defence has looked a bit shonky but lately they've been pretty damn good, even with Delph at left-back.          Although they may be about to go out the League Cup to Wolves, lol.                Feel free to discuss this topic on [TheThirdHalf.co.uk](http://www.thethirdhalf.co.uk/showthread.php?1918-Can-Man-City-Become-The-Invincibles)</td>\n",
       "    </tr>\n",
       "    <tr>\n",
       "      <th>5481</th>\n",
       "      <td>PremierLeague</td>\n",
       "      <td>2017-10-17 06:50:30</td>\n",
       "      <td>51</td>\n",
       "      <td>176</td>\n",
       "      <td>63989</td>\n",
       "      <td>none</td>\n",
       "      <td>Friend and I are disenchanted with the NFL. Help us pick a EPL teams? (aka Sell us on your team)</td>\n",
       "      <td>TL;DR  NFL fans looking to pick some EPL teams to cheer for, preferably finding a team that's somehow similar to the current NFL teams we root for.   In hopes that this doesn't come across as super douchey (Yes, you have to convince US why your club is worthy of our support!) my friend and I are both looking for Premier League teams to start cheering for. We've become increasingly disenchanted with the NFL as of late, particularly as it relates to player health and the seemingly constant injuries of key players, and we thought maybe a change of scenery would do us some good.        We're both pretty casual soccer fans who kind of got into the sport through playing FIFA on Xbox with friends at work and watching the US in the World Cup a few years ago. Outside of that we don't have much experience. Our thinking here was to provide you with our current favorite NFL teams and why we cheer for them in hopes of using that as sort of a guide to finding an EPL team that might have some things in common in terms of an organization or history. So without any further delay...      *  The Indianapolis Colts  - I grew up in Indiana and my dad bought season tickets to the Colts the year we drafted Peyton Manning. We've been cheering for them ever since. One of the things I'll always appreciate about the Colts, especially during the Manning/Dungy (their coach at the time) era, is the class they showcase when going about their business. Work hard, no excuses, build talent from the inside and little drama or ego to speak of, it's always team first.           The last few years have been a roller coaster as our franchise QB, Andrew Luck, has been plagued by injury and we've suffered a horrible GM (who we fired) that failed to build a team around him and a Coach who seems to be a total wet blanket. Our owner is a little crazy too and has a bit of a checkered past. We're hopeful our new GM will shake things up, boot the lame coach and hopefully build a solid team around our key player before we waste his entire career or get him killed on the field.         *  The Minnesota Vikings  - My friend has been a Vikings fan \"all his life, inheriting all the pain an misery that comes with it.\" His dad grew up in North Dakota and became a  Vikings fan, mostly because there are no actual professional teams to root for in North Dakota. The things my friend has appreciated about Minnesota is that they're generally pretty competitive with very good Defense. It also seems like they have some sort of generational talent on offense, be it players like Randy Moss and Adrian Peterson. But undoubtedly every year something goes horribly wrong. Missing chip shot field goals in the playoffs to lose a game, having a franchise QB blow out their knee in a non-contact practice exercise, their star rookie RB lose his season to a non-contact ACL tear, or having their coach ALMOST LOSE HIS GODDAMN EYESIGHT TO A SCRATCH THAT REQUIRED 8 SURGERIES TO FIX! Seriously, a stiff breeze is capable of hospitalizing a Minnesota Vikings player.  Despite having the 5th most Championship Appearances in NFL History, they have 0 wins to show for it. It's truly a [Shakespearean tragedy](https://www.youtube.com/watch?v=aZiwQnxSRUY)         The Vikings have a collection of solid young talent that could be pretty formidable if they ever all see the field at the same time. There's a lot to be hopeful for here too...you just have to spend every weekend praying that no one gets hurt.              So that's the gist. We look forward to reading your suggestions for EPL teams that might match our NFL Teams interesting ways. Double bonus if you find teams that match and also have a rivalry between one another (competition and shit talking always makes things more interesting!) Thanks in advance for all your help!        Edit  I did have one additional data point/funny story that I thought might be worth mentioning. My entire life my mother told me we were part Irish (our Grandfather is a huge Notre Dame Football fan). For my wedding, my father in law arranged one of his Irish friends to give an Irish blessing during the reception dinner. A week before the wedding I wanted to confirm our Irish heritage with my mother, who told me \"Well I don't really know. Ask your uncle.\" Asked my uncle, turns out we're part Welsh. If I went by this alone I guess I'd be Swansea/Cardiff City?</td>\n",
       "    </tr>\n",
       "    <tr>\n",
       "      <th>5601</th>\n",
       "      <td>PremierLeague</td>\n",
       "      <td>2017-06-27 22:18:35</td>\n",
       "      <td>6</td>\n",
       "      <td>3</td>\n",
       "      <td>69590</td>\n",
       "      <td>none</td>\n",
       "      <td>Fans from the US, please let the FCC know that NBC's new premium streaming plan is unfair to US-based fans of smaller clubs</td>\n",
       "      <td>Hey, /r/PremierLeague. For those that are unaware, NBC Universal [has announced today](https://archive.fo/uBdin) that Premier League fans in the US will now have to pay a second subscription fee to watch all PL matches on the $50 \"Premier League Pass.\"   The only matches that will be readily available are those scheduled to be on NBC and NBCSN - referred to by NBC as \"marquee matchups.\" Meaning that the most popular PL teams will receive the lion's share of the coverage on NBC and NBCSN - leaving fans of non \"marquee\" teams having to pay $50 for the chance at watching their team's games.  I and many feel that this is unfair, and seeing as NBCSN is already a paid subscription, that NBC should continue to provide viewers with the ability to watch the match of their choosing utilizing their existing subscription. At the very least, they should allow subscribers of NBCSN to chose their \"favorite team,\" and allow them to watch that team's matches with the standard NBCSN subscription.   If you think that what NBC is doing is shitty, I encourage you to:  * [Submit a consumer complaint to the FCC](https://consumercomplaints.fcc.gov/hc/en-us/requests/new?ticket_form_id=33794) * Tweet your complaints to [@FCC](https://twitter.com/FCC) and [@NBCSports](https://twitter.com/NBCSports) utilizing the #PLonNBC hashtag * Include a link to the [FCC Consumer Complaint Form](https://consumercomplaints.fcc.gov/hc/en-us/requests/new?ticket_form_id=33794) in your tweet if so desired  I realize that we all have \"free\" options for streaming, but I feel we should all let NBC and the FCC know that these sorts of unfair tactics are terrible. Subscribers to NBCSN are already paying a premium to access Premier League content, and a second subscription requirement is a disgusting money-grab.   If you would like an example of what to say in your complaint to the FCC, [here's a screenshot of my complaint to the FCC](https://twitter.com/BradGroux/status/879921160540082176) ([jpg](https://pbs.twimg.com/media/DDYayizU0AAkY76.jpg)).  TL;DR - If you're unhappy with NBC's new premium \"Premiere League Pass\" subscription, [complain to the FCC](https://consumercomplaints.fcc.gov/hc/en-us/requests/new?ticket_form_id=33794).</td>\n",
       "    </tr>\n",
       "  </tbody>\n",
       "</table>\n",
       "<p>215 rows × 8 columns</p>\n",
       "</div>"
      ],
      "text/plain": [
       "          subreddit            datetime  score  comments  index  \\\n",
       "30    PremierLeague 2021-04-22 06:37:15      1         8     52   \n",
       "37    PremierLeague 2021-04-22 12:16:32      1        15     60   \n",
       "47    PremierLeague 2021-04-23 07:20:56      1         2     71   \n",
       "48    PremierLeague 2021-04-23 08:05:22      1       201     72   \n",
       "49    PremierLeague 2021-04-23 08:12:20      1         6     73   \n",
       "...             ...                 ...    ...       ...    ...   \n",
       "5344  PremierLeague 2018-05-09 02:31:42      0         0  53789   \n",
       "5414  PremierLeague 2018-01-26 12:50:09      2         1  58889   \n",
       "5475  PremierLeague 2017-10-24 14:17:47      8        10  63589   \n",
       "5481  PremierLeague 2017-10-17 06:50:30     51       176  63989   \n",
       "5601  PremierLeague 2017-06-27 22:18:35      6         3  69590   \n",
       "\n",
       "                       tag  \\\n",
       "30              Discussion   \n",
       "37              Discussion   \n",
       "47              Discussion   \n",
       "48              Discussion   \n",
       "49    :xpl: Premier League   \n",
       "...                    ...   \n",
       "5344                  none   \n",
       "5414                  none   \n",
       "5475                  none   \n",
       "5481                  none   \n",
       "5601                  none   \n",
       "\n",
       "                                                                                                                                  title  \\\n",
       "30                                                                                        Salary Caps No Longer Work in Modern Football   \n",
       "37                                                                         Was the ESL just a huge money laundering/tax evasion scheme?   \n",
       "47    League and EUFA officials who are upset about the ESL proposal should stop blaming \"greedy foreign owners\" and look in the mirror   \n",
       "48            League and UEFA officials who opposed the Super League should stop blaming \"greedy foreign owners\" and look in the mirror   \n",
       "49                                                   All that's wrong with football   how it could be fixed - Share your thoughts/ideas   \n",
       "...                                                                                                                                 ...   \n",
       "5344                                                                                                     MANCESTER UNITED MID-WEEK NEWS   \n",
       "5414                                                                                                                      Short-Changed   \n",
       "5475                                                                                          Can Man City Become The Invincibles 2018?   \n",
       "5481                                   Friend and I are disenchanted with the NFL. Help us pick a EPL teams? (aka Sell us on your team)   \n",
       "5601        Fans from the US, please let the FCC know that NBC's new premium streaming plan is unfair to US-based fans of smaller clubs   \n",
       "\n",
       "                                                                                                                                                                                                                                                                                                                                                                                                                                                                                                                                                                                                                                                                                                                                                                                                                                                                                                                                                                                                                                                                                                                                                                                                                                                                                                                                                                                                                                                                                                                                                                                                                                                                                                                                                                                                                                                                                                                                                                                                                                                                                                                                                                                                                                                                                                                                                                                                                                                                                                                                                                                                                                                                                                                                                                                                                                                                                                                                                                                                                                                                                                                                                                                                                                                                                                                                                                                                                                                                                                                                                                                                                                                                                                                                                                                                                                                                                                                                                                                                                                                                                                                                                                                                                                                                                                                                                                                                                                                                                                                                                                                                                                                                                                                                                                                                                                                                                                                                                                                                                                                                                                                                                                                                                                                                                                                                                                                                                                                                                                                                                                                                                                                                                                                                                                                                                                                                                                                                                                                                                                                                                                                                                                                                                                                                                                                                                                                                                                                                                                                                                                                                                                                                                                                                                                                                                                                                                                                                                                                                                                                                                                                                           post  \n",
       "30                                                                                                                                                                                                                                                                                                                                                                                                                                                                                                                                                                                                                                                                                                                                                                                                                                                                                                                                                                                                                                                                                                                                                                                                                                                                                                                                                                                                                                                                                                                                                                                                                                                                                                                                                                                                                                                                                                                                                                                                                                                                                                                                                                                                                                                                                                                                                                                                                                                                                                                                                                                                                                                                                                                                                                                                                                                                                                                                                                                                                                                                                                                                                                                                                                                                                                                                                                                                                                                                                                                                                                                                                                                                                                                                                                                                                                                                                                                                                                                                                                                                                                                                                                                      I would like to start this off by saying that I understand the sentiment on why quite a lot of people want salary caps in club football. Ever rising player salaries mean that the best players and managers are concentrated at the richest clubs. Thus, the successful clubs continue to entrench their dominance and prevent smaller clubs from ever reaching the top. This is a problem and something needs to be done about it.  However, salary caps are not the answer. The best example why is to take a look at Neymar. It is estimated that he earns [700,000 Euros per week](https://www.goal.com/en/news/neymars-psg-wages-make-him-worlds-second-richest-player/64xuag67e1eq1sttyer647aa1) when he joined PSG in 2017. This is an eyewatering sum that most people around the world would never earn in their entire lifetime. However, this is not his only source of income. He is also [the global brand ambassador](https://www.sportspromedia.com/news/neymar-psg-qatar-national-bank-endorsement-deal#:~:text=Brazil%20and%20Paris%20Saint%2DGermain,advertising%20platforms%2C%20including%20personal%20appearances) for Qatar National Bank.   Now it is pretty safe to assume that he got that role thanks to PSG's Qatari owners. But this is very difficult to actually prove in court. And this is the problem. You can put a cap on their salaries but most football owners today don't just own football clubs. There is nothing stopping them from using their other businesses to strike out contracts with the players to circumvent the salary cap and FFP.   The second problem is that this does not solve the difference in revenue between the small clubs and big clubs within the game. Manchester City were suspected of using their [Etihad Airways](https://bleacherreport.com/articles/769697-epl-debate-manchester-city-etihad-stadium-deal-evading-financial-fair-play) stadium deal to rapidly increase their revenue in order to comply to FFP rules. This means that clubs that already have very high revenues now have theoretically lower costs since player salaries are capped.  That means clubs can now sign more players since they have more excess cash to do so while still complying with FFP. Managers like Ole, Pep and Klopp have often complained about fixture congestion. Now they can just stock up on players and have different squads to compete in different competitions. With the expanded Champions League and the plan to [expand the FIFA Club World Cup](https://www.independent.co.uk/sport/football/world/fifa-uefa-club-world-cup-champions-league-liverpool-tebas-future-a9293851.html), there are more than enough games to go around. Rich clubs can easily transfer players around their various squads to easily dominate those leagues and clubs. They can easily push their weight around and reduce squad registration regulations to their advantage to do this.  \n",
       "37                                                                                                                                                                                                                                                                                                                                                                                                                                                                                                                                                                                                                                                                                                                                                                                                                                                                                                                                                                                                                                                                                                                                                                                                                                                                                                                                                                                                                                                                                                                                                                                                                                                                                                                                                                                                                                                                                                                                                                                                                                                                                                                                                                                                                                                                                                                                                                                                                                                                                                                                                                                                                                                                                                                                                                                                                                                                                                                                                                                                                                                                                                                                                                                                                                                                                                                                                                                                                                                                                                                                                                                                                                                                                                                                                                                                                        Just for clarity - I posted this in r/soccer and it got brought down in the first minute for no sources and stuff, hope this isn’t against TOS here.    Ok just to clarify, I’m not a conspiracy person, and I’m usually pretty sceptical of things like this and just assume things at face value. I’m not trying to convince anyone of this, but I just want to throw some ideas out there and see how insane I sound by the end of it lol. Ok so hear me out:   A super league is announced out of nowhere in mid April while all competitions are still running. They managed to dodge all media attention about it until earlier in the day before it was announced.   12 teams: 12 top teams. All 12 teams have majority owners meaning they can make full decisions without conferring with other stakeholders. Like I mean, AC and inter over Bayern and Dortmund. Why? And where is PSG?    Because of the 50+1 rule in German football, which would mean multiple people within the club would have to be notified of the decision, thus giving it media coverage.   PSG is the only other “big team” that can’t be accounted for in this. Haven’t really got a strong case on this, other than the political turmoil between their owners and Man City’s( UAE vs Qatar). With how much cooperation this would need, the possible drama might have been a bit of a fear.   In the contract that was drawn up, it was revealed after the Real Madrid’s chairpersons interview that Bayern, Dortmund and PSG WERENT asked initially, and would be invited 30 days and 14 days respectively after the agreement was signed. I mean, why not ask them with all the other founders. (An image of this part of the contract was in an article, I think it was daily Mail or independent, I’ll include it after in an edit if I find it, but until then, can’t really count this as concrete evidence).   And I mean, this is a seriously big project. And for the magnitude of the situation, the website that was made(I mean, I’m assuming it’s the official website) was laughable at best. Just a black background with a wall of text. Looked like a GCSE project.   So, behind closed doors, massive revenue and investments had been made and passed over, including $6bn coming from JPMorgan, which, if you remember, had a $1bn cocaine shipment bust seized a few years ago, which got swept under the rug.   So, as crazy as I might sound, these “non-footballing people” maybe wanted this to fail from the start. 72 hours. In and out. Money gets thrown about. Everyone apologises and goes home. Strange right? And does this random timing have anything to do with the tax year starting in April? Avoid tax/clean dirty money and then use a small cut off that to pay off the eventual fines that this will cause. A bit far fetched, but still.   All this, and the whole footballing world can sit back and convince themselves they’ve fought back against the rich.   Again, not a conspiracy person, nor am I particularly financially knowledgeable. Just a Redditor with a crazy idea. Might bring 15 minutes of entertainment to someone’s day. Feel free to rip my points to shreds in the comments lol. Feel like I need someone to tell me why I’m wrong to try and accept this.  \n",
       "47                                                                                                                                                                                                                                                                                                                                                                                                                                                                                                                                                                                                                                                                                                                                                                                                                                                                                                                                                                                                                                                                                                                                                                                                                                                                                                                                                                                                                                                                                                                                                                                                                                                                                                                                                                                                                                                                                                                                                                                                                                                                                                                                                                                                                                                                                                                                                                                                                                                                                                                                                                                                                                                                                                                                                                                                                                                                                                                                                                                                                                                                                                                                                                                                                                                                                                                                                                                                                                                                                                                        On one hand, I  totally understand the opposition to the Super League and I'm glad it failed. But the  \"greedy foreign owner\" sentiment is a bit too convenient and dishonest. What created this problem wasn't ownership. The ESL was an inevitable outcome of the system that league and UEFA officials have created and perpetuated for decades, leading to massive gaps between the big and small clubs in European football.  For all the claims of sporting merit, community, and solidarity, the system that European officials and even fans are so passionately defending is a system of corporate capitalism that creates a completely uneven playing field. Consider that last season, Barcelona, with their 680 million Euro wage bill and Real Madrid with their 650 million Euro wage bill, competed for the same league title as Real Mallorca with their 29 million Euro wage bill. Might the enormous difference in resources have any correlation to the fact that either Barca or Madrid have won their league championship in 15 of the last 16 seasons whereas Mallorca got relgated? Of course not. Those outcomes were entirely predictable because it's not even close to being a competition among \"peers.\"    You'll find the same dynamic in almost all of the big 5 leagues where Juve has won Serie A 9 years in a row, Bayern has won the Bundesliga 8 years in a row, and PSG has won Ligue 1 in 7 of the last 8 seasons. It's slightly more balanced in EPL, but even there, 26 of the 28 league championships in the EPL era have been claimed by just 5 clubs thanks to their massive budget advantage over their competition. Fans pine for the Leicester Cinderella story, but have they ever asked themselves why those situations are so rare to begin with? And does it really even matter who owns these teams (i.e. domestic vs. foreign, or supporters vs. billionaires and corporations) if the system itself perpetuates those outcomes?  Ironically, it's here in the USA (home of the Glazers, FSG, and Kroenke) where we actually have competitive balance and shared prosperity, thanks to a rather socialist set of governing mechanisms like team salary caps, luxury taxes, maximum player salaries, league revenue-sharing arrangements, and a draft among a common pool of prospects based on reverse order of the standings. The entire system is designed to ensure that each team has a relatively equal chance of success, which I'd argue actually enhances the notion of \"sporting merit.\" As a result, teams from small markets regularly win championships over teams from major markets. Granted, our MLB and NBA champs were both from Los Angeles last year. But our NFL and NHL champs came from Tampa Bay, Florida and our MLS champion was from Columbus, Ohio which was the smallest market in the league. Likewise, teams like the Pittsburgh Steelers and Green Bay Packers are among the biggest brands in the NFL, based entirely on \"sporting merit\" rather than the sheer wealth of their owners or the size of their local media market.   So, in the aftermath of the ESL fallout, I hope the powers-that-be actually do something to address the root cause of this whole mess rather than just blaming it on greedy foreign owners. Prior attempts like financial fair play have been an absolute joke, and it's time that the leagues themselves, along with UEFA, recognize and address the fact that THEY created the circumstances, either through their action or inaction, that gave rise to the ESL proposal in the first place.  \n",
       "48                                                                                                                                                                                                                                                                                                                                                                                                                                                                                                                                                                                                                                                                                                                                                                                                                                                                                                                                                                                                                                                                                                                                                                                                                                                                                                                                                                                                                                                                                                                                                                                                                                                                                                                                                                                                                                                                                                                                                                                                                                                                                                                                                                                                                                                                                                                                                                                                                                                                                                                                                                                                                                                                                                                                                                                                                                                                                                                                                                                                                                                                                 On one hand, I  totally understand the opposition to the Super League and I'm glad it failed. But the  \"greedy foreign owner\" sentiment is a bit too convenient and dishonest. What created this problem wasn't ownership. The ESL was an inevitable outcome of the system that league and UEFA officials have created and perpetuated for decades, leading to a massive resource gap between the big and small clubs in European football.  For all the claims of sporting merit, community, and solidarity, the system that European officials and even fans are so passionately defending is a system of unbridled, corporate capitalism that creates a completely uneven playing field. Consider that last season, Barcelona and Real Madrid, with their wage bills of 680 and 650 million Euros respectively, competed for the same league trophies as Real Mallorca with their 29 million Euro wage bill. Might the enormous difference in resources have any correlation to the fact that either Barca or Madrid have won their league championship in 15 of the last 16 seasons whereas Mallorca got relgated? Of course not. Those outcomes were entirely predictable because it's not even close to being a competition among \"peers.\"  You'll find the same dynamic in almost all of the big 5 leagues where Juve has won Serie A 9 years in a row, Bayern has won the Bundesliga 8 years in a row, and PSG has won Ligue 1 in 7 of the last 8 seasons, and in each case, it was the team with the largest payroll that claimed the trophy. It's slightly more balanced in EPL, but even there, 26 of the 28 league championships in the EPL era have been claimed by just 5 clubs thanks to their massive budget advantage over their competition. Fans pine for the Leicester City Cinderella story, but have they ever asked themselves why those situations are so rare to begin with? And does it really even matter who owns these teams (i.e. domestic vs. foreign, or supporters vs. billionaires and corporations) if the system itself perpetuates such consistent and predictable outcomes?  Ironically, it's here in the USA (home of the Glazers, FSG, and Kroenke) where we actually have competitive balance and shared prosperity, thanks to a rather socialist set of governing mechanisms like team salary caps, luxury taxes, maximum player salaries, league revenue-sharing arrangements, and a draft among a common pool of prospects based on reverse order of the standings. The entire system is designed to ensure that each team has a relatively equal chance of success, which I'd argue actually enhances the notion of \"sporting merit.\" Just last year, both our NFL and NHL champs were from Tampa Bay, Florida and our MLS champion was from Columbus, Ohio which was the smallest market in the league. The Utah Jazz and Phoenix Suns currently have the two best records in the NBA. The Pittsburgh Steelers and Green Bay Packers are two of the strongest brands and consistent winners in the NFL despite their small home markets. Likewise, MLS is still a young and growing league that can't compare to EPL on the pitch. But consider that we've had 7 different teams win MLS Cup over the past 8 seasons. In any given season, any team from any one of our leagues can rise to the top based on \"sporting merit.\" That's just not the case in European football. The outcomes are predicable and consistent because the the big clubs use their economies of scale to dominate the small clubs.   So, in the aftermath of the ESL fallout, I hope the powers-that-be actually do something to address the root cause of this whole mess rather than just blaming it on greedy foreign owners. Prior attempts like financial fair play have been an absolute joke, and it's time that the leagues themselves, along with UEFA, recognize and address the fact that THEY created the circumstances, either through their action or inaction, that gave rise to the ESL proposal in the first place.  \n",
       "49                                                                                                                                                                                                                                                                                                                                                                                                                                                                                                                                                                                                                                                                                                                                                                                                                                                                                                                                                                                                                                                                                                                                                                                                                                                                                                                                                                                                                                                                                                                                                                                                                                                                                                                                                                                                                                                                                                                                                                                                                                                                                                                                                                                                                                                                                                                                                                                                                                                                                                                                                                                                                                                                                                                                                                                                                                                                                                                                                                                                                     Before saying this, remember, it's just my opinion. you dont have to be offended if you don't agree with any/all ideas.  Also remember that football rules arent the same since the game was invented, many changed were made from the moment it was invented,  for example, when the rules were drafted offside rule was meant to not no allow forward passing at all except if behind goal line , or how denmark won the euros in 1992 by back passing to the keeper and he could just constantly waste time + grab the ball from backpasses.      So what i think its wrong with football:     * players act like spoilt children and refs have no authority  https://preview.redd.it/pyy165udsxu61.jpg?width=1740 format=pjpg auto=webp s=16325f78056bc5be324b54d661c66af62d94078f  Too much bitching to refs, refs being circled/ganged/bullies on by players to give out cards/penalties.  This in my opinion has to stop.   How?  Simple,  cards to anyone that goes and shouts on refs face without warnings. we need some respect.  watch rugby for example,  players build like a house that could rip refs head off with a slap and YET... they all listen and respect.  I would love to see that in football too, would also love to hear the refs mic over comentators throwing us filler stats. (example of refs mic'ed: [https://www.youtube.com/watch?v=kAqctGNTouc](https://www.youtube.com/watch?v=kAqctGNTouc ab_channel=BTSport) )     * Players diving / acting like they just broke a bone for every little touch  https://i.redd.it/z0k9l3o4txu61.gif  https://i.redd.it/vvbfjm2lsxu61.gif    the ridiculousness of players jumping on floor holding on their feet and screaming like they just got shot is pathetic.  there's no need for this, but it will happen until referees stop being persuaded into giving cards based on the ridiculousness of dives.  How to fix it?  with a bit of the no drama rule on the refs, and adjustments on how VAR works, would be far less common.  potentially even suspending players (post match analysis) that changed the outcome of the game by diving.      * VAR     https://i.redd.it/d2c7d2ontxu61.gif  VAR needs to be standartised, FASTER and have as much power of decision as the ref. There must be set rules for camera placements for var (for example high vertical cameras pointing down to check offsides instead of trying to randomly calculate if something is offside by humans setting points manually and guesstimating heigh/angles, which isnt 100% accurate).   VAR should also just have the option to communicate over \"its a penalti\" without all the drama of refs having to go into little screens etc.      * TIME WASTING (THIS IS A BIG ONE FOR ME)  https://i.redd.it/mqankxddvxu61.gif  https://i.redd.it/1vxw83eduxu61.gif  With some PL games having as little of 50min PLAYED time, i think this one is absolutely ridiculous.  More and more time wasting is becoming part of the game.  watch any game that is with 1 goal up, from minute 70 to the end of the match, you will see 5 to 10 minutes of actual football, the rest is:   Players taking too long to take freekicks/goalkicks/throw ins   Players faking cramps/injusties  Players not letting the losing team taking their freekicks /kicking the ball away from the stop, standing in the way, throwing the ball too high over the player, and so on.    We even have ball boys throwing a 2nd ball in on a throw in to stop the game or worse, grabbing hold of it and not giving it to the loosing team (example above) .   How to fix it?   VERY SIMPLE:     make games 60min (30 per half) and stop the clock when the ball is out of play.  for the purists, this will result in the exact same amount of football per game,  just shaves out all the time players are faking injuries and standing around not taking their freekicks wasting time. unless you actually want games to take longer to finish and have the same amount of played time.     Any ideas/changes you would like to see in football?  please share your thoughts  \n",
       "...                                                                                                                                                                                                                                                                                                                                                                                                                                                                                                                                                                                                                                                                                                                                                                                                                                                                                                                                                                                                                                                                                                                                                                                                                                                                                                                                                                                                                                                                                                                                                                                                                                                                                                                                                                                                                                                                                                                                                                                                                                                                                                                                                                                                                                                                                                                                                                                                                                                                                                                                                                                                                                                                                                                                                                                                                                                                                                                                                                                                                                                                                                                                                                                                                                                                                                                                                                                                                                                                                                                                                                                                                                                                                                                                                                                                                                                                                                                                                                                                                                                                                                                                                                                                                                                                                                                                                                                                                                                                                                                                                                                                                                                                                                                                                                                                                                                                                                                                                                                                                                                                                                                                                                                                                                                                                                                                                                                                                                                                                                                                                                                                                                                                                                                                                                                                                                                                                                                                                                                                                                                                                                                                                                                                                                                                                                                                                                                                                                                                                                                                                                                                                                                                                                                                                                                                                                                                                                                                                                                                                                                                                                                                         ...  \n",
       "5344   Wednesday, 9 May 2018        What else can you say that has not been said about the Greatness of Sir Alex Ferguson in regards to Manchester United Football Club?        27 Seasons of passion, seasons of love but most importantly, seasons filled with numerous success. Who can compare to this man in terms of the history of Manchester United. Sir Bryan Robson is on manager who able to even come close to This Managers status level when success is been put into account around Old Trafford. but even in the midst of legends like Sir Bryan Robson and Sir Bobby Charlton, this one manager can still hold his head high and stand up tall and be called Manchester United’s Greatest Manager of all time. The Manager in question here is none other than the great Sir Alex Ferguson. Sir Ferguson has been regarded as beacon of Positivity, beacon of success and used on multiple occasions as a sign of what the club can still accomplish in the future. Manchester United have always associated with so much positive news these past few years but the recent news from Manchester United Association has been one that has the clubs entire fan base in complete shock and total sadness as Manchester United announced that the greatest manager the club has ever had, has been hospitalized. The news broke out days after a matter of hours into Manchester United’s shocking post loss to Brighton on Friday night. Naturally, so much news stations and sports newspaper all over England has immediately jumped on the opportunity to broadcast the story using any vital piece of information that each tabloid was able to conjure up in the limited time between the exact moment the story dropped and the moment each news tabloid was provided, credible, information on the news.         While so many other news source has made the choice of delivering as much information to the public, The ManchesterUnitedPost reserves the right of choice and the right of privacy. In-other-words, The ManchesterUnitedPost has chosen not to the discuss any matter in regards to Sir Alex Fergusons personals situation. Sir Ferguson is a well loved figure and a person with massive positive influence in the Manchester United and further inquiry into Fergusons personal life might trigger an infringement in Fergusons rights to privacy. The ManchesterUnitedPost will however let the Public know that the clubs Legendary Manager has undergone a major successful brain surgery on Sunday, May 6 2018 and has started his road to recovery and recuperation at Salford Royal Hospital, Manchester, England as of Sunday night. A man can be measured by the actions and the love, the respect and the recognitions of the people who knew the man. If that is the case, then Sir Alex Ferguson is considered as one of the greatest of the greatest as lots of messages from big name individuals associated with the world of football have been pouring in with well wishes to Ferguson as he recovers from his recent surgery.  Sam Allardyce, Mark Hughes, David Beckham, Gary Lineker, Edwin van Der Sar, Cristiano Ronaldo, Paul McGrath, Eric Cantona, Paul Schools, Robin van Persie and so many other superstar footballers and fans all posting well wishes to the iconic ex –Manchester United manager. Absolutely wonderful to see. The ManchesterUnitedPost will like to take this opportunity to say to Sir Alex Ferguson “Stay strong Sir! Hope to see you back on your feet and back in Old Trafford watching the game, with the fans again.                                                           On to the transfer news and transfer speculation section of todays article and once again the readers will not be the least bit surprised to hear that Manchester United have been linked with multiple variety of superstar footballers. Messi, Benzema, Shakhtar Donetsk midfielder Fred all rumoured to be Manchester United players by the end of the 2018 summer transfer window. But the news that has caught the attentions of tabloids is Manchester United’s apparent interest in 23 years old, Serbian, Midfielder Sergej Milinkovic. Milinkovic, as I have said, is 23 years old. He plays on the typical central defensive midfield role. He loves intercepting the opponents’ attacks in the midfield and he will willingly make the right pass for his team to create an attacking opportunity for themselves. Plus, he is also a willing runner. So already, Sergej Milinkovic appears to have all the qualities Mourinho loves in a player.  Strong, Quick, Smart tackler and judging from the players’ statistic, Sergej seems to be a defensive minded player which is one quality Mourinho clearly values highly so there is serious reason to believe the reports of Manchester United’s interest in Milinkovic. But sadly enough, there is also reason to believe that this report has no validity to the story and therefore might be nothing but a hoax. On May 7 Milinkovic Agent, Matej Kezman, spoke up for the first time on the reports linking his client with a move to Manchester United and Kezman responded by saying “Lazio have three big games to go and nobody has talked about any negotiations this moment. The Biancicelesti have the opportunity to get their best result of recent years by qualifying for the Champions League. It’s only normal that there is enormous interest in Sergei between some top European clubs, but we do not have any agreement with any club.”  Now while some Manchester United fans might view this development as completely disappointing, other Manchester United fans might choose to view the statement in a completely different perspective. Milinkovic agent has not chosen to publicly deny any possibility of a deal being done in the near future, the agent has simply stated that at the moment Sergei is an Lazio player until the end of the season. So a deal could still be in the cards for Manchester United to cash in on from now till the end of the summer. Should Manchester United decide to cash in on Milinkovic, the Serbian will be valued at a rate of 70, 00 million pounds or more.   As far as Manchester United fans are concerned, the only action left for the fans to take will be to wait and see what road Mourinho and Manchester United’s board of directors decide take will be entirely up for debate. 70 Million pounds does not sound like an impossible amount for Manchester United to spend considering the amount of money Mourinho has spent on the course of last summer to this past January’s transfer market. A replacement for the departing Michael Carrick is certainly needed and Milinkovic certainly appears to be the right man to fill the gap but the question is : Will Manchester United board make a serious bid? Or look in another direction? TheManchesterUnitedPost.com will keep the fans posted for any future development on this story.  famboy121 at 01:10   https://oldtraffordfaithful.blogspot.ca/?m=1   \n",
       "5414                                                                                                                                                                                                                                                                                                                                                                                                                                                                                                                                                                                                                                                                                                                                                                                                                                                                                                                                                                                                                                                                                                                                                                                                                                                                                                                                                                                                                                                                                                                                                                                                                                                                                                                                                                                                                                                                                                                                                                                                                                                                                                                                                                                                                                                                                                                                                                                                                                                                                                                                                                                                                                                                                                                                                                                                                                                                                                                                                                                                                                                                                                                                                                                                                                                                                                                                                                                                                                                                                                                                                                                                                                                                                                                                                                                                                                                                                                                                                                                                                                                                                                                                                                                                                                                                                                                                                                                                                                                                                                                                          Hi all,    Over the past summer I wrote a book about the past 20 years of Sunderland AFC's history. Ordinarily I wouldn't be quite so self-promotional but I've been advised by a few non-Sunderland fans who bought the book in hard copy that they thoroughly enjoyed reading it, and felt it offered a good insight into how not to run a football club - as well as a good look at how not to go about staying in the Premier League. Hence, I thought I'd spread the word a bit further afield.  The book sold out in hard copy and received positive reviews across the board and, as a result, has recently been made available on the Amazon Kindle store. Having retailed on paper at £10, the digital version is now available for a mere  £2.99 .  I have reproduced the blurb below, along with a link to the book should anyone be interested.   *'It is twenty years since Sunderland AFC moved from Roker Park to a sparkling new home. The Stadium of Light opened its doors in 1997 and was, at that time, the third largest club football ground in England. It was a mammoth statement, one made all the more ambitious by the fact its inhabitants would be plying their trade in the second tier of English football.*  *‘Short-Changed’ takes a thematic look at the past two decades of Sunderland AFC, centring around the three men who have held the role as chairman in the Stadium of Light’s young history. Where Sir Bob Murray could point to the new home as his legacy, and Niall Quinn to his saving of the club from ruin, Ellis Short is devoid of much to shout about. During his time at the club, he has overseen a wasting of huge sums of money, and stood idly by as the club’s name has been tarnished by scandal and controversy.*  *The book covers football in abundance, charting the rocky path the club has travelled, as countless players and managers have came and went. ‘Short-Changed’ also takes a broader view, considering the pervading financial realities that have impacted Sunderland during their recent history, as well as looking at the connection between the football club and its wider community.*  *Drawing on exclusive interviews and considerable research, ‘Short-Changed’ is the story of a club that has wound up right back where it began when the Stadium of Light’s doors first opened.'*   You can buy a digital copy here:  [Short-Changed](https://www.amazon.co.uk/Short-Changed-Highs-Sunderland-During-Stadium-ebook/dp/B0794FBLP6/ref=sr_1_1?ie=UTF8 qid=1516819097 sr=8-1 keywords=short+changed+book)  \n",
       "5475                                                                                                                                                                                                                                                                                                                                                                                                                                                                                                                                                                                                                                                                                                                                                                                                                                                                                                                                                                                                                                                                                                                                                                                                                                                                                                                                                                                                                                                                                                                                                                                                                                                                                                                                                                                                                                                                                                                                                                                                                                                                                                                                                                                                                                                                                                                                                                                                                                                                                                                                                                                                                                                                                                                                                                                                                                                                                                                                                                                                                                                                                                                                                                                                                                                                                                                 I was thinking about Arsenal going the whole season unbeaten and it struck me what a mega achievement it was. Not sure which was more impressive between that and Leicester winning the league. Probably the latter, actually. Anyway:       In the 2003–04 season, Arsenal regained the Premier League without a single defeat. Over the 38 games played, their league record stood at 26 wins, 12 draws and 0 losses. The unbeaten run came close to ending six matches into the campaign against Manchester United, as striker Ruud van Nistelrooy missed a penalty in injury time; the match then ended 0–0. At the turn of the calendar year, Arsenal won nine league matches in a row to consolidate first position; they secured their status as champions with a draw against local rivals Tottenham Hotspur in April 2004. Their form did not continue into the domestic cups; Arsenal exited the semi-final stage of the Football League Cup and the FA Cup to eventual winners Middlesbrough and Manchester United, respectively. In Europe, Arsenal reached the quarter-final stage of the UEFA Champions League where they were eliminated by London rivals Chelsea.       Arsenal captain Patrick Vieira presented with the trophy at Highbury on the final day of the season.           Continuing into the next season, a special gold version of the Premier League trophy was commissioned to commemorate Arsenal winning the title without a single defeat. In their second Premier League game of 2004–05, Arsenal beat Middlesbrough to equal Nottingham Forest's record of 42 league matches unbeaten; the feat was eclipsed with a win at home to Blackburn Rovers. The run extended to six more matches for a total of 49 league games undefeated, before coming to an end with a controversial 2–0 defeat to Manchester United. The Guardian noted that Arsenal never trailed in the last 20 minutes of a game during their unbeaten run.   The last sentence makes it even more impressive; they never ever even looked like losing, really.      Well Man City have started the 2017/18 season fantastically well, and it's only a matter of time before the media starts wondering if they'll go the whole season unbeaten. We're only nine games in but so far they've pretty much battered everyone they've played in the league, having won eight of those and drawn 1-1 at home to Everton in the second game of the season. They have scored 32 and conceded only 4.                      Last season Man City finished 3rd in the league. The rest of the top six were Chelsea, Spurs, Liverpool, Arsenal and United. Out of those, so far they've only played Liverpool at home and Chelsea away.              Chelsea       Home: Saturday 3rd March      Away: 0-1                         Tottenham     Home: Saturday 16th December     Away: Saturday 14th April              Liverpool      Home: 5-0      Away: Saturday 13th January              Arsenal     Home: Sunday 5th November     Away: Saturday 24th February                    Man United     Home: Saturday 7th April     Away: Sunday 10th December                Does Reddit reckon they can go 38 games without defeat? What will be the key to making it happen? Or why won't it happen?          They're free-scoring and have so many options so rotating during a busy schedule due to other competitions shouldn't be a problem. And previously their defence has looked a bit shonky but lately they've been pretty damn good, even with Delph at left-back.          Although they may be about to go out the League Cup to Wolves, lol.                Feel free to discuss this topic on [TheThirdHalf.co.uk](http://www.thethirdhalf.co.uk/showthread.php?1918-Can-Man-City-Become-The-Invincibles)  \n",
       "5481                                                                                                                                                                                                                                                                                                                                                                                                                                                                                                                                                                                                                                                                                                                                                                                                                                                                                                                                                                                                                                                                                                                                                                                                                                                                                                                                                                                                                                                                                                                                                                                                                                                                                                                                                                                                                                                                                                                                                                                                                                                                                                                                                                                                                                                                                                                                                                                                                                                                                                                                                                             TL;DR  NFL fans looking to pick some EPL teams to cheer for, preferably finding a team that's somehow similar to the current NFL teams we root for.   In hopes that this doesn't come across as super douchey (Yes, you have to convince US why your club is worthy of our support!) my friend and I are both looking for Premier League teams to start cheering for. We've become increasingly disenchanted with the NFL as of late, particularly as it relates to player health and the seemingly constant injuries of key players, and we thought maybe a change of scenery would do us some good.        We're both pretty casual soccer fans who kind of got into the sport through playing FIFA on Xbox with friends at work and watching the US in the World Cup a few years ago. Outside of that we don't have much experience. Our thinking here was to provide you with our current favorite NFL teams and why we cheer for them in hopes of using that as sort of a guide to finding an EPL team that might have some things in common in terms of an organization or history. So without any further delay...      *  The Indianapolis Colts  - I grew up in Indiana and my dad bought season tickets to the Colts the year we drafted Peyton Manning. We've been cheering for them ever since. One of the things I'll always appreciate about the Colts, especially during the Manning/Dungy (their coach at the time) era, is the class they showcase when going about their business. Work hard, no excuses, build talent from the inside and little drama or ego to speak of, it's always team first.           The last few years have been a roller coaster as our franchise QB, Andrew Luck, has been plagued by injury and we've suffered a horrible GM (who we fired) that failed to build a team around him and a Coach who seems to be a total wet blanket. Our owner is a little crazy too and has a bit of a checkered past. We're hopeful our new GM will shake things up, boot the lame coach and hopefully build a solid team around our key player before we waste his entire career or get him killed on the field.         *  The Minnesota Vikings  - My friend has been a Vikings fan \"all his life, inheriting all the pain an misery that comes with it.\" His dad grew up in North Dakota and became a  Vikings fan, mostly because there are no actual professional teams to root for in North Dakota. The things my friend has appreciated about Minnesota is that they're generally pretty competitive with very good Defense. It also seems like they have some sort of generational talent on offense, be it players like Randy Moss and Adrian Peterson. But undoubtedly every year something goes horribly wrong. Missing chip shot field goals in the playoffs to lose a game, having a franchise QB blow out their knee in a non-contact practice exercise, their star rookie RB lose his season to a non-contact ACL tear, or having their coach ALMOST LOSE HIS GODDAMN EYESIGHT TO A SCRATCH THAT REQUIRED 8 SURGERIES TO FIX! Seriously, a stiff breeze is capable of hospitalizing a Minnesota Vikings player.  Despite having the 5th most Championship Appearances in NFL History, they have 0 wins to show for it. It's truly a [Shakespearean tragedy](https://www.youtube.com/watch?v=aZiwQnxSRUY)         The Vikings have a collection of solid young talent that could be pretty formidable if they ever all see the field at the same time. There's a lot to be hopeful for here too...you just have to spend every weekend praying that no one gets hurt.              So that's the gist. We look forward to reading your suggestions for EPL teams that might match our NFL Teams interesting ways. Double bonus if you find teams that match and also have a rivalry between one another (competition and shit talking always makes things more interesting!) Thanks in advance for all your help!        Edit  I did have one additional data point/funny story that I thought might be worth mentioning. My entire life my mother told me we were part Irish (our Grandfather is a huge Notre Dame Football fan). For my wedding, my father in law arranged one of his Irish friends to give an Irish blessing during the reception dinner. A week before the wedding I wanted to confirm our Irish heritage with my mother, who told me \"Well I don't really know. Ask your uncle.\" Asked my uncle, turns out we're part Welsh. If I went by this alone I guess I'd be Swansea/Cardiff City?   \n",
       "5601                                                                                                                                                                                                                                                                                                                                                                                                                                                                                                                                                                                                                                                                                                                                                                                                                                                                                                                                                                                                                                                                                                                                                                                                                                                                                                                                                                                                                                                                                                                                                                                                                                                                                                                                                                                                                                                                                                                                                                                                                                                                                                                                                                                                                                                                                                                                                                                                                                                                                                                                                                                                                                                                                                                                                                                                                                                                                                                                                                                                                                                                                                                                                                                                                                                                                                                                                                                                                                                                                                                                                                                                                                                                                                                                                                                                                                                                                                                                                                                                                                                                                                                                                                                                                                                                                                                                                                                                                                                                                                                                                                                                                                                                                                                                                                                                                              Hey, /r/PremierLeague. For those that are unaware, NBC Universal [has announced today](https://archive.fo/uBdin) that Premier League fans in the US will now have to pay a second subscription fee to watch all PL matches on the $50 \"Premier League Pass.\"   The only matches that will be readily available are those scheduled to be on NBC and NBCSN - referred to by NBC as \"marquee matchups.\" Meaning that the most popular PL teams will receive the lion's share of the coverage on NBC and NBCSN - leaving fans of non \"marquee\" teams having to pay $50 for the chance at watching their team's games.  I and many feel that this is unfair, and seeing as NBCSN is already a paid subscription, that NBC should continue to provide viewers with the ability to watch the match of their choosing utilizing their existing subscription. At the very least, they should allow subscribers of NBCSN to chose their \"favorite team,\" and allow them to watch that team's matches with the standard NBCSN subscription.   If you think that what NBC is doing is shitty, I encourage you to:  * [Submit a consumer complaint to the FCC](https://consumercomplaints.fcc.gov/hc/en-us/requests/new?ticket_form_id=33794) * Tweet your complaints to [@FCC](https://twitter.com/FCC) and [@NBCSports](https://twitter.com/NBCSports) utilizing the #PLonNBC hashtag * Include a link to the [FCC Consumer Complaint Form](https://consumercomplaints.fcc.gov/hc/en-us/requests/new?ticket_form_id=33794) in your tweet if so desired  I realize that we all have \"free\" options for streaming, but I feel we should all let NBC and the FCC know that these sorts of unfair tactics are terrible. Subscribers to NBCSN are already paying a premium to access Premier League content, and a second subscription requirement is a disgusting money-grab.   If you would like an example of what to say in your complaint to the FCC, [here's a screenshot of my complaint to the FCC](https://twitter.com/BradGroux/status/879921160540082176) ([jpg](https://pbs.twimg.com/media/DDYayizU0AAkY76.jpg)).  TL;DR - If you're unhappy with NBC's new premium \"Premiere League Pass\" subscription, [complain to the FCC](https://consumercomplaints.fcc.gov/hc/en-us/requests/new?ticket_form_id=33794).   \n",
       "\n",
       "[215 rows x 8 columns]"
      ]
     },
     "execution_count": 91,
     "metadata": {},
     "output_type": "execute_result"
    }
   ],
   "source": [
    "df[df['post'].str.len()>2000]"
   ]
  },
  {
   "cell_type": "code",
   "execution_count": null,
   "metadata": {},
   "outputs": [],
   "source": []
  }
 ],
 "metadata": {
  "kernelspec": {
   "display_name": "Python 3",
   "language": "python",
   "name": "python3"
  },
  "language_info": {
   "codemirror_mode": {
    "name": "ipython",
    "version": 3
   },
   "file_extension": ".py",
   "mimetype": "text/x-python",
   "name": "python",
   "nbconvert_exporter": "python",
   "pygments_lexer": "ipython3",
   "version": "3.8.5"
  },
  "toc": {
   "base_numbering": 1,
   "nav_menu": {},
   "number_sections": false,
   "sideBar": true,
   "skip_h1_title": false,
   "title_cell": "Table of Contents",
   "title_sidebar": "Contents",
   "toc_cell": false,
   "toc_position": {
    "height": "656px",
    "left": "22px",
    "top": "110px",
    "width": "346px"
   },
   "toc_section_display": true,
   "toc_window_display": true
  },
  "varInspector": {
   "cols": {
    "lenName": 16,
    "lenType": 16,
    "lenVar": 40
   },
   "kernels_config": {
    "python": {
     "delete_cmd_postfix": "",
     "delete_cmd_prefix": "del ",
     "library": "var_list.py",
     "varRefreshCmd": "print(var_dic_list())"
    },
    "r": {
     "delete_cmd_postfix": ") ",
     "delete_cmd_prefix": "rm(",
     "library": "var_list.r",
     "varRefreshCmd": "cat(var_dic_list()) "
    }
   },
   "types_to_exclude": [
    "module",
    "function",
    "builtin_function_or_method",
    "instance",
    "_Feature"
   ],
   "window_display": false
  }
 },
 "nbformat": 4,
 "nbformat_minor": 4
}
