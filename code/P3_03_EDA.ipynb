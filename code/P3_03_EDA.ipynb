{
 "cells": [
  {
   "cell_type": "markdown",
   "metadata": {},
   "source": [
    "<span style=\"font-family:Trebuchet MS; font-size:2em;\">Project 3 | NB3: EDA</span>\n",
    "\n",
    "Riley Robertson | Reddit Classification Project | "
   ]
  },
  {
   "cell_type": "markdown",
   "metadata": {},
   "source": [
    "# Imports and setup"
   ]
  },
  {
   "cell_type": "code",
   "execution_count": 5,
   "metadata": {
    "ExecuteTime": {
     "end_time": "2021-04-29T04:50:32.485264Z",
     "start_time": "2021-04-29T04:50:32.481513Z"
    }
   },
   "outputs": [],
   "source": [
    "# basics\n",
    "import requests\n",
    "import pandas as pd\n",
    "import numpy as np\n",
    "import matplotlib.pyplot as plt\n",
    "\n",
    "# custom\n",
    "import utilities.densmore as dns"
   ]
  },
  {
   "cell_type": "markdown",
   "metadata": {},
   "source": [
    "**Data Import**"
   ]
  },
  {
   "cell_type": "code",
   "execution_count": 2,
   "metadata": {
    "ExecuteTime": {
     "end_time": "2021-04-29T04:47:45.701564Z",
     "start_time": "2021-04-29T04:47:45.524484Z"
    }
   },
   "outputs": [],
   "source": [
    "df = pd.read_csv('../data/reddit_posts_clean.csv')"
   ]
  },
  {
   "cell_type": "markdown",
   "metadata": {},
   "source": [
    "---"
   ]
  },
  {
   "cell_type": "markdown",
   "metadata": {},
   "source": [
    "To Dos"
   ]
  },
  {
   "cell_type": "code",
   "execution_count": null,
   "metadata": {},
   "outputs": [],
   "source": [
    "# Overlaid filled line plot of post length from each sub"
   ]
  },
  {
   "cell_type": "code",
   "execution_count": null,
   "metadata": {},
   "outputs": [],
   "source": [
    "# Look at failed full text of failed predictions. why might they have been misclassified?"
   ]
  },
  {
   "cell_type": "code",
   "execution_count": null,
   "metadata": {},
   "outputs": [],
   "source": [
    "# Confusion Matrix"
   ]
  },
  {
   "cell_type": "code",
   "execution_count": null,
   "metadata": {},
   "outputs": [],
   "source": [
    "# "
   ]
  },
  {
   "cell_type": "code",
   "execution_count": null,
   "metadata": {},
   "outputs": [],
   "source": []
  },
  {
   "cell_type": "markdown",
   "metadata": {},
   "source": [
    "# EDA"
   ]
  },
  {
   "cell_type": "markdown",
   "metadata": {},
   "source": [
    "## Investigating Post Lengths and Word Counts"
   ]
  },
  {
   "cell_type": "code",
   "execution_count": null,
   "metadata": {},
   "outputs": [],
   "source": [
    "df['post_length'] = df['selftext'].map(lambda x: len(x))\n",
    "df['post_word_count'] = df['selftext'].map(lambda x: len(x.split(' ')))"
   ]
  },
  {
   "cell_type": "code",
   "execution_count": null,
   "metadata": {},
   "outputs": [],
   "source": [
    "pd.reset_option('display.max_colwidth')"
   ]
  },
  {
   "cell_type": "code",
   "execution_count": 9,
   "metadata": {
    "ExecuteTime": {
     "end_time": "2021-04-29T05:49:58.892614Z",
     "start_time": "2021-04-29T05:49:58.883224Z"
    }
   },
   "outputs": [
    {
     "data": {
      "text/html": [
       "<div>\n",
       "<style scoped>\n",
       "    .dataframe tbody tr th:only-of-type {\n",
       "        vertical-align: middle;\n",
       "    }\n",
       "\n",
       "    .dataframe tbody tr th {\n",
       "        vertical-align: top;\n",
       "    }\n",
       "\n",
       "    .dataframe thead th {\n",
       "        text-align: right;\n",
       "    }\n",
       "</style>\n",
       "<table border=\"1\" class=\"dataframe\">\n",
       "  <thead>\n",
       "    <tr style=\"text-align: right;\">\n",
       "      <th></th>\n",
       "      <th>Unnamed: 0</th>\n",
       "      <th>subreddit</th>\n",
       "      <th>score</th>\n",
       "      <th>comments</th>\n",
       "      <th>index</th>\n",
       "      <th>tag</th>\n",
       "      <th>post_length</th>\n",
       "      <th>post_word_count</th>\n",
       "      <th>title</th>\n",
       "      <th>post</th>\n",
       "      <th>alltext</th>\n",
       "    </tr>\n",
       "  </thead>\n",
       "  <tbody>\n",
       "    <tr>\n",
       "      <th>0</th>\n",
       "      <td>0</td>\n",
       "      <td>PremierLeague</td>\n",
       "      <td>1</td>\n",
       "      <td>164</td>\n",
       "      <td>1</td>\n",
       "      <td>Discussion</td>\n",
       "      <td>237</td>\n",
       "      <td>38</td>\n",
       "      <td>One day I hope Mourinho will go somewhere wher...</td>\n",
       "      <td>Everyone raves about defence being his strateg...</td>\n",
       "      <td>One day I hope Mourinho will go somewhere wher...</td>\n",
       "    </tr>\n",
       "  </tbody>\n",
       "</table>\n",
       "</div>"
      ],
      "text/plain": [
       "   Unnamed: 0      subreddit  score  comments  index         tag  post_length  \\\n",
       "0           0  PremierLeague      1       164      1  Discussion          237   \n",
       "\n",
       "   post_word_count                                              title  \\\n",
       "0               38  One day I hope Mourinho will go somewhere wher...   \n",
       "\n",
       "                                                post  \\\n",
       "0  Everyone raves about defence being his strateg...   \n",
       "\n",
       "                                             alltext  \n",
       "0  One day I hope Mourinho will go somewhere wher...  "
      ]
     },
     "execution_count": 9,
     "metadata": {},
     "output_type": "execute_result"
    }
   ],
   "source": [
    "df.head(1)"
   ]
  },
  {
   "cell_type": "markdown",
   "metadata": {},
   "source": [
    "### Character Count"
   ]
  },
  {
   "cell_type": "code",
   "execution_count": 6,
   "metadata": {
    "ExecuteTime": {
     "end_time": "2021-04-29T04:50:56.521561Z",
     "start_time": "2021-04-29T04:50:36.867069Z"
    }
   },
   "outputs": [
    {
     "data": {
      "image/png": "[encoded data removed]",
      "text/plain": [
       "<Figure size 1152x288 with 1 Axes>"
      ]
     },
     "metadata": {
      "needs_background": "light"
     },
     "output_type": "display_data"
    }
   ],
   "source": [
    "plt.figure(figsize = (16,4))\n",
    "\n",
    "plt.hist(df['post_length'],bins=13000)\n",
    "\n",
    "plt.xlim(left=-50)\n",
    "plt.xlim(right=1500)\n",
    "\n",
    "plt.title('Reddit Post Character Count Distribution', size = '18', pad = '14')\n",
    "\n",
    "plt.xlabel('Character Count', size = 16)\n",
    "plt.xticks(size = 12)\n",
    "\n",
    "plt.ylabel('Frequency of Count', size = 16)\n",
    "plt.yticks(size = 12);"
   ]
  },
  {
   "cell_type": "markdown",
   "metadata": {},
   "source": [
    "### Word Count"
   ]
  },
  {
   "cell_type": "code",
   "execution_count": 7,
   "metadata": {
    "ExecuteTime": {
     "end_time": "2021-04-29T04:51:06.170154Z",
     "start_time": "2021-04-29T04:50:56.571585Z"
    }
   },
   "outputs": [
    {
     "data": {
      "image/png": "[encoded data removed]",
      "text/plain": [
       "<Figure size 1152x288 with 1 Axes>"
      ]
     },
     "metadata": {
      "needs_background": "light"
     },
     "output_type": "display_data"
    }
   ],
   "source": [
    "plt.figure(figsize = (16,4))\n",
    "\n",
    "plt.hist(df['post_word_count'],bins=5000)\n",
    "\n",
    "plt.xlim(left=-50)\n",
    "plt.xlim(right=400)\n",
    "\n",
    "plt.title('Reddit Post Word Count Distribution', size = '18', pad = '14')\n",
    "\n",
    "plt.xlabel('Character Count', size = 16)\n",
    "plt.xticks(size = 12)\n",
    "\n",
    "plt.ylabel('Frequency of Count', size = 16)\n",
    "plt.yticks(size = 12);"
   ]
  },
  {
   "cell_type": "markdown",
   "metadata": {},
   "source": [
    "## Investigating Distribution of Post Creation Dates"
   ]
  },
  {
   "cell_type": "code",
   "execution_count": 8,
   "metadata": {
    "ExecuteTime": {
     "end_time": "2021-04-29T04:51:06.230610Z",
     "start_time": "2021-04-29T04:51:06.214710Z"
    },
    "scrolled": true
   },
   "outputs": [
    {
     "data": {
      "text/html": [
       "<div>\n",
       "<style scoped>\n",
       "    .dataframe tbody tr th:only-of-type {\n",
       "        vertical-align: middle;\n",
       "    }\n",
       "\n",
       "    .dataframe tbody tr th {\n",
       "        vertical-align: top;\n",
       "    }\n",
       "\n",
       "    .dataframe thead th {\n",
       "        text-align: right;\n",
       "    }\n",
       "</style>\n",
       "<table border=\"1\" class=\"dataframe\">\n",
       "  <thead>\n",
       "    <tr style=\"text-align: right;\">\n",
       "      <th></th>\n",
       "      <th>Unnamed: 0</th>\n",
       "      <th>subreddit</th>\n",
       "      <th>score</th>\n",
       "      <th>comments</th>\n",
       "      <th>index</th>\n",
       "      <th>tag</th>\n",
       "      <th>post_length</th>\n",
       "      <th>post_word_count</th>\n",
       "      <th>title</th>\n",
       "      <th>post</th>\n",
       "      <th>alltext</th>\n",
       "    </tr>\n",
       "  </thead>\n",
       "  <tbody>\n",
       "    <tr>\n",
       "      <th>0</th>\n",
       "      <td>0</td>\n",
       "      <td>PremierLeague</td>\n",
       "      <td>1</td>\n",
       "      <td>164</td>\n",
       "      <td>1</td>\n",
       "      <td>Discussion</td>\n",
       "      <td>237</td>\n",
       "      <td>38</td>\n",
       "      <td>One day I hope Mourinho will go somewhere wher...</td>\n",
       "      <td>Everyone raves about defence being his strateg...</td>\n",
       "      <td>One day I hope Mourinho will go somewhere wher...</td>\n",
       "    </tr>\n",
       "  </tbody>\n",
       "</table>\n",
       "</div>"
      ],
      "text/plain": [
       "   Unnamed: 0      subreddit  score  comments  index         tag  post_length  \\\n",
       "0           0  PremierLeague      1       164      1  Discussion          237   \n",
       "\n",
       "   post_word_count                                              title  \\\n",
       "0               38  One day I hope Mourinho will go somewhere wher...   \n",
       "\n",
       "                                                post  \\\n",
       "0  Everyone raves about defence being his strateg...   \n",
       "\n",
       "                                             alltext  \n",
       "0  One day I hope Mourinho will go somewhere wher...  "
      ]
     },
     "execution_count": 8,
     "metadata": {},
     "output_type": "execute_result"
    }
   ],
   "source": [
    "df.head(1)"
   ]
  },
  {
   "cell_type": "code",
   "execution_count": 78,
   "metadata": {
    "ExecuteTime": {
     "end_time": "2021-04-29T04:36:38.457906Z",
     "start_time": "2021-04-29T04:36:37.891389Z"
    }
   },
   "outputs": [
    {
     "data": {
      "image/png": "[encoded data removed]",
      "text/plain": [
       "<Figure size 1152x288 with 1 Axes>"
      ]
     },
     "metadata": {
      "needs_background": "light"
     },
     "output_type": "display_data"
    }
   ],
   "source": [
    "plt.figure(figsize = (16,4))\n",
    "\n",
    "plt.hist(df['datetime'],bins=300)\n",
    "\n",
    "plt.title('Reddit Post Frequency by Date', size = '18', pad = '14')\n",
    "\n",
    "plt.xlabel('Date', size = 16)\n",
    "plt.xticks(ticks=['2018-01-01', '2019-01-01', '2020-01-01', '2021-01-01'], size = 12)\n",
    "\n",
    "plt.ylabel('Count', size = 16)\n",
    "plt.yticks(size = 12);"
   ]
  },
  {
   "cell_type": "markdown",
   "metadata": {},
   "source": [
    "Combined, the NFL and EPL posts span a number of years - as far back as mid 2017. There's a gentle increase in post count over time, but for the most part, the changes aren't dramatic. Our spread of posts seems good, offering a wide sample of data."
   ]
  },
  {
   "cell_type": "code",
   "execution_count": 79,
   "metadata": {
    "ExecuteTime": {
     "end_time": "2021-04-29T04:36:38.473917Z",
     "start_time": "2021-04-29T04:36:38.462963Z"
    }
   },
   "outputs": [
    {
     "data": {
      "text/plain": [
       "nfl              6980\n",
       "PremierLeague    5545\n",
       "Name: subreddit, dtype: int64"
      ]
     },
     "execution_count": 79,
     "metadata": {},
     "output_type": "execute_result"
    }
   ],
   "source": [
    "df['subreddit'].value_counts()"
   ]
  },
  {
   "cell_type": "markdown",
   "metadata": {},
   "source": [
    "#### NFL"
   ]
  },
  {
   "cell_type": "code",
   "execution_count": 80,
   "metadata": {
    "ExecuteTime": {
     "end_time": "2021-04-29T04:36:38.482672Z",
     "start_time": "2021-04-29T04:36:38.476313Z"
    }
   },
   "outputs": [],
   "source": [
    "df_nfl_dates = df[df['subreddit'] == nfl]"
   ]
  },
  {
   "cell_type": "code",
   "execution_count": 81,
   "metadata": {
    "ExecuteTime": {
     "end_time": "2021-04-29T04:36:39.063094Z",
     "start_time": "2021-04-29T04:36:38.484804Z"
    }
   },
   "outputs": [
    {
     "data": {
      "image/png": "[encoded data removed]",
      "text/plain": [
       "<Figure size 1152x288 with 1 Axes>"
      ]
     },
     "metadata": {
      "needs_background": "light"
     },
     "output_type": "display_data"
    }
   ],
   "source": [
    "plt.figure(figsize = (16,4))\n",
    "\n",
    "plt.hist(df_nfl_dates['datetime'],bins=300)\n",
    "\n",
    "plt.ylim(top=60)\n",
    "\n",
    "plt.title('r/nfl Post Frequency by Date', size = '18', pad = '14')\n",
    "\n",
    "plt.xlabel('Date', size = 16)\n",
    "plt.xticks(ticks=['2018-01-01', '2019-01-01', '2020-01-01', '2021-01-01'], size = 12)\n",
    "\n",
    "plt.ylabel('Count', size = 16)\n",
    "plt.yticks(size = 12);"
   ]
  },
  {
   "cell_type": "markdown",
   "metadata": {},
   "source": [
    "By itself, the NFL posts are very even across the timeline.  \n",
    "The changes we saw in the graph above are likely from the EPL posts, which we can investigate next."
   ]
  },
  {
   "cell_type": "markdown",
   "metadata": {},
   "source": [
    "#### EPL"
   ]
  },
  {
   "cell_type": "code",
   "execution_count": 82,
   "metadata": {
    "ExecuteTime": {
     "end_time": "2021-04-29T04:36:39.073091Z",
     "start_time": "2021-04-29T04:36:39.068368Z"
    }
   },
   "outputs": [],
   "source": [
    "df_epl_dates = df[df['subreddit'] == epl]"
   ]
  },
  {
   "cell_type": "code",
   "execution_count": 83,
   "metadata": {
    "ExecuteTime": {
     "end_time": "2021-04-29T04:36:40.019998Z",
     "start_time": "2021-04-29T04:36:39.076726Z"
    },
    "scrolled": true
   },
   "outputs": [
    {
     "data": {
      "image/png": "[encoded data removed]",
      "text/plain": [
       "<Figure size 1152x288 with 1 Axes>"
      ]
     },
     "metadata": {
      "needs_background": "light"
     },
     "output_type": "display_data"
    }
   ],
   "source": [
    "plt.figure(figsize = (16,4))\n",
    "\n",
    "plt.hist(df_epl_dates['datetime'],bins=300)\n",
    "\n",
    "plt.ylim(top=60) \n",
    "\n",
    "plt.title('r/PremierLeague Post Frequency by Date', size = '18', pad = '14')\n",
    "\n",
    "plt.xlabel('Date', size = 16)\n",
    "plt.xticks(ticks=['2018-01-01', '2019-01-01', '2020-01-01', '2021-01-01'], size = 12)\n",
    "\n",
    "plt.ylabel('Count', size = 16)\n",
    "plt.yticks(size = 12);"
   ]
  },
  {
   "cell_type": "markdown",
   "metadata": {},
   "source": [
    "As suspected, there is a far less consistency in post volume over time, quite possibly due to the kinds of posts I removed during the cleaning process. I limited the y axis on both charts to 60 for the sake of comparison. The least-represented data is EPL posts from 2017 through most of 2019. I don't think the lack of consistency will cause a problem in our analysis, but I can always come back and adjust my cleaning process to retain a larger number of posts from the PremierLeague subreddit."
   ]
  }
 ],
 "metadata": {
  "kernelspec": {
   "display_name": "Python 3",
   "language": "python",
   "name": "python3"
  },
  "language_info": {
   "codemirror_mode": {
    "name": "ipython",
    "version": 3
   },
   "file_extension": ".py",
   "mimetype": "text/x-python",
   "name": "python",
   "nbconvert_exporter": "python",
   "pygments_lexer": "ipython3",
   "version": "3.8.5"
  },
  "toc": {
   "base_numbering": 1,
   "nav_menu": {},
   "number_sections": true,
   "sideBar": true,
   "skip_h1_title": false,
   "title_cell": "Table of Contents",
   "title_sidebar": "Contents",
   "toc_cell": false,
   "toc_position": {
    "height": "656px",
    "left": "22px",
    "top": "110px",
    "width": "277px"
   },
   "toc_section_display": true,
   "toc_window_display": true
  },
  "varInspector": {
   "cols": {
    "lenName": 16,
    "lenType": 16,
    "lenVar": 40
   },
   "kernels_config": {
    "python": {
     "delete_cmd_postfix": "",
     "delete_cmd_prefix": "del ",
     "library": "var_list.py",
     "varRefreshCmd": "print(var_dic_list())"
    },
    "r": {
     "delete_cmd_postfix": ") ",
     "delete_cmd_prefix": "rm(",
     "library": "var_list.r",
     "varRefreshCmd": "cat(var_dic_list()) "
    }
   },
   "types_to_exclude": [
    "module",
    "function",
    "builtin_function_or_method",
    "instance",
    "_Feature"
   ],
   "window_display": false
  }
 },
 "nbformat": 4,
 "nbformat_minor": 4
}
